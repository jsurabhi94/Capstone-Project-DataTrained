{
 "cells": [
  {
   "cell_type": "code",
   "execution_count": 1,
   "metadata": {},
   "outputs": [],
   "source": [
    "import selenium\n",
    "from selenium import webdriver\n",
    "from selenium.webdriver.common.by import By\n",
    "from selenium.webdriver.common.keys import Keys\n",
    "from selenium.webdriver.support.ui import WebDriverWait\n",
    "from selenium.webdriver.support import expected_conditions as EC\n",
    "from selenium.common.exceptions import NoSuchElementException, StaleElementReferenceException, ElementClickInterceptedException\n",
    "import time\n",
    "import warnings\n",
    "warnings.filterwarnings('ignore')\n",
    "import re\n"
   ]
  },
  {
   "cell_type": "code",
   "execution_count": 2,
   "metadata": {},
   "outputs": [],
   "source": [
    "# connecting to the driver\n",
    "driver = webdriver.Chrome(r\"C:\\Users\\LENOVO\\Downloads\\chromedriver.exe\")"
   ]
  },
  {
   "cell_type": "code",
   "execution_count": 3,
   "metadata": {},
   "outputs": [],
   "source": [
    "# opening the website\n",
    "website = \"https://www.booking.com/index.en-gb.html?aid=397646&label=yho748jc-1DCAEoggI46AdIM1gDaGyIAQGYAQm4ARfIAQzYAQPoAQGIAgGoAgO4Ap3Y96YGwAIB0gIkY2NlMDIyZmItZDdlZi00MWVkLWE5YzUtNmIzNmE1NWI\"\n",
    "driver.get(website)\n",
    "time.sleep(5)"
   ]
  },
  {
   "cell_type": "code",
   "execution_count": 4,
   "metadata": {},
   "outputs": [
    {
     "name": "stdout",
     "output_type": "stream",
     "text": [
      "Failed to close the pop-up\n"
     ]
    }
   ],
   "source": [
    "# XPath for the close button of the pop-up\n",
    "try:\n",
    "    close_button = driver.find_element(By.XPATH, '//div[@class=\"ffd93a9ecb dc19f70f85 eb67815534 e91f709929\"]/div')\n",
    "    close_button.click()\n",
    "except (NoSuchElementException, ElementClickInterceptedException):\n",
    "    # Handle the case when the close button is not found or cannot be clicked\n",
    "    print(\"Failed to close the pop-up\")"
   ]
  },
  {
   "cell_type": "code",
   "execution_count": 5,
   "metadata": {},
   "outputs": [],
   "source": [
    "#Scroll to the bottom of the page\n",
    "driver.execute_script(\"window.scrollTo(0, document.body.scrollHeight);\")"
   ]
  },
  {
   "cell_type": "code",
   "execution_count": 6,
   "metadata": {},
   "outputs": [],
   "source": [
    "# clicking the cities tab\n",
    "driver.find_element(By.XPATH, '//div[@id=\"footer_links\"]/div[1]/ul/li[3]/a').click()\n",
    "time.sleep(10)"
   ]
  },
  {
   "cell_type": "code",
   "execution_count": 7,
   "metadata": {},
   "outputs": [],
   "source": [
    "# Click to close the pop-up\n",
    "driver.find_element(By.XPATH, '//button[@class=\"bui-popover__close\"]').click()"
   ]
  },
  {
   "cell_type": "markdown",
   "metadata": {},
   "source": [
    "We have to scrape data for the following cities--\n",
    "1 Dubai, United Arab Emirates\n",
    "2 London, United Kingdom\n",
    "3 Kuala Lumpur, Malaysia\n",
    "4 Manchester\n",
    "5 New Delhi\n",
    "6 Birmingham\n",
    "7 Berlin\n",
    "8 Sydney\n",
    "9 Melbourne\n",
    "10  Paris\n",
    "11 Tokyo\n",
    "12 Toronto"
   ]
  },
  {
   "cell_type": "code",
   "execution_count": 8,
   "metadata": {},
   "outputs": [],
   "source": [
    "# Define the list of city names you're interested in\n",
    "cities_of_interest = [\"Dubai\", \"London\", \"Kuala Lumpur\",\"Manchester\", \"New Delhi\", \"Birmingham\", \"Berlin\",\n",
    "                      \"Sydney\",\"Melbourne\",\"Paris\", \"Tokyo\", \"Toronto\"]\n",
    "\n",
    "# Find all the city name elements\n",
    "name_elements = driver.find_elements(By.XPATH, '//div[@class=\"block_header\"]/h2/a')\n",
    "\n",
    "# Initialize a list to store the city names\n",
    "name = []\n",
    "\n",
    "for element in name_elements:\n",
    "    city_name = element.text\n",
    "    # Manipulate the text to extract the city name correctly\n",
    "    city_name = city_name.strip('Hotels in ').split(',')[0]\n",
    "    name.append(city_name)"
   ]
  },
  {
   "cell_type": "code",
   "execution_count": 9,
   "metadata": {},
   "outputs": [],
   "source": [
    "# finding the url for cities_of_interest\n",
    "\n",
    "# Initialize a list to store city URLs\n",
    "cities_url = []\n",
    "\n",
    "# Find the URLs for cities of interest\n",
    "for city_name, city_url in zip(name, driver.find_elements(By.XPATH, '//div[@class=\"block_header\"]/h2/a')):\n",
    "    if city_name in cities_of_interest:\n",
    "        cities_url.append(city_url.get_attribute('href'))"
   ]
  },
  {
   "cell_type": "code",
   "execution_count": 10,
   "metadata": {},
   "outputs": [
    {
     "data": {
      "text/plain": [
       "['https://www.booking.com/city/ae/dubai.en-gb.html?aid=397646&label=yho748jc-1FmAEJ2AEB-AENqAID2AIE&sid=c00874437fd345a43961cf114b437718&inac=0&',\n",
       " 'https://www.booking.com/city/gb/london.en-gb.html?aid=397646&label=yho748jc-1FmAEJ2AEB-AENqAID2AIE&sid=c00874437fd345a43961cf114b437718&inac=0&',\n",
       " 'https://www.booking.com/city/au/sydney.en-gb.html?aid=397646&label=yho748jc-1FmAEJ2AEB-AENqAID2AIE&sid=c00874437fd345a43961cf114b437718&inac=0&',\n",
       " 'https://www.booking.com/city/au/melbourne.en-gb.html?aid=397646&label=yho748jc-1FmAEJ2AEB-AENqAID2AIE&sid=c00874437fd345a43961cf114b437718&inac=0&',\n",
       " 'https://www.booking.com/city/fr/paris.en-gb.html?aid=397646&label=yho748jc-1FmAEJ2AEB-AENqAID2AIE&sid=c00874437fd345a43961cf114b437718&inac=0&',\n",
       " 'https://www.booking.com/city/de/berlin.en-gb.html?aid=397646&label=yho748jc-1FmAEJ2AEB-AENqAID2AIE&sid=c00874437fd345a43961cf114b437718&inac=0&',\n",
       " 'https://www.booking.com/city/gb/manchester.en-gb.html?aid=397646&label=yho748jc-1FmAEJ2AEB-AENqAID2AIE&sid=c00874437fd345a43961cf114b437718&inac=0&',\n",
       " 'https://www.booking.com/city/my/kuala-lumpur.en-gb.html?aid=397646&label=yho748jc-1FmAEJ2AEB-AENqAID2AIE&sid=c00874437fd345a43961cf114b437718&inac=0&',\n",
       " 'https://www.booking.com/city/ca/toronto.en-gb.html?aid=397646&label=yho748jc-1FmAEJ2AEB-AENqAID2AIE&sid=c00874437fd345a43961cf114b437718&inac=0&',\n",
       " 'https://www.booking.com/city/jp/tokyo.en-gb.html?aid=397646&label=yho748jc-1FmAEJ2AEB-AENqAID2AIE&sid=c00874437fd345a43961cf114b437718&inac=0&',\n",
       " 'https://www.booking.com/city/gb/birmingham.en-gb.html?aid=397646&label=yho748jc-1FmAEJ2AEB-AENqAID2AIE&sid=c00874437fd345a43961cf114b437718&inac=0&',\n",
       " 'https://www.booking.com/city/in/new-delhi.en-gb.html?aid=397646&label=yho748jc-1FmAEJ2AEB-AENqAID2AIE&sid=c00874437fd345a43961cf114b437718&inac=0&']"
      ]
     },
     "execution_count": 10,
     "metadata": {},
     "output_type": "execute_result"
    }
   ],
   "source": [
    "cities_url = cities_url[:12]\n",
    "cities_url"
   ]
  },
  {
   "cell_type": "code",
   "execution_count": 11,
   "metadata": {},
   "outputs": [
    {
     "name": "stdout",
     "output_type": "stream",
     "text": [
      "Failed to click\n",
      "Failed to click\n",
      "Failed to click\n",
      "Failed to click\n",
      "Failed to click\n",
      "Failed to click\n",
      "Failed to click\n",
      "Failed to click\n",
      "Failed to click\n",
      "Failed to click\n",
      "Failed to click\n"
     ]
    }
   ],
   "source": [
    "all_hotel_urls = []\n",
    "for url in cities_url:\n",
    "    driver.get(url)\n",
    "    \n",
    "    # Wait for the page to load successfully\n",
    "    WebDriverWait(driver, 10).until(EC.presence_of_element_located((By.TAG_NAME, \"body\")))\n",
    "    \n",
    "    # Click to load hotel details\n",
    "    driver.find_element(By.XPATH, '//div[@class=\"lp-bui-section bui-spacer--largest x2\"]').click()\n",
    "    \n",
    "    # select the calender dates\n",
    "    try:\n",
    "        checkin = driver.find_element(By.XPATH, '//div[@class=\"d4babb55ef\"]/div[1]/table/tbody/tr[4]/td[3]/span/span')\n",
    "        checkin.click()\n",
    "    \n",
    "        checkout = driver.find_element(By.XPATH, '//div[@class=\"d4babb55ef\"]/div[1]/table/tbody/tr[4]/td[4]/span/span')\n",
    "        checkout.click()\n",
    "    \n",
    "        search = driver.find_element(By.XPATH, '//div[@class=\"e22b782521 d12ff5f5bf\"]')\n",
    "        search.click()\n",
    "    \n",
    "    except (NoSuchElementException, ElementClickInterceptedException):\n",
    "        # Handle the case when the close button is not found or cannot be clicked\n",
    "        print(\"Failed to click\")\n",
    "    \n",
    "    # Loop through multiple pages (up to 40 pages)\n",
    "    for page in range(20):\n",
    "        try:\n",
    "                \n",
    "            # extracting url of hotel\n",
    "            url_elements = driver.find_elements(By.XPATH, '//div[@class=\"aca0ade214 aaf30230d9 cd2e7d62b0 b0db0e8ada\"]/div/div/div/div/div/div/h3/a')\n",
    "            for element in url_elements:\n",
    "                hotel = element.get_attribute('href')\n",
    "                all_hotel_urls.append(hotel)\n",
    "                \n",
    "            \n",
    "            # click the next page button\n",
    "            try:\n",
    "                next_button = driver.find_element(By.XPATH, '//div[@class=\"ef2dbaeb17\"]/div[3]/button/span/span')\n",
    "                next_button.click()\n",
    "            except NoSuchElementException:\n",
    "                # If the \"Next\" button is not found, break out of the loop\n",
    "                break\n",
    "        except StaleElementReferenceException:\n",
    "            # Handle StaleElementReferenceException by re-locating the element\n",
    "            continue\n",
    "    \n",
    "    "
   ]
  },
  {
   "cell_type": "code",
   "execution_count": 12,
   "metadata": {},
   "outputs": [
    {
     "name": "stdout",
     "output_type": "stream",
     "text": [
      "5811\n"
     ]
    }
   ],
   "source": [
    "# printing the lengths of the above scraped list\n",
    "\n",
    "print(len(all_hotel_urls))"
   ]
  },
  {
   "cell_type": "code",
   "execution_count": 13,
   "metadata": {},
   "outputs": [],
   "source": [
    "# Create an empty list to store the dictionaries for each hotel\n",
    "hotel_data_list = []"
   ]
  },
  {
   "cell_type": "code",
   "execution_count": 14,
   "metadata": {},
   "outputs": [
    {
     "ename": "WebDriverException",
     "evalue": "Message: unknown error: net::ERR_INTERNET_DISCONNECTED\n  (Session info: chrome=109.0.5414.120)\nStacktrace:\nBacktrace:\n\t(No symbol) [0x00456643]\n\t(No symbol) [0x003EBE21]\n\t(No symbol) [0x002EDA9D]\n\t(No symbol) [0x002E9E22]\n\t(No symbol) [0x002DFCFD]\n\t(No symbol) [0x002E1101]\n\t(No symbol) [0x002DFFDD]\n\t(No symbol) [0x002DF3BC]\n\t(No symbol) [0x002DF2D8]\n\t(No symbol) [0x002DDC68]\n\t(No symbol) [0x002DE512]\n\t(No symbol) [0x002EF75B]\n\t(No symbol) [0x00357727]\n\t(No symbol) [0x0033FD7C]\n\t(No symbol) [0x00356B09]\n\t(No symbol) [0x0033FB76]\n\t(No symbol) [0x003149C1]\n\t(No symbol) [0x00315E5D]\n\tGetHandleVerifier [0x006CA142+2497106]\n\tGetHandleVerifier [0x006F85D3+2686691]\n\tGetHandleVerifier [0x006FBB9C+2700460]\n\tGetHandleVerifier [0x00503B10+635936]\n\t(No symbol) [0x003F4A1F]\n\t(No symbol) [0x003FA418]\n\t(No symbol) [0x003FA505]\n\t(No symbol) [0x0040508B]\n\tBaseThreadInitThunk [0x75A0344D+18]\n\tRtlInitializeExceptionChain [0x77919802+99]\n\tRtlInitializeExceptionChain [0x779197D5+54]\n",
     "output_type": "error",
     "traceback": [
      "\u001b[1;31m---------------------------------------------------------------------------\u001b[0m",
      "\u001b[1;31mWebDriverException\u001b[0m                        Traceback (most recent call last)",
      "\u001b[1;32m<ipython-input-14-45e81e16541c>\u001b[0m in \u001b[0;36m<module>\u001b[1;34m\u001b[0m\n\u001b[0;32m      1\u001b[0m \u001b[1;32mfor\u001b[0m \u001b[0mi\u001b[0m \u001b[1;32min\u001b[0m \u001b[0mall_hotel_urls\u001b[0m\u001b[1;33m:\u001b[0m\u001b[1;33m\u001b[0m\u001b[1;33m\u001b[0m\u001b[0m\n\u001b[1;32m----> 2\u001b[1;33m     \u001b[0mdriver\u001b[0m\u001b[1;33m.\u001b[0m\u001b[0mget\u001b[0m\u001b[1;33m(\u001b[0m\u001b[0mi\u001b[0m\u001b[1;33m)\u001b[0m\u001b[1;33m\u001b[0m\u001b[1;33m\u001b[0m\u001b[0m\n\u001b[0m\u001b[0;32m      3\u001b[0m     \u001b[0mtime\u001b[0m\u001b[1;33m.\u001b[0m\u001b[0msleep\u001b[0m\u001b[1;33m(\u001b[0m\u001b[1;36m5\u001b[0m\u001b[1;33m)\u001b[0m\u001b[1;33m\u001b[0m\u001b[1;33m\u001b[0m\u001b[0m\n\u001b[0;32m      4\u001b[0m \u001b[1;33m\u001b[0m\u001b[0m\n\u001b[0;32m      5\u001b[0m     \u001b[1;31m# Create a dictionary to store data for the current hotel\u001b[0m\u001b[1;33m\u001b[0m\u001b[1;33m\u001b[0m\u001b[1;33m\u001b[0m\u001b[0m\n",
      "\u001b[1;32m~\\Anaconda3\\lib\\site-packages\\selenium\\webdriver\\remote\\webdriver.py\u001b[0m in \u001b[0;36mget\u001b[1;34m(self, url)\u001b[0m\n\u001b[0;32m    447\u001b[0m     \u001b[1;32mdef\u001b[0m \u001b[0mget\u001b[0m\u001b[1;33m(\u001b[0m\u001b[0mself\u001b[0m\u001b[1;33m,\u001b[0m \u001b[0murl\u001b[0m\u001b[1;33m:\u001b[0m \u001b[0mstr\u001b[0m\u001b[1;33m)\u001b[0m \u001b[1;33m->\u001b[0m \u001b[1;32mNone\u001b[0m\u001b[1;33m:\u001b[0m\u001b[1;33m\u001b[0m\u001b[1;33m\u001b[0m\u001b[0m\n\u001b[0;32m    448\u001b[0m         \u001b[1;34m\"\"\"Loads a web page in the current browser session.\"\"\"\u001b[0m\u001b[1;33m\u001b[0m\u001b[1;33m\u001b[0m\u001b[0m\n\u001b[1;32m--> 449\u001b[1;33m         \u001b[0mself\u001b[0m\u001b[1;33m.\u001b[0m\u001b[0mexecute\u001b[0m\u001b[1;33m(\u001b[0m\u001b[0mCommand\u001b[0m\u001b[1;33m.\u001b[0m\u001b[0mGET\u001b[0m\u001b[1;33m,\u001b[0m \u001b[1;33m{\u001b[0m\u001b[1;34m\"url\"\u001b[0m\u001b[1;33m:\u001b[0m \u001b[0murl\u001b[0m\u001b[1;33m}\u001b[0m\u001b[1;33m)\u001b[0m\u001b[1;33m\u001b[0m\u001b[1;33m\u001b[0m\u001b[0m\n\u001b[0m\u001b[0;32m    450\u001b[0m \u001b[1;33m\u001b[0m\u001b[0m\n\u001b[0;32m    451\u001b[0m     \u001b[1;33m@\u001b[0m\u001b[0mproperty\u001b[0m\u001b[1;33m\u001b[0m\u001b[1;33m\u001b[0m\u001b[0m\n",
      "\u001b[1;32m~\\Anaconda3\\lib\\site-packages\\selenium\\webdriver\\remote\\webdriver.py\u001b[0m in \u001b[0;36mexecute\u001b[1;34m(self, driver_command, params)\u001b[0m\n\u001b[0;32m    438\u001b[0m         \u001b[0mresponse\u001b[0m \u001b[1;33m=\u001b[0m \u001b[0mself\u001b[0m\u001b[1;33m.\u001b[0m\u001b[0mcommand_executor\u001b[0m\u001b[1;33m.\u001b[0m\u001b[0mexecute\u001b[0m\u001b[1;33m(\u001b[0m\u001b[0mdriver_command\u001b[0m\u001b[1;33m,\u001b[0m \u001b[0mparams\u001b[0m\u001b[1;33m)\u001b[0m\u001b[1;33m\u001b[0m\u001b[1;33m\u001b[0m\u001b[0m\n\u001b[0;32m    439\u001b[0m         \u001b[1;32mif\u001b[0m \u001b[0mresponse\u001b[0m\u001b[1;33m:\u001b[0m\u001b[1;33m\u001b[0m\u001b[1;33m\u001b[0m\u001b[0m\n\u001b[1;32m--> 440\u001b[1;33m             \u001b[0mself\u001b[0m\u001b[1;33m.\u001b[0m\u001b[0merror_handler\u001b[0m\u001b[1;33m.\u001b[0m\u001b[0mcheck_response\u001b[0m\u001b[1;33m(\u001b[0m\u001b[0mresponse\u001b[0m\u001b[1;33m)\u001b[0m\u001b[1;33m\u001b[0m\u001b[1;33m\u001b[0m\u001b[0m\n\u001b[0m\u001b[0;32m    441\u001b[0m             \u001b[0mresponse\u001b[0m\u001b[1;33m[\u001b[0m\u001b[1;34m\"value\"\u001b[0m\u001b[1;33m]\u001b[0m \u001b[1;33m=\u001b[0m \u001b[0mself\u001b[0m\u001b[1;33m.\u001b[0m\u001b[0m_unwrap_value\u001b[0m\u001b[1;33m(\u001b[0m\u001b[0mresponse\u001b[0m\u001b[1;33m.\u001b[0m\u001b[0mget\u001b[0m\u001b[1;33m(\u001b[0m\u001b[1;34m\"value\"\u001b[0m\u001b[1;33m,\u001b[0m \u001b[1;32mNone\u001b[0m\u001b[1;33m)\u001b[0m\u001b[1;33m)\u001b[0m\u001b[1;33m\u001b[0m\u001b[1;33m\u001b[0m\u001b[0m\n\u001b[0;32m    442\u001b[0m             \u001b[1;32mreturn\u001b[0m \u001b[0mresponse\u001b[0m\u001b[1;33m\u001b[0m\u001b[1;33m\u001b[0m\u001b[0m\n",
      "\u001b[1;32m~\\Anaconda3\\lib\\site-packages\\selenium\\webdriver\\remote\\errorhandler.py\u001b[0m in \u001b[0;36mcheck_response\u001b[1;34m(self, response)\u001b[0m\n\u001b[0;32m    243\u001b[0m                 \u001b[0malert_text\u001b[0m \u001b[1;33m=\u001b[0m \u001b[0mvalue\u001b[0m\u001b[1;33m[\u001b[0m\u001b[1;34m\"alert\"\u001b[0m\u001b[1;33m]\u001b[0m\u001b[1;33m.\u001b[0m\u001b[0mget\u001b[0m\u001b[1;33m(\u001b[0m\u001b[1;34m\"text\"\u001b[0m\u001b[1;33m)\u001b[0m\u001b[1;33m\u001b[0m\u001b[1;33m\u001b[0m\u001b[0m\n\u001b[0;32m    244\u001b[0m             \u001b[1;32mraise\u001b[0m \u001b[0mexception_class\u001b[0m\u001b[1;33m(\u001b[0m\u001b[0mmessage\u001b[0m\u001b[1;33m,\u001b[0m \u001b[0mscreen\u001b[0m\u001b[1;33m,\u001b[0m \u001b[0mstacktrace\u001b[0m\u001b[1;33m,\u001b[0m \u001b[0malert_text\u001b[0m\u001b[1;33m)\u001b[0m  \u001b[1;31m# type: ignore[call-arg]  # mypy is not smart enough here\u001b[0m\u001b[1;33m\u001b[0m\u001b[1;33m\u001b[0m\u001b[0m\n\u001b[1;32m--> 245\u001b[1;33m         \u001b[1;32mraise\u001b[0m \u001b[0mexception_class\u001b[0m\u001b[1;33m(\u001b[0m\u001b[0mmessage\u001b[0m\u001b[1;33m,\u001b[0m \u001b[0mscreen\u001b[0m\u001b[1;33m,\u001b[0m \u001b[0mstacktrace\u001b[0m\u001b[1;33m)\u001b[0m\u001b[1;33m\u001b[0m\u001b[1;33m\u001b[0m\u001b[0m\n\u001b[0m",
      "\u001b[1;31mWebDriverException\u001b[0m: Message: unknown error: net::ERR_INTERNET_DISCONNECTED\n  (Session info: chrome=109.0.5414.120)\nStacktrace:\nBacktrace:\n\t(No symbol) [0x00456643]\n\t(No symbol) [0x003EBE21]\n\t(No symbol) [0x002EDA9D]\n\t(No symbol) [0x002E9E22]\n\t(No symbol) [0x002DFCFD]\n\t(No symbol) [0x002E1101]\n\t(No symbol) [0x002DFFDD]\n\t(No symbol) [0x002DF3BC]\n\t(No symbol) [0x002DF2D8]\n\t(No symbol) [0x002DDC68]\n\t(No symbol) [0x002DE512]\n\t(No symbol) [0x002EF75B]\n\t(No symbol) [0x00357727]\n\t(No symbol) [0x0033FD7C]\n\t(No symbol) [0x00356B09]\n\t(No symbol) [0x0033FB76]\n\t(No symbol) [0x003149C1]\n\t(No symbol) [0x00315E5D]\n\tGetHandleVerifier [0x006CA142+2497106]\n\tGetHandleVerifier [0x006F85D3+2686691]\n\tGetHandleVerifier [0x006FBB9C+2700460]\n\tGetHandleVerifier [0x00503B10+635936]\n\t(No symbol) [0x003F4A1F]\n\t(No symbol) [0x003FA418]\n\t(No symbol) [0x003FA505]\n\t(No symbol) [0x0040508B]\n\tBaseThreadInitThunk [0x75A0344D+18]\n\tRtlInitializeExceptionChain [0x77919802+99]\n\tRtlInitializeExceptionChain [0x779197D5+54]\n"
     ]
    }
   ],
   "source": [
    "for i in all_hotel_urls:\n",
    "    driver.get(i)\n",
    "    time.sleep(5)\n",
    "    \n",
    "    # Create a dictionary to store data for the current hotel\n",
    "    hotel_data = {}\n",
    "    \n",
    "    try:\n",
    "        hotel = driver.find_element(By.XPATH, '//h2[@class=\"d2fee87262 pp-header__title\"]')\n",
    "        hotel_data['Hotel_name'] = hotel.text\n",
    "    except NoSuchElementException:\n",
    "        hotel_data['Hotel_name'] = '-'\n",
    "        \n",
    "    try:\n",
    "        city = driver.find_element(By.XPATH, '//div[@class=\"e000754250\"]/input')\n",
    "        hotel_data['City'] = city.get_attribute(\"value\")\n",
    "    except NoSuchElementException:\n",
    "        hotel_data['City'] = '-'\n",
    "    \n",
    "    try:\n",
    "        loc = driver.find_element(By.XPATH, '//p[@class=\"address address_clean\"]/span[1]')\n",
    "        hotel_data['Location'] = loc.text\n",
    "    except NoSuchElementException:\n",
    "        hotel_data['Location'] = '-'\n",
    "        \n",
    "    try:\n",
    "        rev = driver.find_element(By.XPATH,'//div[@class=\"daaa8ff09f f62fdb6838\"]/div/div[2]/span[2]')\n",
    "        hotel_data['Reviews'] = rev.text.split()[1]\n",
    "    except NoSuchElementException:\n",
    "        hotel_data['Reviews'] = '-'\n",
    "        \n",
    "    try:\n",
    "        user = driver.find_element(By.XPATH,'//div[@class=\"daaa8ff09f f62fdb6838\"]/div/div[2]/span[1]')\n",
    "        hotel_data['User_rating'] = user.text\n",
    "    except NoSuchElementException:\n",
    "        hotel_data['User_rating'] = \"-\"\n",
    "        \n",
    "    try:\n",
    "        star = driver.find_elements(By.XPATH, '//span[@class=\"fcd9eec8fb d31eda6efc c25361c37f\"]')\n",
    "        hotel_data['Star_rating'] = len(star)\n",
    "    except NoSuchElementException:\n",
    "        hotel_data['Star_rating'] = \"-\"\n",
    "        \n",
    "    try:\n",
    "        score = driver.find_element(By.XPATH,'//div[@class=\"daaa8ff09f f62fdb6838\"]/div/div[1]')\n",
    "        hotel_data['Review_score'] = score.text\n",
    "    except NoSuchElementException:\n",
    "        hotel_data['Review_score'] = \"-\"\n",
    "        \n",
    "    try:\n",
    "        wifi = driver.find_element(By.XPATH,'//div[@class=\"dc6c58be0b\"]/span/div/span[contains(text(), \"Free Wi-Fi\")]')\n",
    "        hotel_data['Free_wifi'] = 'Yes'\n",
    "    except NoSuchElementException:\n",
    "        hotel_data['Free_wifi'] = 'No'\n",
    "        \n",
    "    try:\n",
    "        room = driver.find_element(By.XPATH,'//div[@class=\"dc6c58be0b\"]/span/div/span[contains(text(), \"Family rooms\")]')\n",
    "        hotel_data['Family_rooms'] = 'Yes'\n",
    "    except NoSuchElementException:\n",
    "        hotel_data['Family_rooms'] = 'No'\n",
    "        \n",
    "    try:\n",
    "        smoke = driver.find_element(By.XPATH,'//div[@class=\"dc6c58be0b\"]/span/div/span[contains(text(), \"Non-smoking rooms\")]')\n",
    "        hotel_data['NonSmoking_rooms'] = 'Yes'\n",
    "    except NoSuchElementException:\n",
    "        hotel_data['NonSmoking_rooms'] = 'No'\n",
    "        \n",
    "    try:\n",
    "        res = driver.find_element(By.XPATH,'//div[@class=\"dc6c58be0b\"]/span/div/span[contains(text(), \"Restaurent\")]')\n",
    "        hotel_data['Restaurent'] = 'Yes'\n",
    "    except NoSuchElementException:\n",
    "        hotel_data['Restaurent'] = 'No'\n",
    "        \n",
    "    try:\n",
    "        bar = driver.find_element(By.XPATH,'//div[@class=\"dc6c58be0b\"]/span/div/span[contains(text(), \"Bar\")]')\n",
    "        hotel_data['Bar'] = 'Yes'\n",
    "    except NoSuchElementException:\n",
    "        hotel_data['Bar'] = 'No'\n",
    "        \n",
    "    try:\n",
    "        heat = driver.find_element(By.XPATH,'//div[@class=\"dc6c58be0b\"]/span/div/span[contains(text(), \"Heating\")]')\n",
    "        hotel_data['Heating'] = 'Yes'\n",
    "    except NoSuchElementException:\n",
    "        hotel_data['Heating'] = 'No'\n",
    "        \n",
    "    try:\n",
    "        lift = driver.find_element(By.XPATH,'//div[@class=\"dc6c58be0b\"]/span/div/span[contains(text(), \"Lift\")]')\n",
    "        hotel_data['Lift'] = 'Yes'\n",
    "    except NoSuchElementException:\n",
    "        hotel_data['Lift'] = 'No'\n",
    "        \n",
    "    try:\n",
    "        food = driver.find_element(By.XPATH, '//h4[@class=\"ph-item-header\"][contains(text(),\"Breakfast\")]')\n",
    "        \n",
    "        # Find the elements matching the XPath\n",
    "        cuisine_elements = driver.find_element(By.XPATH, '//span[@class=\"ph-item-copy-breakfast-option\"]')\n",
    "    \n",
    "        # split the text\n",
    "        cuisine_info = cuisine_elements.text.split()\n",
    "        \n",
    "        # Depending on the number of elements obtained after splitting, store them in the respective lists\n",
    "        if len(cuisine_info) >= 3:\n",
    "            hotel_data['Breakfast_Cuisine1'] = cuisine_info[0]\n",
    "            hotel_data['Breakfast_Cuisine2'] = cuisine_info[1]\n",
    "            hotel_data['Breakfast_Cuisine3'] = cuisine_info[2]\n",
    "        elif len(cuisine_info) == 2:\n",
    "            hotel_data['Breakfast_Cuisine1'] = cuisine_info[0]\n",
    "            hotel_data['Breakfast_Cuisine2'] = cuisine_info[1]\n",
    "            hotel_data['Breakfast_Cuisine3'] = '-'\n",
    "        elif len(cuisine_info) == 1:\n",
    "            hotel_data['Breakfast_Cuisine1'] = cuisine_info[0]\n",
    "            hotel_data['Breakfast_Cuisine2'] = '-'\n",
    "            hotel_data['Breakfast_Cuisine3'] = '-'\n",
    "            \n",
    "    except NoSuchElementException:\n",
    "        hotel_data['Breakfast_Cuisine1'] = '-'\n",
    "        hotel_data['Breakfast_Cuisine2'] = '-'\n",
    "        hotel_data['Breakfast_Cuisine3'] = '-'\n",
    "        \n",
    "    try:\n",
    "        room_type = driver.find_element(By.XPATH,'//span[@class=\"hprt-roomtype-icon-link \"]')\n",
    "        hotel_data['Room_type'] = room_type.text\n",
    "    except NoSuchElementException:\n",
    "        hotel_data['Room_type'] = '-'\n",
    "        \n",
    "    try:\n",
    "        bed1 = driver.find_element(By.XPATH,'//div[@class=\"hprt-roomtype-bed\"]/div/ul[contains(text(), \"double\")]')\n",
    "        hotel_data['Double_bed'] = 'Yes'\n",
    "    except NoSuchElementException:\n",
    "        hotel_data['Double_bed'] = 'No'\n",
    "        \n",
    "    try:\n",
    "        bed2 = driver.find_element(By.XPATH,'//div[@class=\"hprt-roomtype-bed\"]/div/ul[contains(text(), \"single\")]')\n",
    "        hotel_data['Single_bed'] = 'Yes'\n",
    "    except NoSuchElementException:\n",
    "        hotel_data['Single_bed'] = 'No'\n",
    "        \n",
    "    try:\n",
    "        price = driver.find_element(By.XPATH, '//span[@class=\"prco-valign-middle-helper\"]')\n",
    "        hotel_data['Prices'] = price.text\n",
    "    except NoSuchElementException:\n",
    "        hotel_data['Prices'] = '-'\n",
    "        \n",
    "        \n",
    "    # Append the hotel_data dictionary to the list\n",
    "    hotel_data_list.append(hotel_data)"
   ]
  },
  {
   "cell_type": "code",
   "execution_count": 15,
   "metadata": {},
   "outputs": [
    {
     "data": {
      "text/plain": [
       "2035"
      ]
     },
     "execution_count": 15,
     "metadata": {},
     "output_type": "execute_result"
    }
   ],
   "source": [
    "len(hotel_data_list)"
   ]
  },
  {
   "cell_type": "code",
   "execution_count": 16,
   "metadata": {},
   "outputs": [
    {
     "name": "stdout",
     "output_type": "stream",
     "text": [
      "Stored 'hotel_data_list' (list)\n"
     ]
    }
   ],
   "source": [
    "%store hotel_data_list"
   ]
  },
  {
   "cell_type": "code",
   "execution_count": 17,
   "metadata": {},
   "outputs": [
    {
     "data": {
      "text/plain": [
       "[{'Hotel_name': 'Unlock Metropolis Business Bay',\n",
       "  'City': 'Dubai',\n",
       "  'Location': 'Marasi Drive 1 AG Tower, Dubai, United Arab Emirates',\n",
       "  'Reviews': '1,012',\n",
       "  'User_rating': 'Very good',\n",
       "  'Star_rating': 4,\n",
       "  'Review_score': '8.5',\n",
       "  'Free_wifi': 'No',\n",
       "  'Family_rooms': 'Yes',\n",
       "  'NonSmoking_rooms': 'Yes',\n",
       "  'Restaurent': 'No',\n",
       "  'Bar': 'Yes',\n",
       "  'Heating': 'Yes',\n",
       "  'Lift': 'Yes',\n",
       "  'Breakfast_Cuisine1': '-',\n",
       "  'Breakfast_Cuisine2': '-',\n",
       "  'Breakfast_Cuisine3': '-',\n",
       "  'Room_type': 'Deluxe Studio with Kitchen and Balcony',\n",
       "  'Double_bed': 'No',\n",
       "  'Single_bed': 'No',\n",
       "  'Prices': '₹ 10,270'},\n",
       " {'Hotel_name': 'Element Dubai Airport',\n",
       "  'City': 'Dubai',\n",
       "  'Location': 'Airport Road, Al Garhoud, Next to Airport Terminal 1, Garhoud, 10001 Dubai, United Arab Emirates',\n",
       "  'Reviews': '1,133',\n",
       "  'User_rating': 'Very good',\n",
       "  'Star_rating': 0,\n",
       "  'Review_score': '8.3',\n",
       "  'Free_wifi': 'No',\n",
       "  'Family_rooms': 'Yes',\n",
       "  'NonSmoking_rooms': 'Yes',\n",
       "  'Restaurent': 'No',\n",
       "  'Bar': 'Yes',\n",
       "  'Heating': 'No',\n",
       "  'Lift': 'Yes',\n",
       "  'Breakfast_Cuisine1': 'Continental',\n",
       "  'Breakfast_Cuisine2': '-',\n",
       "  'Breakfast_Cuisine3': '-',\n",
       "  'Room_type': 'Twin Studio - Complimentary Transfer to Dubai Mall / Burj Khalifa & DXB Airport Shuttle Drop Off',\n",
       "  'Double_bed': 'No',\n",
       "  'Single_bed': 'No',\n",
       "  'Prices': '₹ 10,088'},\n",
       " {'Hotel_name': 'Golden Stay Vacation Homes continental tower marina',\n",
       "  'City': 'Dubai',\n",
       "  'Location': 'Jumeirah Beach Road, Dubai Marina, Dubai, United Arab Emirates',\n",
       "  'Reviews': '789',\n",
       "  'User_rating': 'Pleasant',\n",
       "  'Star_rating': 2,\n",
       "  'Review_score': '6.0',\n",
       "  'Free_wifi': 'No',\n",
       "  'Family_rooms': 'Yes',\n",
       "  'NonSmoking_rooms': 'Yes',\n",
       "  'Restaurent': 'No',\n",
       "  'Bar': 'No',\n",
       "  'Heating': 'No',\n",
       "  'Lift': 'Yes',\n",
       "  'Breakfast_Cuisine1': '-',\n",
       "  'Breakfast_Cuisine2': '-',\n",
       "  'Breakfast_Cuisine3': '-',\n",
       "  'Room_type': 'One bedroom with corner city view',\n",
       "  'Double_bed': 'No',\n",
       "  'Single_bed': 'No',\n",
       "  'Prices': '₹ 13,999'}]"
      ]
     },
     "execution_count": 17,
     "metadata": {},
     "output_type": "execute_result"
    }
   ],
   "source": [
    "hotel_data_list[:3]"
   ]
  },
  {
   "cell_type": "code",
   "execution_count": null,
   "metadata": {},
   "outputs": [],
   "source": []
  }
 ],
 "metadata": {
  "kernelspec": {
   "display_name": "Python 3",
   "language": "python",
   "name": "python3"
  },
  "language_info": {
   "codemirror_mode": {
    "name": "ipython",
    "version": 3
   },
   "file_extension": ".py",
   "mimetype": "text/x-python",
   "name": "python",
   "nbconvert_exporter": "python",
   "pygments_lexer": "ipython3",
   "version": "3.7.3"
  }
 },
 "nbformat": 4,
 "nbformat_minor": 4
}
