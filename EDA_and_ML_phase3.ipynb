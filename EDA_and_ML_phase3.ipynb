{
 "cells": [
  {
   "cell_type": "code",
   "execution_count": 1,
   "metadata": {},
   "outputs": [],
   "source": [
    "# importing necessary libraries\n",
    "import pandas as pd\n",
    "import numpy as np\n",
    "import matplotlib.pyplot as plt\n",
    "import seaborn as sns"
   ]
  },
  {
   "cell_type": "code",
   "execution_count": 2,
   "metadata": {},
   "outputs": [],
   "source": [
    "# loading data into dataframes\n",
    "data1 = pd.read_csv(\"Data1.csv\")\n",
    "data2 = pd.read_csv(\"Data2.csv\")\n",
    "data3 = pd.read_csv(\"Data3.csv\")"
   ]
  },
  {
   "cell_type": "markdown",
   "metadata": {},
   "source": [
    "#### First five rows of all 3 dataframes."
   ]
  },
  {
   "cell_type": "code",
   "execution_count": 3,
   "metadata": {},
   "outputs": [
    {
     "data": {
      "text/html": [
       "<div>\n",
       "<style scoped>\n",
       "    .dataframe tbody tr th:only-of-type {\n",
       "        vertical-align: middle;\n",
       "    }\n",
       "\n",
       "    .dataframe tbody tr th {\n",
       "        vertical-align: top;\n",
       "    }\n",
       "\n",
       "    .dataframe thead th {\n",
       "        text-align: right;\n",
       "    }\n",
       "</style>\n",
       "<table border=\"1\" class=\"dataframe\">\n",
       "  <thead>\n",
       "    <tr style=\"text-align: right;\">\n",
       "      <th></th>\n",
       "      <th>Sno</th>\n",
       "      <th>Hotelname</th>\n",
       "      <th>City</th>\n",
       "      <th>Location</th>\n",
       "      <th>Numberofreviews</th>\n",
       "      <th>Userratings</th>\n",
       "      <th>Starrating</th>\n",
       "      <th>Reviewscore</th>\n",
       "    </tr>\n",
       "  </thead>\n",
       "  <tbody>\n",
       "    <tr>\n",
       "      <th>0</th>\n",
       "      <td>1</td>\n",
       "      <td>Unlock Metropolis Business Bay</td>\n",
       "      <td>Dubai</td>\n",
       "      <td>Marasi Drive 1 AG Tower, Dubai, United Arab Em...</td>\n",
       "      <td>1,012</td>\n",
       "      <td>8.5</td>\n",
       "      <td>4</td>\n",
       "      <td>Very good</td>\n",
       "    </tr>\n",
       "    <tr>\n",
       "      <th>1</th>\n",
       "      <td>2</td>\n",
       "      <td>Element Dubai Airport</td>\n",
       "      <td>Dubai</td>\n",
       "      <td>Airport Road, Al Garhoud, Next to Airport Term...</td>\n",
       "      <td>1,133</td>\n",
       "      <td>8.3</td>\n",
       "      <td>0</td>\n",
       "      <td>Very good</td>\n",
       "    </tr>\n",
       "    <tr>\n",
       "      <th>2</th>\n",
       "      <td>3</td>\n",
       "      <td>Golden Stay Vacation Homes continental tower m...</td>\n",
       "      <td>Dubai</td>\n",
       "      <td>Jumeirah Beach Road, Dubai Marina, Dubai, Unit...</td>\n",
       "      <td>789</td>\n",
       "      <td>6.0</td>\n",
       "      <td>2</td>\n",
       "      <td>Pleasant</td>\n",
       "    </tr>\n",
       "    <tr>\n",
       "      <th>3</th>\n",
       "      <td>4</td>\n",
       "      <td>Kasco Homes - Waves Tower Business Bay</td>\n",
       "      <td>Dubai</td>\n",
       "      <td>Marasi Drive, Dubai, United Arab Emirates</td>\n",
       "      <td>478</td>\n",
       "      <td>8.6</td>\n",
       "      <td>4</td>\n",
       "      <td>Fabulous</td>\n",
       "    </tr>\n",
       "    <tr>\n",
       "      <th>4</th>\n",
       "      <td>5</td>\n",
       "      <td>Fully Furnished Luxury Short Stay Apartment in...</td>\n",
       "      <td>Dubai</td>\n",
       "      <td>Marasi Drive, Dubai, United Arab Emirates</td>\n",
       "      <td>1</td>\n",
       "      <td>10</td>\n",
       "      <td>0</td>\n",
       "      <td>Exceptional</td>\n",
       "    </tr>\n",
       "  </tbody>\n",
       "</table>\n",
       "</div>"
      ],
      "text/plain": [
       "   Sno                                          Hotelname   City  \\\n",
       "0    1                     Unlock Metropolis Business Bay  Dubai   \n",
       "1    2                              Element Dubai Airport  Dubai   \n",
       "2    3  Golden Stay Vacation Homes continental tower m...  Dubai   \n",
       "3    4             Kasco Homes - Waves Tower Business Bay  Dubai   \n",
       "4    5  Fully Furnished Luxury Short Stay Apartment in...  Dubai   \n",
       "\n",
       "                                            Location Numberofreviews  \\\n",
       "0  Marasi Drive 1 AG Tower, Dubai, United Arab Em...           1,012   \n",
       "1  Airport Road, Al Garhoud, Next to Airport Term...           1,133   \n",
       "2  Jumeirah Beach Road, Dubai Marina, Dubai, Unit...             789   \n",
       "3          Marasi Drive, Dubai, United Arab Emirates             478   \n",
       "4          Marasi Drive, Dubai, United Arab Emirates               1   \n",
       "\n",
       "  Userratings  Starrating  Reviewscore  \n",
       "0         8.5           4    Very good  \n",
       "1         8.3           0    Very good  \n",
       "2         6.0           2     Pleasant  \n",
       "3         8.6           4     Fabulous  \n",
       "4          10           0  Exceptional  "
      ]
     },
     "execution_count": 3,
     "metadata": {},
     "output_type": "execute_result"
    }
   ],
   "source": [
    "data1.head()"
   ]
  },
  {
   "cell_type": "code",
   "execution_count": 4,
   "metadata": {},
   "outputs": [
    {
     "data": {
      "text/plain": [
       "Index(['Hotelname', 'City', 'Location', 'Numberofreviews', 'Userratings',\n",
       "       'Starrating', 'Reviewscore'],\n",
       "      dtype='object')"
      ]
     },
     "execution_count": 4,
     "metadata": {},
     "output_type": "execute_result"
    }
   ],
   "source": [
    "data1.drop('Sno', axis=1, inplace=True)\n",
    "data1.columns"
   ]
  },
  {
   "cell_type": "code",
   "execution_count": 5,
   "metadata": {},
   "outputs": [
    {
     "data": {
      "text/plain": [
       "Hotelname          0\n",
       "City               1\n",
       "Location           0\n",
       "Numberofreviews    0\n",
       "Userratings        0\n",
       "Starrating         0\n",
       "Reviewscore        0\n",
       "dtype: int64"
      ]
     },
     "execution_count": 5,
     "metadata": {},
     "output_type": "execute_result"
    }
   ],
   "source": [
    "data1.isnull().sum()"
   ]
  },
  {
   "cell_type": "code",
   "execution_count": 6,
   "metadata": {},
   "outputs": [
    {
     "data": {
      "text/html": [
       "<div>\n",
       "<style scoped>\n",
       "    .dataframe tbody tr th:only-of-type {\n",
       "        vertical-align: middle;\n",
       "    }\n",
       "\n",
       "    .dataframe tbody tr th {\n",
       "        vertical-align: top;\n",
       "    }\n",
       "\n",
       "    .dataframe thead th {\n",
       "        text-align: right;\n",
       "    }\n",
       "</style>\n",
       "<table border=\"1\" class=\"dataframe\">\n",
       "  <thead>\n",
       "    <tr style=\"text-align: right;\">\n",
       "      <th></th>\n",
       "      <th>Sno</th>\n",
       "      <th>Hotelname</th>\n",
       "      <th>Freewifi</th>\n",
       "      <th>Familyrooms</th>\n",
       "      <th>NonSmokingRooms</th>\n",
       "      <th>Restaurant</th>\n",
       "      <th>Bar</th>\n",
       "      <th>Heating</th>\n",
       "      <th>Lift</th>\n",
       "      <th>BreakfastCuisine1</th>\n",
       "      <th>BreakfastCuisine2</th>\n",
       "      <th>BreakfastCuisine3</th>\n",
       "    </tr>\n",
       "  </thead>\n",
       "  <tbody>\n",
       "    <tr>\n",
       "      <th>0</th>\n",
       "      <td>1</td>\n",
       "      <td>Unlock Metropolis Business Bay</td>\n",
       "      <td>No</td>\n",
       "      <td>Yes</td>\n",
       "      <td>Yes</td>\n",
       "      <td>No</td>\n",
       "      <td>Yes</td>\n",
       "      <td>Yes</td>\n",
       "      <td>Yes</td>\n",
       "      <td>-</td>\n",
       "      <td>-</td>\n",
       "      <td>-</td>\n",
       "    </tr>\n",
       "    <tr>\n",
       "      <th>1</th>\n",
       "      <td>2</td>\n",
       "      <td>Element Dubai Airport</td>\n",
       "      <td>No</td>\n",
       "      <td>Yes</td>\n",
       "      <td>Yes</td>\n",
       "      <td>No</td>\n",
       "      <td>Yes</td>\n",
       "      <td>No</td>\n",
       "      <td>Yes</td>\n",
       "      <td>Continental</td>\n",
       "      <td>-</td>\n",
       "      <td>-</td>\n",
       "    </tr>\n",
       "    <tr>\n",
       "      <th>2</th>\n",
       "      <td>3</td>\n",
       "      <td>Golden Stay Vacation Homes continental tower m...</td>\n",
       "      <td>No</td>\n",
       "      <td>Yes</td>\n",
       "      <td>Yes</td>\n",
       "      <td>No</td>\n",
       "      <td>No</td>\n",
       "      <td>No</td>\n",
       "      <td>Yes</td>\n",
       "      <td>-</td>\n",
       "      <td>-</td>\n",
       "      <td>-</td>\n",
       "    </tr>\n",
       "    <tr>\n",
       "      <th>3</th>\n",
       "      <td>4</td>\n",
       "      <td>Kasco Homes - Waves Tower Business Bay</td>\n",
       "      <td>No</td>\n",
       "      <td>Yes</td>\n",
       "      <td>Yes</td>\n",
       "      <td>No</td>\n",
       "      <td>No</td>\n",
       "      <td>No</td>\n",
       "      <td>Yes</td>\n",
       "      <td>-</td>\n",
       "      <td>-</td>\n",
       "      <td>-</td>\n",
       "    </tr>\n",
       "    <tr>\n",
       "      <th>4</th>\n",
       "      <td>5</td>\n",
       "      <td>Fully Furnished Luxury Short Stay Apartment in...</td>\n",
       "      <td>No</td>\n",
       "      <td>No</td>\n",
       "      <td>No</td>\n",
       "      <td>No</td>\n",
       "      <td>No</td>\n",
       "      <td>Yes</td>\n",
       "      <td>No</td>\n",
       "      <td>-</td>\n",
       "      <td>-</td>\n",
       "      <td>-</td>\n",
       "    </tr>\n",
       "  </tbody>\n",
       "</table>\n",
       "</div>"
      ],
      "text/plain": [
       "   Sno                                          Hotelname Freewifi  \\\n",
       "0    1                     Unlock Metropolis Business Bay       No   \n",
       "1    2                              Element Dubai Airport       No   \n",
       "2    3  Golden Stay Vacation Homes continental tower m...       No   \n",
       "3    4             Kasco Homes - Waves Tower Business Bay       No   \n",
       "4    5  Fully Furnished Luxury Short Stay Apartment in...       No   \n",
       "\n",
       "  Familyrooms NonSmokingRooms Restaurant  Bar Heating Lift BreakfastCuisine1  \\\n",
       "0         Yes             Yes         No  Yes     Yes  Yes                 -   \n",
       "1         Yes             Yes         No  Yes      No  Yes       Continental   \n",
       "2         Yes             Yes         No   No      No  Yes                 -   \n",
       "3         Yes             Yes         No   No      No  Yes                 -   \n",
       "4          No              No         No   No     Yes   No                 -   \n",
       "\n",
       "  BreakfastCuisine2 BreakfastCuisine3  \n",
       "0                 -                 -  \n",
       "1                 -                 -  \n",
       "2                 -                 -  \n",
       "3                 -                 -  \n",
       "4                 -                 -  "
      ]
     },
     "execution_count": 6,
     "metadata": {},
     "output_type": "execute_result"
    }
   ],
   "source": [
    "data2.head()"
   ]
  },
  {
   "cell_type": "code",
   "execution_count": 7,
   "metadata": {},
   "outputs": [
    {
     "data": {
      "text/plain": [
       "Index(['Freewifi', 'Familyrooms', 'NonSmokingRooms', 'Restaurant', 'Bar',\n",
       "       'Heating', 'Lift', 'BreakfastCuisine1', 'BreakfastCuisine2',\n",
       "       'BreakfastCuisine3'],\n",
       "      dtype='object')"
      ]
     },
     "execution_count": 7,
     "metadata": {},
     "output_type": "execute_result"
    }
   ],
   "source": [
    "data2.drop(['Sno','Hotelname'], axis=1, inplace=True)\n",
    "data2.columns"
   ]
  },
  {
   "cell_type": "code",
   "execution_count": 8,
   "metadata": {},
   "outputs": [
    {
     "data": {
      "text/html": [
       "<div>\n",
       "<style scoped>\n",
       "    .dataframe tbody tr th:only-of-type {\n",
       "        vertical-align: middle;\n",
       "    }\n",
       "\n",
       "    .dataframe tbody tr th {\n",
       "        vertical-align: top;\n",
       "    }\n",
       "\n",
       "    .dataframe thead th {\n",
       "        text-align: right;\n",
       "    }\n",
       "</style>\n",
       "<table border=\"1\" class=\"dataframe\">\n",
       "  <thead>\n",
       "    <tr style=\"text-align: right;\">\n",
       "      <th></th>\n",
       "      <th>sno</th>\n",
       "      <th>Hotelname</th>\n",
       "      <th>RoomType</th>\n",
       "      <th>Doublebed</th>\n",
       "      <th>SingleBed</th>\n",
       "      <th>Prices</th>\n",
       "    </tr>\n",
       "  </thead>\n",
       "  <tbody>\n",
       "    <tr>\n",
       "      <th>0</th>\n",
       "      <td>1</td>\n",
       "      <td>Unlock Metropolis Business Bay</td>\n",
       "      <td>Deluxe Studio with Kitchen and Balcony</td>\n",
       "      <td>No</td>\n",
       "      <td>No</td>\n",
       "      <td>10270</td>\n",
       "    </tr>\n",
       "    <tr>\n",
       "      <th>1</th>\n",
       "      <td>2</td>\n",
       "      <td>Element Dubai Airport</td>\n",
       "      <td>Twin Studio - Complimentary Transfer to Dubai ...</td>\n",
       "      <td>No</td>\n",
       "      <td>No</td>\n",
       "      <td>10088</td>\n",
       "    </tr>\n",
       "    <tr>\n",
       "      <th>2</th>\n",
       "      <td>3</td>\n",
       "      <td>Golden Stay Vacation Homes continental tower m...</td>\n",
       "      <td>One bedroom with corner city view</td>\n",
       "      <td>No</td>\n",
       "      <td>No</td>\n",
       "      <td>13999</td>\n",
       "    </tr>\n",
       "    <tr>\n",
       "      <th>3</th>\n",
       "      <td>4</td>\n",
       "      <td>Kasco Homes - Waves Tower Business Bay</td>\n",
       "      <td>Superior Studio</td>\n",
       "      <td>No</td>\n",
       "      <td>No</td>\n",
       "      <td>23464</td>\n",
       "    </tr>\n",
       "    <tr>\n",
       "      <th>4</th>\n",
       "      <td>5</td>\n",
       "      <td>Fully Furnished Luxury Short Stay Apartment in...</td>\n",
       "      <td>One-Bedroom Apartment</td>\n",
       "      <td>No</td>\n",
       "      <td>No</td>\n",
       "      <td>22217</td>\n",
       "    </tr>\n",
       "  </tbody>\n",
       "</table>\n",
       "</div>"
      ],
      "text/plain": [
       "   sno                                          Hotelname  \\\n",
       "0    1                     Unlock Metropolis Business Bay   \n",
       "1    2                              Element Dubai Airport   \n",
       "2    3  Golden Stay Vacation Homes continental tower m...   \n",
       "3    4             Kasco Homes - Waves Tower Business Bay   \n",
       "4    5  Fully Furnished Luxury Short Stay Apartment in...   \n",
       "\n",
       "                                            RoomType Doublebed SingleBed  \\\n",
       "0             Deluxe Studio with Kitchen and Balcony        No        No   \n",
       "1  Twin Studio - Complimentary Transfer to Dubai ...        No        No   \n",
       "2                  One bedroom with corner city view        No        No   \n",
       "3                                    Superior Studio        No        No   \n",
       "4                              One-Bedroom Apartment        No        No   \n",
       "\n",
       "   Prices  \n",
       "0   10270  \n",
       "1   10088  \n",
       "2   13999  \n",
       "3   23464  \n",
       "4   22217  "
      ]
     },
     "execution_count": 8,
     "metadata": {},
     "output_type": "execute_result"
    }
   ],
   "source": [
    "data3.head()"
   ]
  },
  {
   "cell_type": "code",
   "execution_count": 9,
   "metadata": {},
   "outputs": [
    {
     "data": {
      "text/plain": [
       "Index(['RoomType', 'Doublebed', 'SingleBed', 'Prices'], dtype='object')"
      ]
     },
     "execution_count": 9,
     "metadata": {},
     "output_type": "execute_result"
    }
   ],
   "source": [
    "data3.drop(['sno','Hotelname'], axis=1, inplace=True)\n",
    "data3.columns"
   ]
  },
  {
   "cell_type": "markdown",
   "metadata": {},
   "source": [
    "#### Concatenating the dataframes to make 1 dataframe"
   ]
  },
  {
   "cell_type": "code",
   "execution_count": 10,
   "metadata": {},
   "outputs": [],
   "source": [
    "# Concatenate horizontally (along columns)\n",
    "hotel_data = pd.concat([data1, data2, data3], axis=1)"
   ]
  },
  {
   "cell_type": "code",
   "execution_count": 11,
   "metadata": {},
   "outputs": [
    {
     "data": {
      "text/plain": [
       "(2035, 21)"
      ]
     },
     "execution_count": 11,
     "metadata": {},
     "output_type": "execute_result"
    }
   ],
   "source": [
    "hotel_data.shape"
   ]
  },
  {
   "cell_type": "code",
   "execution_count": 12,
   "metadata": {},
   "outputs": [
    {
     "data": {
      "text/plain": [
       "Index(['Hotelname', 'City', 'Location', 'Numberofreviews', 'Userratings',\n",
       "       'Starrating', 'Reviewscore', 'Freewifi', 'Familyrooms',\n",
       "       'NonSmokingRooms', 'Restaurant', 'Bar', 'Heating', 'Lift',\n",
       "       'BreakfastCuisine1', 'BreakfastCuisine2', 'BreakfastCuisine3',\n",
       "       'RoomType', 'Doublebed', 'SingleBed', 'Prices'],\n",
       "      dtype='object')"
      ]
     },
     "execution_count": 12,
     "metadata": {},
     "output_type": "execute_result"
    }
   ],
   "source": [
    "hotel_data.columns"
   ]
  },
  {
   "cell_type": "code",
   "execution_count": 13,
   "metadata": {},
   "outputs": [
    {
     "data": {
      "text/plain": [
       "Hotelname            object\n",
       "City                 object\n",
       "Location             object\n",
       "Numberofreviews      object\n",
       "Userratings          object\n",
       "Starrating            int64\n",
       "Reviewscore          object\n",
       "Freewifi             object\n",
       "Familyrooms          object\n",
       "NonSmokingRooms      object\n",
       "Restaurant           object\n",
       "Bar                  object\n",
       "Heating              object\n",
       "Lift                 object\n",
       "BreakfastCuisine1    object\n",
       "BreakfastCuisine2    object\n",
       "BreakfastCuisine3    object\n",
       "RoomType             object\n",
       "Doublebed            object\n",
       "SingleBed            object\n",
       "Prices               object\n",
       "dtype: object"
      ]
     },
     "execution_count": 13,
     "metadata": {},
     "output_type": "execute_result"
    }
   ],
   "source": [
    "# checking the dtypes of columns\n",
    "hotel_data.dtypes"
   ]
  },
  {
   "cell_type": "markdown",
   "metadata": {},
   "source": [
    "#### Data Cleaning"
   ]
  },
  {
   "cell_type": "markdown",
   "metadata": {},
   "source": [
    "We will change the Numberofreviews, Userratings, Prices column dtypes from object to int."
   ]
  },
  {
   "cell_type": "code",
   "execution_count": 14,
   "metadata": {},
   "outputs": [],
   "source": [
    "# Convert 'Numberofreviews' , 'Prices' and 'Userratings' to int\n",
    "hotel_data['Numberofreviews'] = pd.to_numeric(hotel_data['Numberofreviews'].str.replace(',', ''), errors='coerce', downcast='integer').fillna(0)\n",
    "hotel_data['Userratings'] = pd.to_numeric(hotel_data['Userratings'], errors='coerce')\n",
    "hotel_data['Prices'] = pd.to_numeric(hotel_data['Prices'], errors='coerce')\n"
   ]
  },
  {
   "cell_type": "code",
   "execution_count": 15,
   "metadata": {},
   "outputs": [
    {
     "data": {
      "text/plain": [
       "Hotelname             object\n",
       "City                  object\n",
       "Location              object\n",
       "Numberofreviews      float64\n",
       "Userratings          float64\n",
       "Starrating             int64\n",
       "Reviewscore           object\n",
       "Freewifi              object\n",
       "Familyrooms           object\n",
       "NonSmokingRooms       object\n",
       "Restaurant            object\n",
       "Bar                   object\n",
       "Heating               object\n",
       "Lift                  object\n",
       "BreakfastCuisine1     object\n",
       "BreakfastCuisine2     object\n",
       "BreakfastCuisine3     object\n",
       "RoomType              object\n",
       "Doublebed             object\n",
       "SingleBed             object\n",
       "Prices               float64\n",
       "dtype: object"
      ]
     },
     "execution_count": 15,
     "metadata": {},
     "output_type": "execute_result"
    }
   ],
   "source": [
    "# checking the column dtypes again\n",
    "hotel_data.dtypes"
   ]
  },
  {
   "cell_type": "code",
   "execution_count": 16,
   "metadata": {},
   "outputs": [
    {
     "data": {
      "text/plain": [
       "Siesta Sydney                                       20\n",
       "ibis Sydney Airport                                 20\n",
       "Park Regis City Centre                              20\n",
       "Novotel Sydney Darling Harbour                      20\n",
       "Rydges Sydney Airport Hotel                         20\n",
       "                                                    ..\n",
       "Modern 2B1B apt in CBD - Walk to Central Station     1\n",
       "The Piccadilly London West End                       1\n",
       "Hotel Sophia                                         1\n",
       "Clocktower Apartment Hotel                           1\n",
       "Appartement élégant                                  1\n",
       "Name: Hotelname, Length: 415, dtype: int64"
      ]
     },
     "execution_count": 16,
     "metadata": {},
     "output_type": "execute_result"
    }
   ],
   "source": [
    "# checking the number of unique hotel names\n",
    "hotel_data['Hotelname'].value_counts()"
   ]
  },
  {
   "cell_type": "markdown",
   "metadata": {},
   "source": [
    "This shows that many of the hotel are repeated in the datsett and only 415 unique values are present. We will drop these duplicated values."
   ]
  },
  {
   "cell_type": "code",
   "execution_count": 17,
   "metadata": {},
   "outputs": [],
   "source": [
    "# dropping duplicates\n",
    "hotel_data.drop_duplicates(subset='Hotelname', keep='first', inplace=True)"
   ]
  },
  {
   "cell_type": "code",
   "execution_count": 18,
   "metadata": {},
   "outputs": [
    {
     "data": {
      "text/plain": [
       "(415, 21)"
      ]
     },
     "execution_count": 18,
     "metadata": {},
     "output_type": "execute_result"
    }
   ],
   "source": [
    "hotel_data.shape"
   ]
  },
  {
   "cell_type": "code",
   "execution_count": 19,
   "metadata": {},
   "outputs": [
    {
     "data": {
      "text/html": [
       "<div>\n",
       "<style scoped>\n",
       "    .dataframe tbody tr th:only-of-type {\n",
       "        vertical-align: middle;\n",
       "    }\n",
       "\n",
       "    .dataframe tbody tr th {\n",
       "        vertical-align: top;\n",
       "    }\n",
       "\n",
       "    .dataframe thead th {\n",
       "        text-align: right;\n",
       "    }\n",
       "</style>\n",
       "<table border=\"1\" class=\"dataframe\">\n",
       "  <thead>\n",
       "    <tr style=\"text-align: right;\">\n",
       "      <th></th>\n",
       "      <th>Hotelname</th>\n",
       "      <th>City</th>\n",
       "      <th>Location</th>\n",
       "      <th>Numberofreviews</th>\n",
       "      <th>Userratings</th>\n",
       "      <th>Starrating</th>\n",
       "      <th>Reviewscore</th>\n",
       "      <th>Freewifi</th>\n",
       "      <th>Familyrooms</th>\n",
       "      <th>NonSmokingRooms</th>\n",
       "      <th>...</th>\n",
       "      <th>Bar</th>\n",
       "      <th>Heating</th>\n",
       "      <th>Lift</th>\n",
       "      <th>BreakfastCuisine1</th>\n",
       "      <th>BreakfastCuisine2</th>\n",
       "      <th>BreakfastCuisine3</th>\n",
       "      <th>RoomType</th>\n",
       "      <th>Doublebed</th>\n",
       "      <th>SingleBed</th>\n",
       "      <th>Prices</th>\n",
       "    </tr>\n",
       "  </thead>\n",
       "  <tbody>\n",
       "    <tr>\n",
       "      <th>0</th>\n",
       "      <td>Unlock Metropolis Business Bay</td>\n",
       "      <td>Dubai</td>\n",
       "      <td>Marasi Drive 1 AG Tower, Dubai, United Arab Em...</td>\n",
       "      <td>1012.0</td>\n",
       "      <td>8.5</td>\n",
       "      <td>4</td>\n",
       "      <td>Very good</td>\n",
       "      <td>No</td>\n",
       "      <td>Yes</td>\n",
       "      <td>Yes</td>\n",
       "      <td>...</td>\n",
       "      <td>Yes</td>\n",
       "      <td>Yes</td>\n",
       "      <td>Yes</td>\n",
       "      <td>-</td>\n",
       "      <td>-</td>\n",
       "      <td>-</td>\n",
       "      <td>Deluxe Studio with Kitchen and Balcony</td>\n",
       "      <td>No</td>\n",
       "      <td>No</td>\n",
       "      <td>10270.0</td>\n",
       "    </tr>\n",
       "    <tr>\n",
       "      <th>1</th>\n",
       "      <td>Element Dubai Airport</td>\n",
       "      <td>Dubai</td>\n",
       "      <td>Airport Road, Al Garhoud, Next to Airport Term...</td>\n",
       "      <td>1133.0</td>\n",
       "      <td>8.3</td>\n",
       "      <td>0</td>\n",
       "      <td>Very good</td>\n",
       "      <td>No</td>\n",
       "      <td>Yes</td>\n",
       "      <td>Yes</td>\n",
       "      <td>...</td>\n",
       "      <td>Yes</td>\n",
       "      <td>No</td>\n",
       "      <td>Yes</td>\n",
       "      <td>Continental</td>\n",
       "      <td>-</td>\n",
       "      <td>-</td>\n",
       "      <td>Twin Studio - Complimentary Transfer to Dubai ...</td>\n",
       "      <td>No</td>\n",
       "      <td>No</td>\n",
       "      <td>10088.0</td>\n",
       "    </tr>\n",
       "    <tr>\n",
       "      <th>2</th>\n",
       "      <td>Golden Stay Vacation Homes continental tower m...</td>\n",
       "      <td>Dubai</td>\n",
       "      <td>Jumeirah Beach Road, Dubai Marina, Dubai, Unit...</td>\n",
       "      <td>789.0</td>\n",
       "      <td>6.0</td>\n",
       "      <td>2</td>\n",
       "      <td>Pleasant</td>\n",
       "      <td>No</td>\n",
       "      <td>Yes</td>\n",
       "      <td>Yes</td>\n",
       "      <td>...</td>\n",
       "      <td>No</td>\n",
       "      <td>No</td>\n",
       "      <td>Yes</td>\n",
       "      <td>-</td>\n",
       "      <td>-</td>\n",
       "      <td>-</td>\n",
       "      <td>One bedroom with corner city view</td>\n",
       "      <td>No</td>\n",
       "      <td>No</td>\n",
       "      <td>13999.0</td>\n",
       "    </tr>\n",
       "    <tr>\n",
       "      <th>3</th>\n",
       "      <td>Kasco Homes - Waves Tower Business Bay</td>\n",
       "      <td>Dubai</td>\n",
       "      <td>Marasi Drive, Dubai, United Arab Emirates</td>\n",
       "      <td>478.0</td>\n",
       "      <td>8.6</td>\n",
       "      <td>4</td>\n",
       "      <td>Fabulous</td>\n",
       "      <td>No</td>\n",
       "      <td>Yes</td>\n",
       "      <td>Yes</td>\n",
       "      <td>...</td>\n",
       "      <td>No</td>\n",
       "      <td>No</td>\n",
       "      <td>Yes</td>\n",
       "      <td>-</td>\n",
       "      <td>-</td>\n",
       "      <td>-</td>\n",
       "      <td>Superior Studio</td>\n",
       "      <td>No</td>\n",
       "      <td>No</td>\n",
       "      <td>23464.0</td>\n",
       "    </tr>\n",
       "    <tr>\n",
       "      <th>4</th>\n",
       "      <td>Fully Furnished Luxury Short Stay Apartment in...</td>\n",
       "      <td>Dubai</td>\n",
       "      <td>Marasi Drive, Dubai, United Arab Emirates</td>\n",
       "      <td>1.0</td>\n",
       "      <td>10.0</td>\n",
       "      <td>0</td>\n",
       "      <td>Exceptional</td>\n",
       "      <td>No</td>\n",
       "      <td>No</td>\n",
       "      <td>No</td>\n",
       "      <td>...</td>\n",
       "      <td>No</td>\n",
       "      <td>Yes</td>\n",
       "      <td>No</td>\n",
       "      <td>-</td>\n",
       "      <td>-</td>\n",
       "      <td>-</td>\n",
       "      <td>One-Bedroom Apartment</td>\n",
       "      <td>No</td>\n",
       "      <td>No</td>\n",
       "      <td>22217.0</td>\n",
       "    </tr>\n",
       "  </tbody>\n",
       "</table>\n",
       "<p>5 rows × 21 columns</p>\n",
       "</div>"
      ],
      "text/plain": [
       "                                           Hotelname   City  \\\n",
       "0                     Unlock Metropolis Business Bay  Dubai   \n",
       "1                              Element Dubai Airport  Dubai   \n",
       "2  Golden Stay Vacation Homes continental tower m...  Dubai   \n",
       "3             Kasco Homes - Waves Tower Business Bay  Dubai   \n",
       "4  Fully Furnished Luxury Short Stay Apartment in...  Dubai   \n",
       "\n",
       "                                            Location  Numberofreviews  \\\n",
       "0  Marasi Drive 1 AG Tower, Dubai, United Arab Em...           1012.0   \n",
       "1  Airport Road, Al Garhoud, Next to Airport Term...           1133.0   \n",
       "2  Jumeirah Beach Road, Dubai Marina, Dubai, Unit...            789.0   \n",
       "3          Marasi Drive, Dubai, United Arab Emirates            478.0   \n",
       "4          Marasi Drive, Dubai, United Arab Emirates              1.0   \n",
       "\n",
       "   Userratings  Starrating  Reviewscore Freewifi Familyrooms NonSmokingRooms  \\\n",
       "0          8.5           4    Very good       No         Yes             Yes   \n",
       "1          8.3           0    Very good       No         Yes             Yes   \n",
       "2          6.0           2     Pleasant       No         Yes             Yes   \n",
       "3          8.6           4     Fabulous       No         Yes             Yes   \n",
       "4         10.0           0  Exceptional       No          No              No   \n",
       "\n",
       "   ...  Bar Heating Lift BreakfastCuisine1 BreakfastCuisine2  \\\n",
       "0  ...  Yes     Yes  Yes                 -                 -   \n",
       "1  ...  Yes      No  Yes       Continental                 -   \n",
       "2  ...   No      No  Yes                 -                 -   \n",
       "3  ...   No      No  Yes                 -                 -   \n",
       "4  ...   No     Yes   No                 -                 -   \n",
       "\n",
       "  BreakfastCuisine3                                           RoomType  \\\n",
       "0                 -             Deluxe Studio with Kitchen and Balcony   \n",
       "1                 -  Twin Studio - Complimentary Transfer to Dubai ...   \n",
       "2                 -                  One bedroom with corner city view   \n",
       "3                 -                                    Superior Studio   \n",
       "4                 -                              One-Bedroom Apartment   \n",
       "\n",
       "  Doublebed SingleBed   Prices  \n",
       "0        No        No  10270.0  \n",
       "1        No        No  10088.0  \n",
       "2        No        No  13999.0  \n",
       "3        No        No  23464.0  \n",
       "4        No        No  22217.0  \n",
       "\n",
       "[5 rows x 21 columns]"
      ]
     },
     "execution_count": 19,
     "metadata": {},
     "output_type": "execute_result"
    }
   ],
   "source": [
    "# Identify object columns and apply the strip method\n",
    "object_columns = hotel_data.select_dtypes(include=['object']).columns\n",
    "hotel_data[object_columns] = hotel_data[object_columns].apply(lambda x: x.str.strip() if x.dtype == \"object\" else x)\n",
    "\n",
    "# Display the cleaned DataFrame\n",
    "hotel_data.head()"
   ]
  },
  {
   "cell_type": "code",
   "execution_count": 20,
   "metadata": {},
   "outputs": [
    {
     "data": {
      "text/plain": [
       "Good           125\n",
       "Very good      115\n",
       "-               55\n",
       "Fabulous        46\n",
       "Pleasant        32\n",
       "Exceptional     18\n",
       "Superb          16\n",
       "Passable         4\n",
       "Bad              2\n",
       "Poor             1\n",
       "Very poor        1\n",
       "Name: Reviewscore, dtype: int64"
      ]
     },
     "execution_count": 20,
     "metadata": {},
     "output_type": "execute_result"
    }
   ],
   "source": [
    "# checking for value counts for columns\n",
    "hotel_data['Reviewscore'].value_counts()"
   ]
  },
  {
   "cell_type": "code",
   "execution_count": 21,
   "metadata": {},
   "outputs": [
    {
     "data": {
      "text/plain": [
       "8.5     28\n",
       "8.0     25\n",
       "7.9     21\n",
       "8.2     20\n",
       "8.3     20\n",
       "7.8     20\n",
       "8.6     18\n",
       "10.0    15\n",
       "7.7     14\n",
       "7.5     13\n",
       "8.4     13\n",
       "7.0     12\n",
       "7.3     12\n",
       "8.9     12\n",
       "7.6     12\n",
       "6.9     11\n",
       "8.7     10\n",
       "7.4     10\n",
       "8.1      9\n",
       "9.0      8\n",
       "7.1      6\n",
       "8.8      6\n",
       "7.2      5\n",
       "6.6      4\n",
       "9.3      4\n",
       "6.8      3\n",
       "6.4      3\n",
       "6.3      3\n",
       "9.1      2\n",
       "9.4      2\n",
       "6.5      2\n",
       "5.6      2\n",
       "9.5      2\n",
       "1.0      2\n",
       "6.0      2\n",
       "6.2      2\n",
       "6.7      1\n",
       "5.0      1\n",
       "9.7      1\n",
       "6.1      1\n",
       "2.0      1\n",
       "3.0      1\n",
       "5.7      1\n",
       "Name: Userratings, dtype: int64"
      ]
     },
     "execution_count": 21,
     "metadata": {},
     "output_type": "execute_result"
    }
   ],
   "source": [
    "hotel_data['Userratings'].value_counts()"
   ]
  },
  {
   "cell_type": "markdown",
   "metadata": {},
   "source": [
    "We will fill the blank value in the Reviewscore column based on their Userratings column value"
   ]
  },
  {
   "cell_type": "code",
   "execution_count": 22,
   "metadata": {},
   "outputs": [],
   "source": [
    "# Define a function to map '-' values based on 'Userratings'\n",
    "def map_reviewscore(row):\n",
    "    if row['Reviewscore'] == '-':\n",
    "        if row['Userratings'] >= 7.0:\n",
    "            return 'Very good'\n",
    "        elif 3.5 <= row['Userratings'] < 6.9:\n",
    "            return 'Good'\n",
    "        else:\n",
    "            return 'Bad'\n",
    "    return row['Reviewscore']\n",
    "\n",
    "# Apply the function to update 'Reviewscore'\n",
    "hotel_data['Reviewscore'] = hotel_data.apply(map_reviewscore, axis=1)"
   ]
  },
  {
   "cell_type": "code",
   "execution_count": 23,
   "metadata": {},
   "outputs": [
    {
     "data": {
      "text/plain": [
       "Good           125\n",
       "Very good      115\n",
       "Bad             57\n",
       "Fabulous        46\n",
       "Pleasant        32\n",
       "Exceptional     18\n",
       "Superb          16\n",
       "Passable         4\n",
       "Poor             1\n",
       "Very poor        1\n",
       "Name: Reviewscore, dtype: int64"
      ]
     },
     "execution_count": 23,
     "metadata": {},
     "output_type": "execute_result"
    }
   ],
   "source": [
    "# checking the value counts of reviewscore column again\n",
    "hotel_data['Reviewscore'].value_counts()"
   ]
  },
  {
   "cell_type": "code",
   "execution_count": 25,
   "metadata": {},
   "outputs": [],
   "source": [
    "hotel_data['Reviewscore'] = hotel_data['Reviewscore'].replace(['Passable', 'Very poor'], 'Poor')"
   ]
  },
  {
   "cell_type": "code",
   "execution_count": 26,
   "metadata": {},
   "outputs": [
    {
     "data": {
      "text/plain": [
       "4    186\n",
       "3     80\n",
       "5     72\n",
       "0     69\n",
       "2      7\n",
       "1      1\n",
       "Name: Starrating, dtype: int64"
      ]
     },
     "execution_count": 26,
     "metadata": {},
     "output_type": "execute_result"
    }
   ],
   "source": [
    "hotel_data['Starrating'].value_counts()"
   ]
  },
  {
   "cell_type": "code",
   "execution_count": 27,
   "metadata": {},
   "outputs": [
    {
     "data": {
      "text/plain": [
       "No    415\n",
       "Name: Freewifi, dtype: int64"
      ]
     },
     "execution_count": 27,
     "metadata": {},
     "output_type": "execute_result"
    }
   ],
   "source": [
    "hotel_data['Freewifi'].value_counts()"
   ]
  },
  {
   "cell_type": "code",
   "execution_count": 28,
   "metadata": {},
   "outputs": [
    {
     "data": {
      "text/plain": [
       "Yes    250\n",
       "No     165\n",
       "Name: Familyrooms, dtype: int64"
      ]
     },
     "execution_count": 28,
     "metadata": {},
     "output_type": "execute_result"
    }
   ],
   "source": [
    "hotel_data['Familyrooms'].value_counts()"
   ]
  },
  {
   "cell_type": "code",
   "execution_count": 29,
   "metadata": {},
   "outputs": [
    {
     "data": {
      "text/plain": [
       "Yes    349\n",
       "No      66\n",
       "Name: NonSmokingRooms, dtype: int64"
      ]
     },
     "execution_count": 29,
     "metadata": {},
     "output_type": "execute_result"
    }
   ],
   "source": [
    "hotel_data['NonSmokingRooms'].value_counts()"
   ]
  },
  {
   "cell_type": "code",
   "execution_count": 30,
   "metadata": {},
   "outputs": [
    {
     "data": {
      "text/plain": [
       "No     228\n",
       "Yes    187\n",
       "Name: Bar, dtype: int64"
      ]
     },
     "execution_count": 30,
     "metadata": {},
     "output_type": "execute_result"
    }
   ],
   "source": [
    "hotel_data['Bar'].value_counts()"
   ]
  },
  {
   "cell_type": "code",
   "execution_count": 31,
   "metadata": {},
   "outputs": [
    {
     "data": {
      "text/plain": [
       "No    415\n",
       "Name: Restaurant, dtype: int64"
      ]
     },
     "execution_count": 31,
     "metadata": {},
     "output_type": "execute_result"
    }
   ],
   "source": [
    "hotel_data['Restaurant'].value_counts()"
   ]
  },
  {
   "cell_type": "code",
   "execution_count": 32,
   "metadata": {},
   "outputs": [
    {
     "data": {
      "text/plain": [
       "Yes    351\n",
       "No      64\n",
       "Name: Heating, dtype: int64"
      ]
     },
     "execution_count": 32,
     "metadata": {},
     "output_type": "execute_result"
    }
   ],
   "source": [
    "hotel_data['Heating'].value_counts()"
   ]
  },
  {
   "cell_type": "code",
   "execution_count": 33,
   "metadata": {},
   "outputs": [
    {
     "data": {
      "text/plain": [
       "Yes    295\n",
       "No     120\n",
       "Name: Lift, dtype: int64"
      ]
     },
     "execution_count": 33,
     "metadata": {},
     "output_type": "execute_result"
    }
   ],
   "source": [
    "hotel_data['Lift'].value_counts()"
   ]
  },
  {
   "cell_type": "code",
   "execution_count": 34,
   "metadata": {},
   "outputs": [
    {
     "data": {
      "text/plain": [
       "-               214\n",
       "Continental,    105\n",
       "Continental      45\n",
       "Full             35\n",
       "Vegetarian,       9\n",
       "Buffet            5\n",
       "Italian,          1\n",
       "American          1\n",
       "Name: BreakfastCuisine1, dtype: int64"
      ]
     },
     "execution_count": 34,
     "metadata": {},
     "output_type": "execute_result"
    }
   ],
   "source": [
    "hotel_data['BreakfastCuisine1'].value_counts()"
   ]
  },
  {
   "cell_type": "code",
   "execution_count": 35,
   "metadata": {},
   "outputs": [],
   "source": [
    "# removing ',' from BreakfastCuisine1 value\n",
    "hotel_data['BreakfastCuisine1'] = hotel_data['BreakfastCuisine1'].str.replace(',', '')"
   ]
  },
  {
   "cell_type": "code",
   "execution_count": 36,
   "metadata": {},
   "outputs": [
    {
     "data": {
      "text/plain": [
       "-              214\n",
       "Continental    150\n",
       "Full            35\n",
       "Vegetarian       9\n",
       "Buffet           5\n",
       "Italian          1\n",
       "American         1\n",
       "Name: BreakfastCuisine1, dtype: int64"
      ]
     },
     "execution_count": 36,
     "metadata": {},
     "output_type": "execute_result"
    }
   ],
   "source": [
    "hotel_data['BreakfastCuisine1'].value_counts()"
   ]
  },
  {
   "cell_type": "code",
   "execution_count": 37,
   "metadata": {},
   "outputs": [],
   "source": [
    "# replace '-' with 'Continental' since it is the most common breakfast option available\n",
    "hotel_data['BreakfastCuisine1'] = hotel_data['BreakfastCuisine1'].replace('-','Continental')"
   ]
  },
  {
   "cell_type": "code",
   "execution_count": 38,
   "metadata": {},
   "outputs": [
    {
     "data": {
      "text/plain": [
       "-                 265\n",
       "Full               67\n",
       "Vegetarian,        23\n",
       "English/Irish      21\n",
       "English/Irish,     14\n",
       "Vegan,              6\n",
       "Italian,            5\n",
       "Gluten-free,        3\n",
       "American            3\n",
       "Breakfast           2\n",
       "Vegan               2\n",
       "Halal,              1\n",
       "Gluten-free         1\n",
       "American,           1\n",
       "Buffet              1\n",
       "Name: BreakfastCuisine2, dtype: int64"
      ]
     },
     "execution_count": 38,
     "metadata": {},
     "output_type": "execute_result"
    }
   ],
   "source": [
    "hotel_data['BreakfastCuisine2'].value_counts()"
   ]
  },
  {
   "cell_type": "code",
   "execution_count": 39,
   "metadata": {},
   "outputs": [
    {
     "data": {
      "text/plain": [
       "-                265\n",
       "Full              67\n",
       "English/Irish     35\n",
       "Vegetarian        23\n",
       "Vegan              8\n",
       "Italian            5\n",
       "Gluten-free        4\n",
       "American           4\n",
       "Breakfast          2\n",
       "Halal              1\n",
       "Buffet             1\n",
       "Name: BreakfastCuisine2, dtype: int64"
      ]
     },
     "execution_count": 39,
     "metadata": {},
     "output_type": "execute_result"
    }
   ],
   "source": [
    "# removing ',' from BreakfastCuisine2 value\n",
    "hotel_data['BreakfastCuisine2'] = hotel_data['BreakfastCuisine2'].str.replace(',', '')\n",
    "hotel_data['BreakfastCuisine2'].value_counts()"
   ]
  },
  {
   "cell_type": "code",
   "execution_count": 40,
   "metadata": {},
   "outputs": [
    {
     "data": {
      "text/plain": [
       "-                 293\n",
       "English/Irish,     61\n",
       "Halal,              9\n",
       "English/Irish       6\n",
       "Vegetarian,         6\n",
       "Buffet              5\n",
       "Gluten-free         5\n",
       "Vegan,              4\n",
       "Gluten-free,        4\n",
       "Full                4\n",
       "Vegetarian          4\n",
       "American            3\n",
       "American,           2\n",
       "to                  2\n",
       "Halal               2\n",
       "Vegan               2\n",
       "Breakfast           2\n",
       "Asian,              1\n",
       "Name: BreakfastCuisine3, dtype: int64"
      ]
     },
     "execution_count": 40,
     "metadata": {},
     "output_type": "execute_result"
    }
   ],
   "source": [
    "hotel_data['BreakfastCuisine3'].value_counts()"
   ]
  },
  {
   "cell_type": "code",
   "execution_count": 41,
   "metadata": {},
   "outputs": [
    {
     "data": {
      "text/plain": [
       "-                293\n",
       "English/Irish     67\n",
       "Halal             11\n",
       "Vegetarian        10\n",
       "Gluten-free        9\n",
       "Vegan              6\n",
       "Buffet             5\n",
       "American           5\n",
       "Full               4\n",
       "Breakfast          2\n",
       "to                 2\n",
       "Asian              1\n",
       "Name: BreakfastCuisine3, dtype: int64"
      ]
     },
     "execution_count": 41,
     "metadata": {},
     "output_type": "execute_result"
    }
   ],
   "source": [
    "# removing ',' from BreakfastCuisine3 value\n",
    "hotel_data['BreakfastCuisine3'] = hotel_data['BreakfastCuisine3'].str.replace(',', '')\n",
    "hotel_data['BreakfastCuisine3'].value_counts()"
   ]
  },
  {
   "cell_type": "markdown",
   "metadata": {},
   "source": [
    "We can see that most of the values in these two columns 'BreakfastCuisine2' and 'BreakfastCuisine3' are balnk. so we will drop the columns."
   ]
  },
  {
   "cell_type": "code",
   "execution_count": 42,
   "metadata": {},
   "outputs": [],
   "source": [
    "hotel_data.drop(['BreakfastCuisine2','BreakfastCuisine3'], axis=1, inplace=True)"
   ]
  },
  {
   "cell_type": "code",
   "execution_count": 43,
   "metadata": {},
   "outputs": [
    {
     "data": {
      "text/plain": [
       "No    415\n",
       "Name: Doublebed, dtype: int64"
      ]
     },
     "execution_count": 43,
     "metadata": {},
     "output_type": "execute_result"
    }
   ],
   "source": [
    "hotel_data['Doublebed'].value_counts()"
   ]
  },
  {
   "cell_type": "code",
   "execution_count": 44,
   "metadata": {},
   "outputs": [
    {
     "data": {
      "text/plain": [
       "No    415\n",
       "Name: SingleBed, dtype: int64"
      ]
     },
     "execution_count": 44,
     "metadata": {},
     "output_type": "execute_result"
    }
   ],
   "source": [
    "hotel_data['SingleBed'].value_counts()"
   ]
  },
  {
   "cell_type": "code",
   "execution_count": 45,
   "metadata": {},
   "outputs": [],
   "source": [
    "# dropping the doublebed, singlebed, freewifi and restaurant column since they contain only single value\n",
    "hotel_data.drop(['Doublebed', 'SingleBed', 'Freewifi', 'Restaurant'], axis=1, inplace=True)"
   ]
  },
  {
   "cell_type": "code",
   "execution_count": 46,
   "metadata": {},
   "outputs": [
    {
     "data": {
      "text/plain": [
       "Index(['Hotelname', 'City', 'Location', 'Numberofreviews', 'Userratings',\n",
       "       'Starrating', 'Reviewscore', 'Familyrooms', 'NonSmokingRooms', 'Bar',\n",
       "       'Heating', 'Lift', 'BreakfastCuisine1', 'RoomType', 'Prices'],\n",
       "      dtype='object')"
      ]
     },
     "execution_count": 46,
     "metadata": {},
     "output_type": "execute_result"
    }
   ],
   "source": [
    "hotel_data.columns"
   ]
  },
  {
   "cell_type": "code",
   "execution_count": 47,
   "metadata": {},
   "outputs": [
    {
     "data": {
      "text/plain": [
       "Melbourne    146\n",
       "London       126\n",
       "Dubai         64\n",
       "Paris         51\n",
       "Sydney        26\n",
       "-              1\n",
       "Name: City, dtype: int64"
      ]
     },
     "execution_count": 47,
     "metadata": {},
     "output_type": "execute_result"
    }
   ],
   "source": [
    "# value counts for city column\n",
    "hotel_data['City'].value_counts()"
   ]
  },
  {
   "cell_type": "markdown",
   "metadata": {},
   "source": [
    "#### EDA"
   ]
  },
  {
   "cell_type": "code",
   "execution_count": 48,
   "metadata": {},
   "outputs": [
    {
     "data": {
      "text/plain": [
       "(415, 15)"
      ]
     },
     "execution_count": 48,
     "metadata": {},
     "output_type": "execute_result"
    }
   ],
   "source": [
    "hotel_data.shape"
   ]
  },
  {
   "cell_type": "code",
   "execution_count": 49,
   "metadata": {},
   "outputs": [
    {
     "data": {
      "text/plain": [
       "Hotelname             0\n",
       "City                  1\n",
       "Location              0\n",
       "Numberofreviews       0\n",
       "Userratings          55\n",
       "Starrating            0\n",
       "Reviewscore           0\n",
       "Familyrooms           0\n",
       "NonSmokingRooms       0\n",
       "Bar                   0\n",
       "Heating               0\n",
       "Lift                  0\n",
       "BreakfastCuisine1     0\n",
       "RoomType              0\n",
       "Prices                9\n",
       "dtype: int64"
      ]
     },
     "execution_count": 49,
     "metadata": {},
     "output_type": "execute_result"
    }
   ],
   "source": [
    "# checking for Nan values\n",
    "hotel_data.isnull().sum()"
   ]
  },
  {
   "cell_type": "code",
   "execution_count": 50,
   "metadata": {},
   "outputs": [
    {
     "data": {
      "text/html": [
       "<div>\n",
       "<style scoped>\n",
       "    .dataframe tbody tr th:only-of-type {\n",
       "        vertical-align: middle;\n",
       "    }\n",
       "\n",
       "    .dataframe tbody tr th {\n",
       "        vertical-align: top;\n",
       "    }\n",
       "\n",
       "    .dataframe thead th {\n",
       "        text-align: right;\n",
       "    }\n",
       "</style>\n",
       "<table border=\"1\" class=\"dataframe\">\n",
       "  <thead>\n",
       "    <tr style=\"text-align: right;\">\n",
       "      <th></th>\n",
       "      <th>Hotelname</th>\n",
       "      <th>City</th>\n",
       "      <th>Location</th>\n",
       "      <th>Numberofreviews</th>\n",
       "      <th>Userratings</th>\n",
       "      <th>Starrating</th>\n",
       "      <th>Reviewscore</th>\n",
       "      <th>Familyrooms</th>\n",
       "      <th>NonSmokingRooms</th>\n",
       "      <th>Bar</th>\n",
       "      <th>Heating</th>\n",
       "      <th>Lift</th>\n",
       "      <th>BreakfastCuisine1</th>\n",
       "      <th>RoomType</th>\n",
       "      <th>Prices</th>\n",
       "    </tr>\n",
       "  </thead>\n",
       "  <tbody>\n",
       "    <tr>\n",
       "      <th>6</th>\n",
       "      <td>Work/Relaxation Blend Apartment</td>\n",
       "      <td>Dubai</td>\n",
       "      <td>Al A'amal Street DAMAC Executive Bay, Dubai, U...</td>\n",
       "      <td>0.0</td>\n",
       "      <td>NaN</td>\n",
       "      <td>4</td>\n",
       "      <td>Bad</td>\n",
       "      <td>No</td>\n",
       "      <td>Yes</td>\n",
       "      <td>No</td>\n",
       "      <td>No</td>\n",
       "      <td>Yes</td>\n",
       "      <td>Continental</td>\n",
       "      <td>Two-Bedroom Apartment</td>\n",
       "      <td>14078.0</td>\n",
       "    </tr>\n",
       "    <tr>\n",
       "      <th>7</th>\n",
       "      <td>Elegant One Bed Room Apartment</td>\n",
       "      <td>Dubai</td>\n",
       "      <td>Al Barsha 1 Al Waleed Building BA 05, Floor 5,...</td>\n",
       "      <td>0.0</td>\n",
       "      <td>NaN</td>\n",
       "      <td>4</td>\n",
       "      <td>Bad</td>\n",
       "      <td>Yes</td>\n",
       "      <td>No</td>\n",
       "      <td>No</td>\n",
       "      <td>No</td>\n",
       "      <td>No</td>\n",
       "      <td>Continental</td>\n",
       "      <td>One-Bedroom Apartment</td>\n",
       "      <td>11222.0</td>\n",
       "    </tr>\n",
       "    <tr>\n",
       "      <th>8</th>\n",
       "      <td>GuestReady - Rose Tint Eyes in Business Bay</td>\n",
       "      <td>Dubai</td>\n",
       "      <td>Ubora Towers, Dubai, United Arab Emirates</td>\n",
       "      <td>0.0</td>\n",
       "      <td>NaN</td>\n",
       "      <td>4</td>\n",
       "      <td>Bad</td>\n",
       "      <td>No</td>\n",
       "      <td>No</td>\n",
       "      <td>No</td>\n",
       "      <td>No</td>\n",
       "      <td>No</td>\n",
       "      <td>Continental</td>\n",
       "      <td>One-Bedroom Apartment</td>\n",
       "      <td>19338.0</td>\n",
       "    </tr>\n",
       "    <tr>\n",
       "      <th>10</th>\n",
       "      <td>Keysplease Murjan 2 One Bedroom w Balcony 59B</td>\n",
       "      <td>Dubai</td>\n",
       "      <td>Murjan 2 JBR, Jumeirah Beach Residence, Dubai,...</td>\n",
       "      <td>0.0</td>\n",
       "      <td>NaN</td>\n",
       "      <td>0</td>\n",
       "      <td>Bad</td>\n",
       "      <td>No</td>\n",
       "      <td>No</td>\n",
       "      <td>No</td>\n",
       "      <td>No</td>\n",
       "      <td>No</td>\n",
       "      <td>Continental</td>\n",
       "      <td>One-Bedroom Apartment</td>\n",
       "      <td>12469.0</td>\n",
       "    </tr>\n",
       "    <tr>\n",
       "      <th>11</th>\n",
       "      <td>Ultra Luxrious 1BHK Marina Dubai - 28th Floor</td>\n",
       "      <td>Dubai</td>\n",
       "      <td>escan tower Higher Floor, Dubai Marina, Dubai,...</td>\n",
       "      <td>0.0</td>\n",
       "      <td>NaN</td>\n",
       "      <td>0</td>\n",
       "      <td>Bad</td>\n",
       "      <td>Yes</td>\n",
       "      <td>Yes</td>\n",
       "      <td>Yes</td>\n",
       "      <td>No</td>\n",
       "      <td>No</td>\n",
       "      <td>Continental</td>\n",
       "      <td>One-Bedroom Apartment</td>\n",
       "      <td>20403.0</td>\n",
       "    </tr>\n",
       "    <tr>\n",
       "      <th>13</th>\n",
       "      <td>Cozy Haven Studio</td>\n",
       "      <td>Dubai</td>\n",
       "      <td>JVC Tower 108 9, Dubai, United Arab Emirates</td>\n",
       "      <td>0.0</td>\n",
       "      <td>NaN</td>\n",
       "      <td>4</td>\n",
       "      <td>Bad</td>\n",
       "      <td>Yes</td>\n",
       "      <td>Yes</td>\n",
       "      <td>Yes</td>\n",
       "      <td>Yes</td>\n",
       "      <td>No</td>\n",
       "      <td>Continental</td>\n",
       "      <td>One-Bedroom Apartment</td>\n",
       "      <td>4591.0</td>\n",
       "    </tr>\n",
       "    <tr>\n",
       "      <th>14</th>\n",
       "      <td>Promotional Price for Short stay Furnished 1 BHK</td>\n",
       "      <td>Dubai</td>\n",
       "      <td>Dubai Production City, Dubai, United Arab Emir...</td>\n",
       "      <td>0.0</td>\n",
       "      <td>NaN</td>\n",
       "      <td>0</td>\n",
       "      <td>Bad</td>\n",
       "      <td>Yes</td>\n",
       "      <td>No</td>\n",
       "      <td>Yes</td>\n",
       "      <td>Yes</td>\n",
       "      <td>Yes</td>\n",
       "      <td>Continental</td>\n",
       "      <td>One-Bedroom Apartment</td>\n",
       "      <td>9163.0</td>\n",
       "    </tr>\n",
       "    <tr>\n",
       "      <th>17</th>\n",
       "      <td>Spacious New Studio Wpool - Gym</td>\n",
       "      <td>Dubai</td>\n",
       "      <td>2/1, 6 Street, Dubailand Residence Complex, Wa...</td>\n",
       "      <td>0.0</td>\n",
       "      <td>NaN</td>\n",
       "      <td>4</td>\n",
       "      <td>Bad</td>\n",
       "      <td>No</td>\n",
       "      <td>No</td>\n",
       "      <td>No</td>\n",
       "      <td>No</td>\n",
       "      <td>Yes</td>\n",
       "      <td>Continental</td>\n",
       "      <td>Studio with Balcony</td>\n",
       "      <td>8161.0</td>\n",
       "    </tr>\n",
       "    <tr>\n",
       "      <th>18</th>\n",
       "      <td>Alashrafia Saray- Splendid 1BR apartment in Ca...</td>\n",
       "      <td>Dubai</td>\n",
       "      <td>Marasi Drive, Dubai, United Arab Emirates</td>\n",
       "      <td>0.0</td>\n",
       "      <td>NaN</td>\n",
       "      <td>4</td>\n",
       "      <td>Bad</td>\n",
       "      <td>Yes</td>\n",
       "      <td>Yes</td>\n",
       "      <td>Yes</td>\n",
       "      <td>No</td>\n",
       "      <td>Yes</td>\n",
       "      <td>Continental</td>\n",
       "      <td>One-Bedroom Apartment</td>\n",
       "      <td>6611.0</td>\n",
       "    </tr>\n",
       "    <tr>\n",
       "      <th>19</th>\n",
       "      <td>Spacious -Upgraded Studio Close to Metro- Tecom</td>\n",
       "      <td>Dubai</td>\n",
       "      <td>Madison Residency, Al Barsha Heights (Tecom), ...</td>\n",
       "      <td>0.0</td>\n",
       "      <td>NaN</td>\n",
       "      <td>4</td>\n",
       "      <td>Bad</td>\n",
       "      <td>No</td>\n",
       "      <td>Yes</td>\n",
       "      <td>No</td>\n",
       "      <td>No</td>\n",
       "      <td>Yes</td>\n",
       "      <td>Continental</td>\n",
       "      <td>Studio Apartment</td>\n",
       "      <td>16282.0</td>\n",
       "    </tr>\n",
       "    <tr>\n",
       "      <th>23</th>\n",
       "      <td>STAY Perfect 1BR Holiday Home near Burj Khalifa</td>\n",
       "      <td>Dubai</td>\n",
       "      <td>B2804,Sobha Creek Vistas B, Sobha Hartland, Na...</td>\n",
       "      <td>0.0</td>\n",
       "      <td>NaN</td>\n",
       "      <td>5</td>\n",
       "      <td>Bad</td>\n",
       "      <td>Yes</td>\n",
       "      <td>Yes</td>\n",
       "      <td>No</td>\n",
       "      <td>Yes</td>\n",
       "      <td>Yes</td>\n",
       "      <td>Continental</td>\n",
       "      <td>One-Bedroom Apartment</td>\n",
       "      <td>10598.0</td>\n",
       "    </tr>\n",
       "    <tr>\n",
       "      <th>24</th>\n",
       "      <td>Superb Studio in Luma 21-JVC</td>\n",
       "      <td>Dubai</td>\n",
       "      <td>Luma 21, Dubai, United Arab Emirates</td>\n",
       "      <td>0.0</td>\n",
       "      <td>NaN</td>\n",
       "      <td>4</td>\n",
       "      <td>Bad</td>\n",
       "      <td>No</td>\n",
       "      <td>Yes</td>\n",
       "      <td>No</td>\n",
       "      <td>No</td>\n",
       "      <td>Yes</td>\n",
       "      <td>Continental</td>\n",
       "      <td>Studio Apartment</td>\n",
       "      <td>12487.0</td>\n",
       "    </tr>\n",
       "    <tr>\n",
       "      <th>105</th>\n",
       "      <td>Furnished 1 Bedroom Apartment</td>\n",
       "      <td>Dubai</td>\n",
       "      <td>sandy signature 2, Dubai, United Arab Emirates</td>\n",
       "      <td>0.0</td>\n",
       "      <td>NaN</td>\n",
       "      <td>0</td>\n",
       "      <td>Bad</td>\n",
       "      <td>No</td>\n",
       "      <td>No</td>\n",
       "      <td>No</td>\n",
       "      <td>Yes</td>\n",
       "      <td>No</td>\n",
       "      <td>Continental</td>\n",
       "      <td>One-Bedroom Apartment</td>\n",
       "      <td>7804.0</td>\n",
       "    </tr>\n",
       "    <tr>\n",
       "      <th>106</th>\n",
       "      <td>Aliving Iconic 1BR at Dubai Marina Near Metro</td>\n",
       "      <td>Dubai</td>\n",
       "      <td>Al Marsa Street, Dubai Marina, Dubai, United A...</td>\n",
       "      <td>0.0</td>\n",
       "      <td>NaN</td>\n",
       "      <td>4</td>\n",
       "      <td>Bad</td>\n",
       "      <td>No</td>\n",
       "      <td>No</td>\n",
       "      <td>No</td>\n",
       "      <td>No</td>\n",
       "      <td>No</td>\n",
       "      <td>Continental</td>\n",
       "      <td>One-Bedroom Apartment</td>\n",
       "      <td>10032.0</td>\n",
       "    </tr>\n",
       "    <tr>\n",
       "      <th>113</th>\n",
       "      <td>Vogue Jumeirah Living - Near Burj Al Arab &amp; Beach</td>\n",
       "      <td>Dubai</td>\n",
       "      <td>Rahaal -2, Umm Suqeim, Dubai, United Arab Emir...</td>\n",
       "      <td>0.0</td>\n",
       "      <td>NaN</td>\n",
       "      <td>4</td>\n",
       "      <td>Bad</td>\n",
       "      <td>Yes</td>\n",
       "      <td>Yes</td>\n",
       "      <td>No</td>\n",
       "      <td>No</td>\n",
       "      <td>Yes</td>\n",
       "      <td>Continental</td>\n",
       "      <td>Apartment with Balcony</td>\n",
       "      <td>13058.0</td>\n",
       "    </tr>\n",
       "    <tr>\n",
       "      <th>128</th>\n",
       "      <td>JVC Sydney Towers, 1 Bedroom Apartment</td>\n",
       "      <td>Dubai</td>\n",
       "      <td>Lazuward South West 1402, Dubai, United Arab E...</td>\n",
       "      <td>0.0</td>\n",
       "      <td>NaN</td>\n",
       "      <td>0</td>\n",
       "      <td>Bad</td>\n",
       "      <td>No</td>\n",
       "      <td>Yes</td>\n",
       "      <td>No</td>\n",
       "      <td>Yes</td>\n",
       "      <td>No</td>\n",
       "      <td>Continental</td>\n",
       "      <td>One-Bedroom Apartment</td>\n",
       "      <td>13772.0</td>\n",
       "    </tr>\n",
       "    <tr>\n",
       "      <th>138</th>\n",
       "      <td>Incredible Paramount Apt D542</td>\n",
       "      <td>Dubai</td>\n",
       "      <td>Damac Paramount Towers, Dubai, United Arab Emi...</td>\n",
       "      <td>0.0</td>\n",
       "      <td>NaN</td>\n",
       "      <td>0</td>\n",
       "      <td>Bad</td>\n",
       "      <td>No</td>\n",
       "      <td>No</td>\n",
       "      <td>No</td>\n",
       "      <td>No</td>\n",
       "      <td>No</td>\n",
       "      <td>Continental</td>\n",
       "      <td>Two-Bedroom Apartment</td>\n",
       "      <td>15869.0</td>\n",
       "    </tr>\n",
       "    <tr>\n",
       "      <th>500</th>\n",
       "      <td>Daisy’s Place in London</td>\n",
       "      <td>London</td>\n",
       "      <td>Nightingale Lane, London, E11 2EZ, United Kingdom</td>\n",
       "      <td>0.0</td>\n",
       "      <td>NaN</td>\n",
       "      <td>4</td>\n",
       "      <td>Bad</td>\n",
       "      <td>Yes</td>\n",
       "      <td>Yes</td>\n",
       "      <td>No</td>\n",
       "      <td>Yes</td>\n",
       "      <td>No</td>\n",
       "      <td>Continental</td>\n",
       "      <td>Two-Bedroom Apartment</td>\n",
       "      <td>10978.0</td>\n",
       "    </tr>\n",
       "    <tr>\n",
       "      <th>501</th>\n",
       "      <td>Immaculate Ensuite Room Crystal Palace London ...</td>\n",
       "      <td>London</td>\n",
       "      <td>192 Maple Road, London, SE20 8HT, United Kingdom</td>\n",
       "      <td>0.0</td>\n",
       "      <td>NaN</td>\n",
       "      <td>4</td>\n",
       "      <td>Bad</td>\n",
       "      <td>No</td>\n",
       "      <td>No</td>\n",
       "      <td>No</td>\n",
       "      <td>Yes</td>\n",
       "      <td>No</td>\n",
       "      <td>Continental</td>\n",
       "      <td>Studio</td>\n",
       "      <td>13654.0</td>\n",
       "    </tr>\n",
       "    <tr>\n",
       "      <th>502</th>\n",
       "      <td>Parkhouse</td>\n",
       "      <td>London</td>\n",
       "      <td>Parkhouse 1 Manor Park Road Flat 8, Brent, Lon...</td>\n",
       "      <td>0.0</td>\n",
       "      <td>NaN</td>\n",
       "      <td>0</td>\n",
       "      <td>Bad</td>\n",
       "      <td>No</td>\n",
       "      <td>No</td>\n",
       "      <td>No</td>\n",
       "      <td>Yes</td>\n",
       "      <td>No</td>\n",
       "      <td>Continental</td>\n",
       "      <td>Two-Bedroom Apartment</td>\n",
       "      <td>11606.0</td>\n",
       "    </tr>\n",
       "    <tr>\n",
       "      <th>503</th>\n",
       "      <td>Elegant House in Marylebone</td>\n",
       "      <td>London</td>\n",
       "      <td>73 Blandford Street, Westminster Borough, Lond...</td>\n",
       "      <td>0.0</td>\n",
       "      <td>NaN</td>\n",
       "      <td>4</td>\n",
       "      <td>Bad</td>\n",
       "      <td>No</td>\n",
       "      <td>Yes</td>\n",
       "      <td>No</td>\n",
       "      <td>Yes</td>\n",
       "      <td>No</td>\n",
       "      <td>Continental</td>\n",
       "      <td>Two-Bedroom Apartment</td>\n",
       "      <td>52592.0</td>\n",
       "    </tr>\n",
       "    <tr>\n",
       "      <th>506</th>\n",
       "      <td>Chelsea creek</td>\n",
       "      <td>London</td>\n",
       "      <td>Chelsea creek, Hammersmith and Fulham, London,...</td>\n",
       "      <td>0.0</td>\n",
       "      <td>NaN</td>\n",
       "      <td>0</td>\n",
       "      <td>Bad</td>\n",
       "      <td>Yes</td>\n",
       "      <td>Yes</td>\n",
       "      <td>Yes</td>\n",
       "      <td>Yes</td>\n",
       "      <td>No</td>\n",
       "      <td>Continental</td>\n",
       "      <td>Three-Bedroom Apartment</td>\n",
       "      <td>49153.0</td>\n",
       "    </tr>\n",
       "    <tr>\n",
       "      <th>508</th>\n",
       "      <td>Large, Bright and Spacious 3 Bed Flat in London</td>\n",
       "      <td>London</td>\n",
       "      <td>Kellett Road, Lambeth, London, SW2 1EA, United...</td>\n",
       "      <td>0.0</td>\n",
       "      <td>NaN</td>\n",
       "      <td>0</td>\n",
       "      <td>Bad</td>\n",
       "      <td>Yes</td>\n",
       "      <td>Yes</td>\n",
       "      <td>No</td>\n",
       "      <td>Yes</td>\n",
       "      <td>No</td>\n",
       "      <td>Continental</td>\n",
       "      <td>Three-Bedroom Apartment</td>\n",
       "      <td>15145.0</td>\n",
       "    </tr>\n",
       "    <tr>\n",
       "      <th>510</th>\n",
       "      <td>Spacious 1 Bedroom rental unit in West London</td>\n",
       "      <td>London</td>\n",
       "      <td>w11 4ju, Hammersmith and Fulham, London, W11 4...</td>\n",
       "      <td>0.0</td>\n",
       "      <td>NaN</td>\n",
       "      <td>0</td>\n",
       "      <td>Bad</td>\n",
       "      <td>No</td>\n",
       "      <td>No</td>\n",
       "      <td>Yes</td>\n",
       "      <td>Yes</td>\n",
       "      <td>No</td>\n",
       "      <td>Continental</td>\n",
       "      <td>One-Bedroom Apartment</td>\n",
       "      <td>16384.0</td>\n",
       "    </tr>\n",
       "    <tr>\n",
       "      <th>518</th>\n",
       "      <td>Cozy apartment</td>\n",
       "      <td>London</td>\n",
       "      <td>Newent Close, Southwark, London, SE15 6ED, Uni...</td>\n",
       "      <td>0.0</td>\n",
       "      <td>NaN</td>\n",
       "      <td>0</td>\n",
       "      <td>Bad</td>\n",
       "      <td>No</td>\n",
       "      <td>No</td>\n",
       "      <td>No</td>\n",
       "      <td>Yes</td>\n",
       "      <td>No</td>\n",
       "      <td>Continental</td>\n",
       "      <td>One-Bedroom Apartment</td>\n",
       "      <td>10013.0</td>\n",
       "    </tr>\n",
       "    <tr>\n",
       "      <th>561</th>\n",
       "      <td>Charming Retreat in Pimlico</td>\n",
       "      <td>London</td>\n",
       "      <td>Churchill Gardens, Westminster Borough, London...</td>\n",
       "      <td>0.0</td>\n",
       "      <td>NaN</td>\n",
       "      <td>0</td>\n",
       "      <td>Bad</td>\n",
       "      <td>No</td>\n",
       "      <td>No</td>\n",
       "      <td>No</td>\n",
       "      <td>No</td>\n",
       "      <td>No</td>\n",
       "      <td>Continental</td>\n",
       "      <td>Two-Bedroom Apartment</td>\n",
       "      <td>17204.0</td>\n",
       "    </tr>\n",
       "    <tr>\n",
       "      <th>589</th>\n",
       "      <td>Wembley Stadium Luxurious Apartment</td>\n",
       "      <td>London</td>\n",
       "      <td>Flat 73 Elizabeth House HA9 6DB, Brent, London...</td>\n",
       "      <td>0.0</td>\n",
       "      <td>NaN</td>\n",
       "      <td>0</td>\n",
       "      <td>Bad</td>\n",
       "      <td>No</td>\n",
       "      <td>No</td>\n",
       "      <td>No</td>\n",
       "      <td>Yes</td>\n",
       "      <td>No</td>\n",
       "      <td>Continental</td>\n",
       "      <td>One-Bedroom Apartment</td>\n",
       "      <td>24577.0</td>\n",
       "    </tr>\n",
       "    <tr>\n",
       "      <th>648</th>\n",
       "      <td>Beatiful Flat in Earls Court</td>\n",
       "      <td>London</td>\n",
       "      <td>Lower Ground Flat, 41 Collingham Place, Kensin...</td>\n",
       "      <td>0.0</td>\n",
       "      <td>NaN</td>\n",
       "      <td>0</td>\n",
       "      <td>Bad</td>\n",
       "      <td>No</td>\n",
       "      <td>No</td>\n",
       "      <td>No</td>\n",
       "      <td>No</td>\n",
       "      <td>No</td>\n",
       "      <td>Continental</td>\n",
       "      <td>One-Bedroom Apartment</td>\n",
       "      <td>20228.0</td>\n",
       "    </tr>\n",
       "    <tr>\n",
       "      <th>755</th>\n",
       "      <td>2 bedroom luxury Knightsbridge</td>\n",
       "      <td>London</td>\n",
       "      <td>1 Basil Street, Westminster Borough, London, S...</td>\n",
       "      <td>0.0</td>\n",
       "      <td>NaN</td>\n",
       "      <td>0</td>\n",
       "      <td>Bad</td>\n",
       "      <td>No</td>\n",
       "      <td>No</td>\n",
       "      <td>No</td>\n",
       "      <td>Yes</td>\n",
       "      <td>Yes</td>\n",
       "      <td>Continental</td>\n",
       "      <td>Two-Bedroom Apartment</td>\n",
       "      <td>50063.0</td>\n",
       "    </tr>\n",
       "    <tr>\n",
       "      <th>767</th>\n",
       "      <td>Luxury Finsbury Park Apartment</td>\n",
       "      <td>London</td>\n",
       "      <td>Flat 1, Hackney, London, N4 1QQ, United Kingdom</td>\n",
       "      <td>0.0</td>\n",
       "      <td>NaN</td>\n",
       "      <td>0</td>\n",
       "      <td>Bad</td>\n",
       "      <td>Yes</td>\n",
       "      <td>Yes</td>\n",
       "      <td>No</td>\n",
       "      <td>Yes</td>\n",
       "      <td>No</td>\n",
       "      <td>Continental</td>\n",
       "      <td>Three-Bedroom Apartment</td>\n",
       "      <td>24273.0</td>\n",
       "    </tr>\n",
       "    <tr>\n",
       "      <th>972</th>\n",
       "      <td>Lux Home at The Arc Bondi Beach</td>\n",
       "      <td>Sydney</td>\n",
       "      <td>299 Simpson Street, Bondi, 2026 Sydney, Australia</td>\n",
       "      <td>0.0</td>\n",
       "      <td>NaN</td>\n",
       "      <td>0</td>\n",
       "      <td>Bad</td>\n",
       "      <td>No</td>\n",
       "      <td>No</td>\n",
       "      <td>No</td>\n",
       "      <td>Yes</td>\n",
       "      <td>No</td>\n",
       "      <td>Continental</td>\n",
       "      <td>Villa</td>\n",
       "      <td>99093.0</td>\n",
       "    </tr>\n",
       "    <tr>\n",
       "      <th>1215</th>\n",
       "      <td>-</td>\n",
       "      <td>-</td>\n",
       "      <td>-</td>\n",
       "      <td>0.0</td>\n",
       "      <td>NaN</td>\n",
       "      <td>0</td>\n",
       "      <td>Bad</td>\n",
       "      <td>No</td>\n",
       "      <td>No</td>\n",
       "      <td>No</td>\n",
       "      <td>No</td>\n",
       "      <td>No</td>\n",
       "      <td>Continental</td>\n",
       "      <td>-</td>\n",
       "      <td>NaN</td>\n",
       "    </tr>\n",
       "    <tr>\n",
       "      <th>1502</th>\n",
       "      <td>Southbank two bedrooms apartment</td>\n",
       "      <td>Melbourne</td>\n",
       "      <td>58 Clarke Street 704, Southbank, 3006 Melbourn...</td>\n",
       "      <td>0.0</td>\n",
       "      <td>NaN</td>\n",
       "      <td>0</td>\n",
       "      <td>Bad</td>\n",
       "      <td>No</td>\n",
       "      <td>No</td>\n",
       "      <td>No</td>\n",
       "      <td>Yes</td>\n",
       "      <td>No</td>\n",
       "      <td>Continental</td>\n",
       "      <td>Two-Bedroom Apartment</td>\n",
       "      <td>10387.0</td>\n",
       "    </tr>\n",
       "    <tr>\n",
       "      <th>1504</th>\n",
       "      <td>City Center Serenity Suite at Southern Cross P...</td>\n",
       "      <td>Melbourne</td>\n",
       "      <td>633 Little Lonsdale Street, 3000 Melbourne, Au...</td>\n",
       "      <td>0.0</td>\n",
       "      <td>NaN</td>\n",
       "      <td>4</td>\n",
       "      <td>Bad</td>\n",
       "      <td>Yes</td>\n",
       "      <td>Yes</td>\n",
       "      <td>No</td>\n",
       "      <td>Yes</td>\n",
       "      <td>Yes</td>\n",
       "      <td>Continental</td>\n",
       "      <td>-</td>\n",
       "      <td>NaN</td>\n",
       "    </tr>\n",
       "    <tr>\n",
       "      <th>1689</th>\n",
       "      <td>Cozy &amp; Luxury Apt in heart of CBD 2B2B+1 Car S...</td>\n",
       "      <td>Melbourne</td>\n",
       "      <td>157 A'Beckett Street, 3000 Melbourne, Australia</td>\n",
       "      <td>0.0</td>\n",
       "      <td>NaN</td>\n",
       "      <td>4</td>\n",
       "      <td>Bad</td>\n",
       "      <td>No</td>\n",
       "      <td>Yes</td>\n",
       "      <td>Yes</td>\n",
       "      <td>Yes</td>\n",
       "      <td>Yes</td>\n",
       "      <td>Continental</td>\n",
       "      <td>Two-Bedroom Apartment</td>\n",
       "      <td>9801.0</td>\n",
       "    </tr>\n",
       "    <tr>\n",
       "      <th>1745</th>\n",
       "      <td>Apartment In Melbourne with City Views</td>\n",
       "      <td>Melbourne</td>\n",
       "      <td>2709/8 Franklin Street, 3000 Melbourne, Australia</td>\n",
       "      <td>0.0</td>\n",
       "      <td>NaN</td>\n",
       "      <td>3</td>\n",
       "      <td>Bad</td>\n",
       "      <td>No</td>\n",
       "      <td>No</td>\n",
       "      <td>Yes</td>\n",
       "      <td>Yes</td>\n",
       "      <td>No</td>\n",
       "      <td>Continental</td>\n",
       "      <td>-</td>\n",
       "      <td>NaN</td>\n",
       "    </tr>\n",
       "    <tr>\n",
       "      <th>1752</th>\n",
       "      <td>Gorgeous 1B Docklands apt/Amazing view facility#2</td>\n",
       "      <td>Melbourne</td>\n",
       "      <td>673 Collins Street, Docklands, 3008 Melbourne,...</td>\n",
       "      <td>0.0</td>\n",
       "      <td>NaN</td>\n",
       "      <td>0</td>\n",
       "      <td>Bad</td>\n",
       "      <td>No</td>\n",
       "      <td>Yes</td>\n",
       "      <td>No</td>\n",
       "      <td>Yes</td>\n",
       "      <td>No</td>\n",
       "      <td>Continental</td>\n",
       "      <td>One-Bedroom Apartment</td>\n",
       "      <td>6867.0</td>\n",
       "    </tr>\n",
       "    <tr>\n",
       "      <th>1758</th>\n",
       "      <td>Nest Apartments Meet Upper West Side</td>\n",
       "      <td>Melbourne</td>\n",
       "      <td>220 Spencer Street, 3000 Melbourne, Australia</td>\n",
       "      <td>0.0</td>\n",
       "      <td>NaN</td>\n",
       "      <td>4</td>\n",
       "      <td>Bad</td>\n",
       "      <td>No</td>\n",
       "      <td>No</td>\n",
       "      <td>No</td>\n",
       "      <td>Yes</td>\n",
       "      <td>Yes</td>\n",
       "      <td>Continental</td>\n",
       "      <td>-</td>\n",
       "      <td>NaN</td>\n",
       "    </tr>\n",
       "    <tr>\n",
       "      <th>1771</th>\n",
       "      <td>Convenient City Apartment 2 Bedroom w Free Par...</td>\n",
       "      <td>Melbourne</td>\n",
       "      <td>Collins Street 39, 3000 Melbourne, Australia</td>\n",
       "      <td>0.0</td>\n",
       "      <td>NaN</td>\n",
       "      <td>4</td>\n",
       "      <td>Bad</td>\n",
       "      <td>No</td>\n",
       "      <td>No</td>\n",
       "      <td>No</td>\n",
       "      <td>Yes</td>\n",
       "      <td>Yes</td>\n",
       "      <td>Continental</td>\n",
       "      <td>Two-Bedroom Apartment</td>\n",
       "      <td>9297.0</td>\n",
       "    </tr>\n",
       "    <tr>\n",
       "      <th>1819</th>\n",
       "      <td>Melbourne 2 bedrooms unit for hire</td>\n",
       "      <td>Melbourne</td>\n",
       "      <td>1710/39 Lonsdale Street, 3000 Melbourne, Austr...</td>\n",
       "      <td>0.0</td>\n",
       "      <td>NaN</td>\n",
       "      <td>3</td>\n",
       "      <td>Bad</td>\n",
       "      <td>No</td>\n",
       "      <td>No</td>\n",
       "      <td>No</td>\n",
       "      <td>No</td>\n",
       "      <td>No</td>\n",
       "      <td>Continental</td>\n",
       "      <td>Two-Bedroom Apartment</td>\n",
       "      <td>5942.0</td>\n",
       "    </tr>\n",
       "    <tr>\n",
       "      <th>1963</th>\n",
       "      <td>Lovely Studio near Sacré-Cœur</td>\n",
       "      <td>Paris</td>\n",
       "      <td>28 Rue Ramey, 18th arr., 75018 Paris, France</td>\n",
       "      <td>0.0</td>\n",
       "      <td>NaN</td>\n",
       "      <td>3</td>\n",
       "      <td>Bad</td>\n",
       "      <td>No</td>\n",
       "      <td>Yes</td>\n",
       "      <td>No</td>\n",
       "      <td>Yes</td>\n",
       "      <td>No</td>\n",
       "      <td>Continental</td>\n",
       "      <td>Apartment</td>\n",
       "      <td>11683.0</td>\n",
       "    </tr>\n",
       "    <tr>\n",
       "      <th>1964</th>\n",
       "      <td>Confort à Maridor</td>\n",
       "      <td>Paris</td>\n",
       "      <td>4G 31 Rue Jean Maridor, 15th arr., 75015 Paris...</td>\n",
       "      <td>0.0</td>\n",
       "      <td>NaN</td>\n",
       "      <td>4</td>\n",
       "      <td>Bad</td>\n",
       "      <td>Yes</td>\n",
       "      <td>Yes</td>\n",
       "      <td>No</td>\n",
       "      <td>Yes</td>\n",
       "      <td>No</td>\n",
       "      <td>Continental</td>\n",
       "      <td>One-Bedroom Apartment</td>\n",
       "      <td>13865.0</td>\n",
       "    </tr>\n",
       "    <tr>\n",
       "      <th>1965</th>\n",
       "      <td>Champs Elysées deux pas de l Etoile Tour Eiffel</td>\n",
       "      <td>Paris</td>\n",
       "      <td>6 Rue de Ponthieu, 8th arr., 75008 Paris, France</td>\n",
       "      <td>0.0</td>\n",
       "      <td>NaN</td>\n",
       "      <td>3</td>\n",
       "      <td>Bad</td>\n",
       "      <td>No</td>\n",
       "      <td>No</td>\n",
       "      <td>No</td>\n",
       "      <td>Yes</td>\n",
       "      <td>No</td>\n",
       "      <td>Continental</td>\n",
       "      <td>Two-Bedroom Apartment</td>\n",
       "      <td>77398.0</td>\n",
       "    </tr>\n",
       "    <tr>\n",
       "      <th>1966</th>\n",
       "      <td>Saint Dominique</td>\n",
       "      <td>Paris</td>\n",
       "      <td>112 Rue Saint-Dominique, 7th arr., 75007 Paris...</td>\n",
       "      <td>0.0</td>\n",
       "      <td>NaN</td>\n",
       "      <td>0</td>\n",
       "      <td>Bad</td>\n",
       "      <td>Yes</td>\n",
       "      <td>Yes</td>\n",
       "      <td>Yes</td>\n",
       "      <td>No</td>\n",
       "      <td>No</td>\n",
       "      <td>Continental</td>\n",
       "      <td>Superior Apartment</td>\n",
       "      <td>39489.0</td>\n",
       "    </tr>\n",
       "    <tr>\n",
       "      <th>1967</th>\n",
       "      <td>Place Wagram</td>\n",
       "      <td>Paris</td>\n",
       "      <td>1 Place de Wagram, 17th arr., 75017 Paris, France</td>\n",
       "      <td>0.0</td>\n",
       "      <td>NaN</td>\n",
       "      <td>3</td>\n",
       "      <td>Bad</td>\n",
       "      <td>Yes</td>\n",
       "      <td>Yes</td>\n",
       "      <td>No</td>\n",
       "      <td>Yes</td>\n",
       "      <td>No</td>\n",
       "      <td>Continental</td>\n",
       "      <td>One-Bedroom Apartment</td>\n",
       "      <td>31591.0</td>\n",
       "    </tr>\n",
       "    <tr>\n",
       "      <th>1968</th>\n",
       "      <td>Appartement luxe 2 pièces proche Tour Eiffel</td>\n",
       "      <td>Paris</td>\n",
       "      <td>2 16 Rue Emmanuel Chauvière, 15th arr., 75015 ...</td>\n",
       "      <td>0.0</td>\n",
       "      <td>NaN</td>\n",
       "      <td>4</td>\n",
       "      <td>Bad</td>\n",
       "      <td>No</td>\n",
       "      <td>No</td>\n",
       "      <td>No</td>\n",
       "      <td>Yes</td>\n",
       "      <td>Yes</td>\n",
       "      <td>Continental</td>\n",
       "      <td>One-Bedroom Apartment</td>\n",
       "      <td>29222.0</td>\n",
       "    </tr>\n",
       "    <tr>\n",
       "      <th>1969</th>\n",
       "      <td>Cosy studio 2P - Batignolles Pigalle</td>\n",
       "      <td>Paris</td>\n",
       "      <td>15 Rue Lécluse, 17th arr., 75017 Paris, France</td>\n",
       "      <td>0.0</td>\n",
       "      <td>NaN</td>\n",
       "      <td>3</td>\n",
       "      <td>Bad</td>\n",
       "      <td>No</td>\n",
       "      <td>Yes</td>\n",
       "      <td>No</td>\n",
       "      <td>Yes</td>\n",
       "      <td>No</td>\n",
       "      <td>Continental</td>\n",
       "      <td>Apartment</td>\n",
       "      <td>10913.0</td>\n",
       "    </tr>\n",
       "    <tr>\n",
       "      <th>1970</th>\n",
       "      <td>Appartement luxe Avenue Foch /Arc de Triomphe ...</td>\n",
       "      <td>Paris</td>\n",
       "      <td>64B Rue Pergolèse, 16th arr., 75116 Paris, France</td>\n",
       "      <td>0.0</td>\n",
       "      <td>NaN</td>\n",
       "      <td>0</td>\n",
       "      <td>Bad</td>\n",
       "      <td>No</td>\n",
       "      <td>No</td>\n",
       "      <td>No</td>\n",
       "      <td>Yes</td>\n",
       "      <td>No</td>\n",
       "      <td>Continental</td>\n",
       "      <td>One-Bedroom Apartment</td>\n",
       "      <td>46597.0</td>\n",
       "    </tr>\n",
       "    <tr>\n",
       "      <th>1972</th>\n",
       "      <td>Charming T2 Batignolles with private courtyard</td>\n",
       "      <td>Paris</td>\n",
       "      <td>23 Rue Clairaut, 17th arr., 75017 Paris, France</td>\n",
       "      <td>0.0</td>\n",
       "      <td>NaN</td>\n",
       "      <td>3</td>\n",
       "      <td>Bad</td>\n",
       "      <td>No</td>\n",
       "      <td>Yes</td>\n",
       "      <td>No</td>\n",
       "      <td>Yes</td>\n",
       "      <td>No</td>\n",
       "      <td>Continental</td>\n",
       "      <td>Apartment</td>\n",
       "      <td>7787.0</td>\n",
       "    </tr>\n",
       "    <tr>\n",
       "      <th>1973</th>\n",
       "      <td>Charmant studio rénové calme triangle d’Or Can...</td>\n",
       "      <td>Paris</td>\n",
       "      <td>44 Rue de Lancry, 10th arr., 75010 Paris, France</td>\n",
       "      <td>0.0</td>\n",
       "      <td>NaN</td>\n",
       "      <td>3</td>\n",
       "      <td>Bad</td>\n",
       "      <td>No</td>\n",
       "      <td>No</td>\n",
       "      <td>No</td>\n",
       "      <td>Yes</td>\n",
       "      <td>No</td>\n",
       "      <td>Continental</td>\n",
       "      <td>One-Bedroom Apartment</td>\n",
       "      <td>13163.0</td>\n",
       "    </tr>\n",
       "    <tr>\n",
       "      <th>1974</th>\n",
       "      <td>Paris Quartier Latin</td>\n",
       "      <td>Paris</td>\n",
       "      <td>Rue du Cardinal Lemoine, 5th arr., 75005 Paris...</td>\n",
       "      <td>0.0</td>\n",
       "      <td>NaN</td>\n",
       "      <td>3</td>\n",
       "      <td>Bad</td>\n",
       "      <td>Yes</td>\n",
       "      <td>Yes</td>\n",
       "      <td>No</td>\n",
       "      <td>Yes</td>\n",
       "      <td>Yes</td>\n",
       "      <td>Continental</td>\n",
       "      <td>Two-Bedroom Apartment</td>\n",
       "      <td>24176.0</td>\n",
       "    </tr>\n",
       "    <tr>\n",
       "      <th>1975</th>\n",
       "      <td>Appartement spacieux Paris 13.</td>\n",
       "      <td>Paris</td>\n",
       "      <td>25 Rue Gandon, 13th arr., 75013 Paris, France</td>\n",
       "      <td>0.0</td>\n",
       "      <td>NaN</td>\n",
       "      <td>0</td>\n",
       "      <td>Bad</td>\n",
       "      <td>No</td>\n",
       "      <td>No</td>\n",
       "      <td>No</td>\n",
       "      <td>No</td>\n",
       "      <td>No</td>\n",
       "      <td>Continental</td>\n",
       "      <td>Apartment</td>\n",
       "      <td>17551.0</td>\n",
       "    </tr>\n",
       "    <tr>\n",
       "      <th>1977</th>\n",
       "      <td>Cosy apt Arc de Triomphe</td>\n",
       "      <td>Paris</td>\n",
       "      <td>118 Rue de Courcelles, 17th arr., 75017 Paris,...</td>\n",
       "      <td>0.0</td>\n",
       "      <td>NaN</td>\n",
       "      <td>0</td>\n",
       "      <td>Bad</td>\n",
       "      <td>No</td>\n",
       "      <td>No</td>\n",
       "      <td>No</td>\n",
       "      <td>No</td>\n",
       "      <td>No</td>\n",
       "      <td>Continental</td>\n",
       "      <td>One-Bedroom Apartment</td>\n",
       "      <td>25010.0</td>\n",
       "    </tr>\n",
       "    <tr>\n",
       "      <th>2011</th>\n",
       "      <td>Appartement élégant</td>\n",
       "      <td>Paris</td>\n",
       "      <td>108 Rue de Longchamp, 16th arr., 75016 Paris, ...</td>\n",
       "      <td>0.0</td>\n",
       "      <td>NaN</td>\n",
       "      <td>0</td>\n",
       "      <td>Bad</td>\n",
       "      <td>No</td>\n",
       "      <td>No</td>\n",
       "      <td>No</td>\n",
       "      <td>Yes</td>\n",
       "      <td>No</td>\n",
       "      <td>Continental</td>\n",
       "      <td>One-Bedroom Apartment</td>\n",
       "      <td>83914.0</td>\n",
       "    </tr>\n",
       "    <tr>\n",
       "      <th>2030</th>\n",
       "      <td>The Parisien - au cœur du Marais - Centre Paris</td>\n",
       "      <td>Paris</td>\n",
       "      <td>18 Rue des Ecouffes, 4th arr., 75004 Paris, Fr...</td>\n",
       "      <td>0.0</td>\n",
       "      <td>NaN</td>\n",
       "      <td>3</td>\n",
       "      <td>Bad</td>\n",
       "      <td>No</td>\n",
       "      <td>Yes</td>\n",
       "      <td>No</td>\n",
       "      <td>No</td>\n",
       "      <td>No</td>\n",
       "      <td>Continental</td>\n",
       "      <td>One-Bedroom Apartment</td>\n",
       "      <td>18244.0</td>\n",
       "    </tr>\n",
       "  </tbody>\n",
       "</table>\n",
       "</div>"
      ],
      "text/plain": [
       "                                              Hotelname       City  \\\n",
       "6                       Work/Relaxation Blend Apartment      Dubai   \n",
       "7                        Elegant One Bed Room Apartment      Dubai   \n",
       "8           GuestReady - Rose Tint Eyes in Business Bay      Dubai   \n",
       "10        Keysplease Murjan 2 One Bedroom w Balcony 59B      Dubai   \n",
       "11        Ultra Luxrious 1BHK Marina Dubai - 28th Floor      Dubai   \n",
       "13                                    Cozy Haven Studio      Dubai   \n",
       "14     Promotional Price for Short stay Furnished 1 BHK      Dubai   \n",
       "17                      Spacious New Studio Wpool - Gym      Dubai   \n",
       "18    Alashrafia Saray- Splendid 1BR apartment in Ca...      Dubai   \n",
       "19      Spacious -Upgraded Studio Close to Metro- Tecom      Dubai   \n",
       "23      STAY Perfect 1BR Holiday Home near Burj Khalifa      Dubai   \n",
       "24                         Superb Studio in Luma 21-JVC      Dubai   \n",
       "105                       Furnished 1 Bedroom Apartment      Dubai   \n",
       "106       Aliving Iconic 1BR at Dubai Marina Near Metro      Dubai   \n",
       "113   Vogue Jumeirah Living - Near Burj Al Arab & Beach      Dubai   \n",
       "128              JVC Sydney Towers, 1 Bedroom Apartment      Dubai   \n",
       "138                       Incredible Paramount Apt D542      Dubai   \n",
       "500                             Daisy’s Place in London     London   \n",
       "501   Immaculate Ensuite Room Crystal Palace London ...     London   \n",
       "502                                           Parkhouse     London   \n",
       "503                         Elegant House in Marylebone     London   \n",
       "506                                       Chelsea creek     London   \n",
       "508     Large, Bright and Spacious 3 Bed Flat in London     London   \n",
       "510       Spacious 1 Bedroom rental unit in West London     London   \n",
       "518                                      Cozy apartment     London   \n",
       "561                         Charming Retreat in Pimlico     London   \n",
       "589                 Wembley Stadium Luxurious Apartment     London   \n",
       "648                        Beatiful Flat in Earls Court     London   \n",
       "755                      2 bedroom luxury Knightsbridge     London   \n",
       "767                      Luxury Finsbury Park Apartment     London   \n",
       "972                     Lux Home at The Arc Bondi Beach     Sydney   \n",
       "1215                                                  -          -   \n",
       "1502                   Southbank two bedrooms apartment  Melbourne   \n",
       "1504  City Center Serenity Suite at Southern Cross P...  Melbourne   \n",
       "1689  Cozy & Luxury Apt in heart of CBD 2B2B+1 Car S...  Melbourne   \n",
       "1745             Apartment In Melbourne with City Views  Melbourne   \n",
       "1752  Gorgeous 1B Docklands apt/Amazing view facility#2  Melbourne   \n",
       "1758               Nest Apartments Meet Upper West Side  Melbourne   \n",
       "1771  Convenient City Apartment 2 Bedroom w Free Par...  Melbourne   \n",
       "1819                 Melbourne 2 bedrooms unit for hire  Melbourne   \n",
       "1963                      Lovely Studio near Sacré-Cœur      Paris   \n",
       "1964                                  Confort à Maridor      Paris   \n",
       "1965    Champs Elysées deux pas de l Etoile Tour Eiffel      Paris   \n",
       "1966                                    Saint Dominique      Paris   \n",
       "1967                                       Place Wagram      Paris   \n",
       "1968       Appartement luxe 2 pièces proche Tour Eiffel      Paris   \n",
       "1969               Cosy studio 2P - Batignolles Pigalle      Paris   \n",
       "1970  Appartement luxe Avenue Foch /Arc de Triomphe ...      Paris   \n",
       "1972     Charming T2 Batignolles with private courtyard      Paris   \n",
       "1973  Charmant studio rénové calme triangle d’Or Can...      Paris   \n",
       "1974                               Paris Quartier Latin      Paris   \n",
       "1975                     Appartement spacieux Paris 13.      Paris   \n",
       "1977                           Cosy apt Arc de Triomphe      Paris   \n",
       "2011                                Appartement élégant      Paris   \n",
       "2030    The Parisien - au cœur du Marais - Centre Paris      Paris   \n",
       "\n",
       "                                               Location  Numberofreviews  \\\n",
       "6     Al A'amal Street DAMAC Executive Bay, Dubai, U...              0.0   \n",
       "7     Al Barsha 1 Al Waleed Building BA 05, Floor 5,...              0.0   \n",
       "8             Ubora Towers, Dubai, United Arab Emirates              0.0   \n",
       "10    Murjan 2 JBR, Jumeirah Beach Residence, Dubai,...              0.0   \n",
       "11    escan tower Higher Floor, Dubai Marina, Dubai,...              0.0   \n",
       "13         JVC Tower 108 9, Dubai, United Arab Emirates              0.0   \n",
       "14    Dubai Production City, Dubai, United Arab Emir...              0.0   \n",
       "17    2/1, 6 Street, Dubailand Residence Complex, Wa...              0.0   \n",
       "18            Marasi Drive, Dubai, United Arab Emirates              0.0   \n",
       "19    Madison Residency, Al Barsha Heights (Tecom), ...              0.0   \n",
       "23    B2804,Sobha Creek Vistas B, Sobha Hartland, Na...              0.0   \n",
       "24                 Luma 21, Dubai, United Arab Emirates              0.0   \n",
       "105      sandy signature 2, Dubai, United Arab Emirates              0.0   \n",
       "106   Al Marsa Street, Dubai Marina, Dubai, United A...              0.0   \n",
       "113   Rahaal -2, Umm Suqeim, Dubai, United Arab Emir...              0.0   \n",
       "128   Lazuward South West 1402, Dubai, United Arab E...              0.0   \n",
       "138   Damac Paramount Towers, Dubai, United Arab Emi...              0.0   \n",
       "500   Nightingale Lane, London, E11 2EZ, United Kingdom              0.0   \n",
       "501    192 Maple Road, London, SE20 8HT, United Kingdom              0.0   \n",
       "502   Parkhouse 1 Manor Park Road Flat 8, Brent, Lon...              0.0   \n",
       "503   73 Blandford Street, Westminster Borough, Lond...              0.0   \n",
       "506   Chelsea creek, Hammersmith and Fulham, London,...              0.0   \n",
       "508   Kellett Road, Lambeth, London, SW2 1EA, United...              0.0   \n",
       "510   w11 4ju, Hammersmith and Fulham, London, W11 4...              0.0   \n",
       "518   Newent Close, Southwark, London, SE15 6ED, Uni...              0.0   \n",
       "561   Churchill Gardens, Westminster Borough, London...              0.0   \n",
       "589   Flat 73 Elizabeth House HA9 6DB, Brent, London...              0.0   \n",
       "648   Lower Ground Flat, 41 Collingham Place, Kensin...              0.0   \n",
       "755   1 Basil Street, Westminster Borough, London, S...              0.0   \n",
       "767     Flat 1, Hackney, London, N4 1QQ, United Kingdom              0.0   \n",
       "972   299 Simpson Street, Bondi, 2026 Sydney, Australia              0.0   \n",
       "1215                                                  -              0.0   \n",
       "1502  58 Clarke Street 704, Southbank, 3006 Melbourn...              0.0   \n",
       "1504  633 Little Lonsdale Street, 3000 Melbourne, Au...              0.0   \n",
       "1689    157 A'Beckett Street, 3000 Melbourne, Australia              0.0   \n",
       "1745  2709/8 Franklin Street, 3000 Melbourne, Australia              0.0   \n",
       "1752  673 Collins Street, Docklands, 3008 Melbourne,...              0.0   \n",
       "1758      220 Spencer Street, 3000 Melbourne, Australia              0.0   \n",
       "1771       Collins Street 39, 3000 Melbourne, Australia              0.0   \n",
       "1819  1710/39 Lonsdale Street, 3000 Melbourne, Austr...              0.0   \n",
       "1963       28 Rue Ramey, 18th arr., 75018 Paris, France              0.0   \n",
       "1964  4G 31 Rue Jean Maridor, 15th arr., 75015 Paris...              0.0   \n",
       "1965   6 Rue de Ponthieu, 8th arr., 75008 Paris, France              0.0   \n",
       "1966  112 Rue Saint-Dominique, 7th arr., 75007 Paris...              0.0   \n",
       "1967  1 Place de Wagram, 17th arr., 75017 Paris, France              0.0   \n",
       "1968  2 16 Rue Emmanuel Chauvière, 15th arr., 75015 ...              0.0   \n",
       "1969     15 Rue Lécluse, 17th arr., 75017 Paris, France              0.0   \n",
       "1970  64B Rue Pergolèse, 16th arr., 75116 Paris, France              0.0   \n",
       "1972    23 Rue Clairaut, 17th arr., 75017 Paris, France              0.0   \n",
       "1973   44 Rue de Lancry, 10th arr., 75010 Paris, France              0.0   \n",
       "1974  Rue du Cardinal Lemoine, 5th arr., 75005 Paris...              0.0   \n",
       "1975      25 Rue Gandon, 13th arr., 75013 Paris, France              0.0   \n",
       "1977  118 Rue de Courcelles, 17th arr., 75017 Paris,...              0.0   \n",
       "2011  108 Rue de Longchamp, 16th arr., 75016 Paris, ...              0.0   \n",
       "2030  18 Rue des Ecouffes, 4th arr., 75004 Paris, Fr...              0.0   \n",
       "\n",
       "      Userratings  Starrating Reviewscore Familyrooms NonSmokingRooms  Bar  \\\n",
       "6             NaN           4         Bad          No             Yes   No   \n",
       "7             NaN           4         Bad         Yes              No   No   \n",
       "8             NaN           4         Bad          No              No   No   \n",
       "10            NaN           0         Bad          No              No   No   \n",
       "11            NaN           0         Bad         Yes             Yes  Yes   \n",
       "13            NaN           4         Bad         Yes             Yes  Yes   \n",
       "14            NaN           0         Bad         Yes              No  Yes   \n",
       "17            NaN           4         Bad          No              No   No   \n",
       "18            NaN           4         Bad         Yes             Yes  Yes   \n",
       "19            NaN           4         Bad          No             Yes   No   \n",
       "23            NaN           5         Bad         Yes             Yes   No   \n",
       "24            NaN           4         Bad          No             Yes   No   \n",
       "105           NaN           0         Bad          No              No   No   \n",
       "106           NaN           4         Bad          No              No   No   \n",
       "113           NaN           4         Bad         Yes             Yes   No   \n",
       "128           NaN           0         Bad          No             Yes   No   \n",
       "138           NaN           0         Bad          No              No   No   \n",
       "500           NaN           4         Bad         Yes             Yes   No   \n",
       "501           NaN           4         Bad          No              No   No   \n",
       "502           NaN           0         Bad          No              No   No   \n",
       "503           NaN           4         Bad          No             Yes   No   \n",
       "506           NaN           0         Bad         Yes             Yes  Yes   \n",
       "508           NaN           0         Bad         Yes             Yes   No   \n",
       "510           NaN           0         Bad          No              No  Yes   \n",
       "518           NaN           0         Bad          No              No   No   \n",
       "561           NaN           0         Bad          No              No   No   \n",
       "589           NaN           0         Bad          No              No   No   \n",
       "648           NaN           0         Bad          No              No   No   \n",
       "755           NaN           0         Bad          No              No   No   \n",
       "767           NaN           0         Bad         Yes             Yes   No   \n",
       "972           NaN           0         Bad          No              No   No   \n",
       "1215          NaN           0         Bad          No              No   No   \n",
       "1502          NaN           0         Bad          No              No   No   \n",
       "1504          NaN           4         Bad         Yes             Yes   No   \n",
       "1689          NaN           4         Bad          No             Yes  Yes   \n",
       "1745          NaN           3         Bad          No              No  Yes   \n",
       "1752          NaN           0         Bad          No             Yes   No   \n",
       "1758          NaN           4         Bad          No              No   No   \n",
       "1771          NaN           4         Bad          No              No   No   \n",
       "1819          NaN           3         Bad          No              No   No   \n",
       "1963          NaN           3         Bad          No             Yes   No   \n",
       "1964          NaN           4         Bad         Yes             Yes   No   \n",
       "1965          NaN           3         Bad          No              No   No   \n",
       "1966          NaN           0         Bad         Yes             Yes  Yes   \n",
       "1967          NaN           3         Bad         Yes             Yes   No   \n",
       "1968          NaN           4         Bad          No              No   No   \n",
       "1969          NaN           3         Bad          No             Yes   No   \n",
       "1970          NaN           0         Bad          No              No   No   \n",
       "1972          NaN           3         Bad          No             Yes   No   \n",
       "1973          NaN           3         Bad          No              No   No   \n",
       "1974          NaN           3         Bad         Yes             Yes   No   \n",
       "1975          NaN           0         Bad          No              No   No   \n",
       "1977          NaN           0         Bad          No              No   No   \n",
       "2011          NaN           0         Bad          No              No   No   \n",
       "2030          NaN           3         Bad          No             Yes   No   \n",
       "\n",
       "     Heating Lift BreakfastCuisine1                 RoomType   Prices  \n",
       "6         No  Yes       Continental    Two-Bedroom Apartment  14078.0  \n",
       "7         No   No       Continental    One-Bedroom Apartment  11222.0  \n",
       "8         No   No       Continental    One-Bedroom Apartment  19338.0  \n",
       "10        No   No       Continental    One-Bedroom Apartment  12469.0  \n",
       "11        No   No       Continental    One-Bedroom Apartment  20403.0  \n",
       "13       Yes   No       Continental    One-Bedroom Apartment   4591.0  \n",
       "14       Yes  Yes       Continental    One-Bedroom Apartment   9163.0  \n",
       "17        No  Yes       Continental      Studio with Balcony   8161.0  \n",
       "18        No  Yes       Continental    One-Bedroom Apartment   6611.0  \n",
       "19        No  Yes       Continental         Studio Apartment  16282.0  \n",
       "23       Yes  Yes       Continental    One-Bedroom Apartment  10598.0  \n",
       "24        No  Yes       Continental         Studio Apartment  12487.0  \n",
       "105      Yes   No       Continental    One-Bedroom Apartment   7804.0  \n",
       "106       No   No       Continental    One-Bedroom Apartment  10032.0  \n",
       "113       No  Yes       Continental   Apartment with Balcony  13058.0  \n",
       "128      Yes   No       Continental    One-Bedroom Apartment  13772.0  \n",
       "138       No   No       Continental    Two-Bedroom Apartment  15869.0  \n",
       "500      Yes   No       Continental    Two-Bedroom Apartment  10978.0  \n",
       "501      Yes   No       Continental                   Studio  13654.0  \n",
       "502      Yes   No       Continental    Two-Bedroom Apartment  11606.0  \n",
       "503      Yes   No       Continental    Two-Bedroom Apartment  52592.0  \n",
       "506      Yes   No       Continental  Three-Bedroom Apartment  49153.0  \n",
       "508      Yes   No       Continental  Three-Bedroom Apartment  15145.0  \n",
       "510      Yes   No       Continental    One-Bedroom Apartment  16384.0  \n",
       "518      Yes   No       Continental    One-Bedroom Apartment  10013.0  \n",
       "561       No   No       Continental    Two-Bedroom Apartment  17204.0  \n",
       "589      Yes   No       Continental    One-Bedroom Apartment  24577.0  \n",
       "648       No   No       Continental    One-Bedroom Apartment  20228.0  \n",
       "755      Yes  Yes       Continental    Two-Bedroom Apartment  50063.0  \n",
       "767      Yes   No       Continental  Three-Bedroom Apartment  24273.0  \n",
       "972      Yes   No       Continental                    Villa  99093.0  \n",
       "1215      No   No       Continental                        -      NaN  \n",
       "1502     Yes   No       Continental    Two-Bedroom Apartment  10387.0  \n",
       "1504     Yes  Yes       Continental                        -      NaN  \n",
       "1689     Yes  Yes       Continental    Two-Bedroom Apartment   9801.0  \n",
       "1745     Yes   No       Continental                        -      NaN  \n",
       "1752     Yes   No       Continental    One-Bedroom Apartment   6867.0  \n",
       "1758     Yes  Yes       Continental                        -      NaN  \n",
       "1771     Yes  Yes       Continental    Two-Bedroom Apartment   9297.0  \n",
       "1819      No   No       Continental    Two-Bedroom Apartment   5942.0  \n",
       "1963     Yes   No       Continental                Apartment  11683.0  \n",
       "1964     Yes   No       Continental    One-Bedroom Apartment  13865.0  \n",
       "1965     Yes   No       Continental    Two-Bedroom Apartment  77398.0  \n",
       "1966      No   No       Continental       Superior Apartment  39489.0  \n",
       "1967     Yes   No       Continental    One-Bedroom Apartment  31591.0  \n",
       "1968     Yes  Yes       Continental    One-Bedroom Apartment  29222.0  \n",
       "1969     Yes   No       Continental                Apartment  10913.0  \n",
       "1970     Yes   No       Continental    One-Bedroom Apartment  46597.0  \n",
       "1972     Yes   No       Continental                Apartment   7787.0  \n",
       "1973     Yes   No       Continental    One-Bedroom Apartment  13163.0  \n",
       "1974     Yes  Yes       Continental    Two-Bedroom Apartment  24176.0  \n",
       "1975      No   No       Continental                Apartment  17551.0  \n",
       "1977      No   No       Continental    One-Bedroom Apartment  25010.0  \n",
       "2011     Yes   No       Continental    One-Bedroom Apartment  83914.0  \n",
       "2030      No   No       Continental    One-Bedroom Apartment  18244.0  "
      ]
     },
     "execution_count": 50,
     "metadata": {},
     "output_type": "execute_result"
    }
   ],
   "source": [
    "hotel_data[hotel_data['Userratings'].isna()]"
   ]
  },
  {
   "cell_type": "markdown",
   "metadata": {},
   "source": [
    "we can see that the Reviewscore for hotel with Nan Userratings is bad. We will replace this nan value with a rating of 3."
   ]
  },
  {
   "cell_type": "code",
   "execution_count": 51,
   "metadata": {},
   "outputs": [],
   "source": [
    "# Fill missing values in 'Userratings' with 3\n",
    "hotel_data['Userratings'] = hotel_data['Userratings'].fillna(3)"
   ]
  },
  {
   "cell_type": "code",
   "execution_count": 52,
   "metadata": {},
   "outputs": [
    {
     "data": {
      "text/html": [
       "<div>\n",
       "<style scoped>\n",
       "    .dataframe tbody tr th:only-of-type {\n",
       "        vertical-align: middle;\n",
       "    }\n",
       "\n",
       "    .dataframe tbody tr th {\n",
       "        vertical-align: top;\n",
       "    }\n",
       "\n",
       "    .dataframe thead th {\n",
       "        text-align: right;\n",
       "    }\n",
       "</style>\n",
       "<table border=\"1\" class=\"dataframe\">\n",
       "  <thead>\n",
       "    <tr style=\"text-align: right;\">\n",
       "      <th></th>\n",
       "      <th>Hotelname</th>\n",
       "      <th>City</th>\n",
       "      <th>Location</th>\n",
       "      <th>Numberofreviews</th>\n",
       "      <th>Userratings</th>\n",
       "      <th>Starrating</th>\n",
       "      <th>Reviewscore</th>\n",
       "      <th>Familyrooms</th>\n",
       "      <th>NonSmokingRooms</th>\n",
       "      <th>Bar</th>\n",
       "      <th>Heating</th>\n",
       "      <th>Lift</th>\n",
       "      <th>BreakfastCuisine1</th>\n",
       "      <th>RoomType</th>\n",
       "      <th>Prices</th>\n",
       "    </tr>\n",
       "  </thead>\n",
       "  <tbody>\n",
       "    <tr>\n",
       "      <th>1215</th>\n",
       "      <td>-</td>\n",
       "      <td>-</td>\n",
       "      <td>-</td>\n",
       "      <td>0.0</td>\n",
       "      <td>3.0</td>\n",
       "      <td>0</td>\n",
       "      <td>Bad</td>\n",
       "      <td>No</td>\n",
       "      <td>No</td>\n",
       "      <td>No</td>\n",
       "      <td>No</td>\n",
       "      <td>No</td>\n",
       "      <td>Continental</td>\n",
       "      <td>-</td>\n",
       "      <td>NaN</td>\n",
       "    </tr>\n",
       "    <tr>\n",
       "      <th>1827</th>\n",
       "      <td>Urban CityScapes 2BR Apt on Bourke</td>\n",
       "      <td>NaN</td>\n",
       "      <td>139 Bourke Street, 3000 Melbourne, Australia</td>\n",
       "      <td>1.0</td>\n",
       "      <td>8.0</td>\n",
       "      <td>0</td>\n",
       "      <td>Very good</td>\n",
       "      <td>No</td>\n",
       "      <td>No</td>\n",
       "      <td>No</td>\n",
       "      <td>Yes</td>\n",
       "      <td>No</td>\n",
       "      <td>Continental</td>\n",
       "      <td>Two-Bedroom Apartment</td>\n",
       "      <td>9729.0</td>\n",
       "    </tr>\n",
       "  </tbody>\n",
       "</table>\n",
       "</div>"
      ],
      "text/plain": [
       "                               Hotelname City  \\\n",
       "1215                                   -    -   \n",
       "1827  Urban CityScapes 2BR Apt on Bourke  NaN   \n",
       "\n",
       "                                          Location  Numberofreviews  \\\n",
       "1215                                             -              0.0   \n",
       "1827  139 Bourke Street, 3000 Melbourne, Australia              1.0   \n",
       "\n",
       "      Userratings  Starrating Reviewscore Familyrooms NonSmokingRooms Bar  \\\n",
       "1215          3.0           0         Bad          No              No  No   \n",
       "1827          8.0           0   Very good          No              No  No   \n",
       "\n",
       "     Heating Lift BreakfastCuisine1               RoomType  Prices  \n",
       "1215      No   No       Continental                      -     NaN  \n",
       "1827     Yes   No       Continental  Two-Bedroom Apartment  9729.0  "
      ]
     },
     "execution_count": 52,
     "metadata": {},
     "output_type": "execute_result"
    }
   ],
   "source": [
    "hotel_data[(hotel_data['City'] == '-') | hotel_data['City'].isna()]"
   ]
  },
  {
   "cell_type": "markdown",
   "metadata": {},
   "source": [
    "We will drop the row with city name = '-' and replace the null value with 'Melbourne'."
   ]
  },
  {
   "cell_type": "code",
   "execution_count": 53,
   "metadata": {},
   "outputs": [],
   "source": [
    "# Drop rows where city is '-'\n",
    "hotel_data = hotel_data.drop(hotel_data[hotel_data['City'] == '-'].index)"
   ]
  },
  {
   "cell_type": "code",
   "execution_count": 54,
   "metadata": {},
   "outputs": [],
   "source": [
    "# replacing the null value in city column\n",
    "hotel_data['City'] = hotel_data['City'].fillna('Melbourne')"
   ]
  },
  {
   "cell_type": "code",
   "execution_count": 55,
   "metadata": {},
   "outputs": [],
   "source": [
    "# we will replace the null values in price column with mean value of the column\n",
    "hotel_data['Prices'] = hotel_data['Prices'].fillna(hotel_data['Prices'].mean())"
   ]
  },
  {
   "cell_type": "code",
   "execution_count": 56,
   "metadata": {},
   "outputs": [
    {
     "data": {
      "text/plain": [
       "Hotelname            0\n",
       "City                 0\n",
       "Location             0\n",
       "Numberofreviews      0\n",
       "Userratings          0\n",
       "Starrating           0\n",
       "Reviewscore          0\n",
       "Familyrooms          0\n",
       "NonSmokingRooms      0\n",
       "Bar                  0\n",
       "Heating              0\n",
       "Lift                 0\n",
       "BreakfastCuisine1    0\n",
       "RoomType             0\n",
       "Prices               0\n",
       "dtype: int64"
      ]
     },
     "execution_count": 56,
     "metadata": {},
     "output_type": "execute_result"
    }
   ],
   "source": [
    "# checking for null values again\n",
    "hotel_data.isnull().sum()"
   ]
  },
  {
   "cell_type": "code",
   "execution_count": 57,
   "metadata": {},
   "outputs": [
    {
     "name": "stdout",
     "output_type": "stream",
     "text": [
      "<class 'pandas.core.frame.DataFrame'>\n",
      "Int64Index: 414 entries, 0 to 2032\n",
      "Data columns (total 15 columns):\n",
      " #   Column             Non-Null Count  Dtype  \n",
      "---  ------             --------------  -----  \n",
      " 0   Hotelname          414 non-null    object \n",
      " 1   City               414 non-null    object \n",
      " 2   Location           414 non-null    object \n",
      " 3   Numberofreviews    414 non-null    float64\n",
      " 4   Userratings        414 non-null    float64\n",
      " 5   Starrating         414 non-null    int64  \n",
      " 6   Reviewscore        414 non-null    object \n",
      " 7   Familyrooms        414 non-null    object \n",
      " 8   NonSmokingRooms    414 non-null    object \n",
      " 9   Bar                414 non-null    object \n",
      " 10  Heating            414 non-null    object \n",
      " 11  Lift               414 non-null    object \n",
      " 12  BreakfastCuisine1  414 non-null    object \n",
      " 13  RoomType           414 non-null    object \n",
      " 14  Prices             414 non-null    float64\n",
      "dtypes: float64(3), int64(1), object(11)\n",
      "memory usage: 51.8+ KB\n"
     ]
    }
   ],
   "source": [
    "# checking the summary statistics\n",
    "hotel_data.info()"
   ]
  },
  {
   "cell_type": "code",
   "execution_count": 58,
   "metadata": {},
   "outputs": [
    {
     "data": {
      "text/plain": [
       "Hotelname            414\n",
       "City                   5\n",
       "Location             402\n",
       "Numberofreviews      310\n",
       "Userratings           43\n",
       "Starrating             6\n",
       "Reviewscore            8\n",
       "Familyrooms            2\n",
       "NonSmokingRooms        2\n",
       "Bar                    2\n",
       "Heating                2\n",
       "Lift                   2\n",
       "BreakfastCuisine1      6\n",
       "RoomType             179\n",
       "Prices               358\n",
       "dtype: int64"
      ]
     },
     "execution_count": 58,
     "metadata": {},
     "output_type": "execute_result"
    }
   ],
   "source": [
    "# lets check for unique values in each column\n",
    "hotel_data.nunique()"
   ]
  },
  {
   "cell_type": "code",
   "execution_count": 59,
   "metadata": {},
   "outputs": [
    {
     "name": "stdout",
     "output_type": "stream",
     "text": [
      "=== Summary Statistics ===\n",
      "\n",
      "       Numberofreviews  Userratings  Starrating        Prices\n",
      "count       414.000000   414.000000  414.000000    414.000000\n",
      "mean       2129.635266     7.296860    3.282609  15387.258621\n",
      "std        2910.401357     1.942519    1.605027  10342.450935\n",
      "min           0.000000     1.000000    0.000000   2040.000000\n",
      "25%         117.750000     7.000000    3.000000   8981.250000\n",
      "50%        1025.000000     7.900000    4.000000  13128.000000\n",
      "75%        2977.250000     8.500000    4.000000  18250.750000\n",
      "max       20906.000000    10.000000    5.000000  99093.000000\n"
     ]
    }
   ],
   "source": [
    "print(\"=== Summary Statistics ===\")\n",
    "print()\n",
    "print(hotel_data.describe())"
   ]
  },
  {
   "cell_type": "code",
   "execution_count": 60,
   "metadata": {},
   "outputs": [
    {
     "data": {
      "image/png": "[encoded data removed]",
      "text/plain": [
       "<Figure size 432x432 with 1 Axes>"
      ]
     },
     "metadata": {
      "needs_background": "light"
     },
     "output_type": "display_data"
    }
   ],
   "source": [
    "# Plotting barplots\n",
    "plt.figure(figsize=(6,6))\n",
    "sns.countplot(data=hotel_data, x=hotel_data['City'])\n",
    "plt.ylabel(\"Count\")\n",
    "plt.show()"
   ]
  },
  {
   "cell_type": "code",
   "execution_count": 61,
   "metadata": {},
   "outputs": [
    {
     "data": {
      "image/png": "[encoded data removed]",
      "text/plain": [
       "<Figure size 432x432 with 1 Axes>"
      ]
     },
     "metadata": {
      "needs_background": "light"
     },
     "output_type": "display_data"
    }
   ],
   "source": [
    "# Plotting barplots\n",
    "plt.figure(figsize=(6,6))\n",
    "sns.countplot(data=hotel_data, x=hotel_data['Starrating'])\n",
    "plt.ylabel(\"Count\")\n",
    "plt.show()"
   ]
  },
  {
   "cell_type": "markdown",
   "metadata": {},
   "source": [
    "A lot of hotels were awarded a star rating of 5."
   ]
  },
  {
   "cell_type": "code",
   "execution_count": 62,
   "metadata": {},
   "outputs": [
    {
     "data": {
      "image/png": "[encoded data removed]",
      "text/plain": [
       "<Figure size 1080x432 with 1 Axes>"
      ]
     },
     "metadata": {
      "needs_background": "light"
     },
     "output_type": "display_data"
    }
   ],
   "source": [
    "# Plotting barplots\n",
    "plt.figure(figsize=(15,6))\n",
    "sns.countplot(data=hotel_data, x=hotel_data['Userratings'])\n",
    "plt.ylabel(\"Count\")\n",
    "plt.show()"
   ]
  },
  {
   "cell_type": "markdown",
   "metadata": {},
   "source": [
    "Most of the hotels were rated 3 by users followed by 8.5 and 8.0. There were considerable number of hotels with user rating of 10 suggesting that these hotels do provide their customers with top notch facilities."
   ]
  },
  {
   "cell_type": "code",
   "execution_count": 63,
   "metadata": {},
   "outputs": [
    {
     "data": {
      "image/png": "[encoded data removed]",
      "text/plain": [
       "<Figure size 720x432 with 1 Axes>"
      ]
     },
     "metadata": {
      "needs_background": "light"
     },
     "output_type": "display_data"
    }
   ],
   "source": [
    "# Plotting barplots\n",
    "plt.figure(figsize=(10,6))\n",
    "sns.countplot(data=hotel_data, x=hotel_data['Reviewscore'])\n",
    "plt.ylabel(\"Count\")\n",
    "plt.show()"
   ]
  },
  {
   "cell_type": "markdown",
   "metadata": {},
   "source": [
    "Most of the hotels are in the Good and Very good category."
   ]
  },
  {
   "cell_type": "code",
   "execution_count": 64,
   "metadata": {},
   "outputs": [
    {
     "data": {
      "image/png": "[encoded data removed]",
      "text/plain": [
       "<Figure size 864x432 with 1 Axes>"
      ]
     },
     "metadata": {
      "needs_background": "light"
     },
     "output_type": "display_data"
    }
   ],
   "source": [
    "# Plotting barplots\n",
    "plt.figure(figsize=(12,6))\n",
    "sns.countplot(data=hotel_data, x=hotel_data['BreakfastCuisine1'])\n",
    "plt.ylabel(\"Count\")\n",
    "plt.show()"
   ]
  },
  {
   "cell_type": "markdown",
   "metadata": {},
   "source": [
    "Most of the hotels rovide Continental breakfast to their guests."
   ]
  },
  {
   "cell_type": "code",
   "execution_count": 65,
   "metadata": {},
   "outputs": [
    {
     "data": {
      "image/png": "[encoded data removed]",
      "text/plain": [
       "<Figure size 432x432 with 1 Axes>"
      ]
     },
     "metadata": {
      "needs_background": "light"
     },
     "output_type": "display_data"
    }
   ],
   "source": [
    "# Plotting barplots\n",
    "plt.figure(figsize=(6,6))\n",
    "sns.countplot(data=hotel_data, x=hotel_data['Familyrooms'])\n",
    "plt.ylabel(\"Count\")\n",
    "plt.show()"
   ]
  },
  {
   "cell_type": "code",
   "execution_count": 66,
   "metadata": {},
   "outputs": [
    {
     "data": {
      "image/png": "[encoded data removed]",
      "text/plain": [
       "<Figure size 432x432 with 1 Axes>"
      ]
     },
     "metadata": {
      "needs_background": "light"
     },
     "output_type": "display_data"
    }
   ],
   "source": [
    "# Plotting barplots\n",
    "plt.figure(figsize=(6,6))\n",
    "sns.countplot(data=hotel_data, x=hotel_data['NonSmokingRooms'])\n",
    "plt.ylabel(\"Count\")\n",
    "plt.show()"
   ]
  },
  {
   "cell_type": "code",
   "execution_count": 67,
   "metadata": {},
   "outputs": [
    {
     "data": {
      "image/png": "[encoded data removed]",
      "text/plain": [
       "<Figure size 432x432 with 1 Axes>"
      ]
     },
     "metadata": {
      "needs_background": "light"
     },
     "output_type": "display_data"
    }
   ],
   "source": [
    "# Plotting barplots\n",
    "plt.figure(figsize=(6,6))\n",
    "sns.countplot(data=hotel_data, x=hotel_data['Bar'])\n",
    "plt.ylabel(\"Count\")\n",
    "plt.show()"
   ]
  },
  {
   "cell_type": "code",
   "execution_count": 68,
   "metadata": {},
   "outputs": [
    {
     "data": {
      "image/png": "[encoded data removed]",
      "text/plain": [
       "<Figure size 432x432 with 1 Axes>"
      ]
     },
     "metadata": {
      "needs_background": "light"
     },
     "output_type": "display_data"
    }
   ],
   "source": [
    "# Plotting barplots\n",
    "plt.figure(figsize=(6,6))\n",
    "sns.countplot(data=hotel_data, x=hotel_data['Heating'])\n",
    "plt.ylabel(\"Count\")\n",
    "plt.show()"
   ]
  },
  {
   "cell_type": "code",
   "execution_count": 69,
   "metadata": {},
   "outputs": [
    {
     "data": {
      "image/png": "[encoded data removed]",
      "text/plain": [
       "<Figure size 432x432 with 1 Axes>"
      ]
     },
     "metadata": {
      "needs_background": "light"
     },
     "output_type": "display_data"
    }
   ],
   "source": [
    "# Plotting barplots\n",
    "plt.figure(figsize=(6,6))\n",
    "sns.countplot(data=hotel_data, x=hotel_data['Lift'])\n",
    "plt.ylabel(\"Count\")\n",
    "plt.show()"
   ]
  },
  {
   "cell_type": "markdown",
   "metadata": {},
   "source": [
    "From the above graphs, we can say that most hotel provide basic ammenities like non-smoking rooms, bar, lift, family rooms."
   ]
  },
  {
   "cell_type": "code",
   "execution_count": 70,
   "metadata": {},
   "outputs": [
    {
     "data": {
      "image/png": "[encoded data removed]",
      "text/plain": [
       "<Figure size 720x432 with 1 Axes>"
      ]
     },
     "metadata": {
      "needs_background": "light"
     },
     "output_type": "display_data"
    }
   ],
   "source": [
    "# plotting the Prices\n",
    "plt.figure(figsize=(10,6))\n",
    "sns.histplot(hotel_data['Prices'], kde=True)\n",
    "plt.title(\"Price distribution\")\n",
    "plt.show()"
   ]
  },
  {
   "cell_type": "markdown",
   "metadata": {},
   "source": [
    "Most of the hotels charges less than 20000 for a night. Some hotels charge as high as 100000 INR for a night."
   ]
  },
  {
   "cell_type": "markdown",
   "metadata": {},
   "source": [
    "checking how price is affected by diffenr features."
   ]
  },
  {
   "cell_type": "code",
   "execution_count": 71,
   "metadata": {},
   "outputs": [
    {
     "data": {
      "image/png": "[encoded data removed]",
      "text/plain": [
       "<Figure size 720x432 with 1 Axes>"
      ]
     },
     "metadata": {
      "needs_background": "light"
     },
     "output_type": "display_data"
    }
   ],
   "source": [
    "# lets check for price in different cities\n",
    "\n",
    "plt.figure(figsize=(10,6))\n",
    "sns.boxplot(data=hotel_data, x='City', y='Prices')\n",
    "plt.title(\"Price vs City\")\n",
    "plt.show()"
   ]
  },
  {
   "cell_type": "markdown",
   "metadata": {},
   "source": [
    "We can see that almost every city other than Dubai have outliers meaning there maybe some hotels in those citites which charges more than others."
   ]
  },
  {
   "cell_type": "code",
   "execution_count": 72,
   "metadata": {},
   "outputs": [
    {
     "data": {
      "image/png": "[encoded data removed]",
      "text/plain": [
       "<Figure size 720x432 with 1 Axes>"
      ]
     },
     "metadata": {
      "needs_background": "light"
     },
     "output_type": "display_data"
    }
   ],
   "source": [
    "# lets check for price in vs star rating\n",
    "\n",
    "plt.figure(figsize=(10,6))\n",
    "sns.boxplot(data=hotel_data, y='Prices', x='Starrating')\n",
    "plt.title(\"Price vs Star_rating\")\n",
    "plt.show()"
   ]
  },
  {
   "cell_type": "markdown",
   "metadata": {},
   "source": [
    "1. The presence of outliers suggests that there are exceptional cases where a hotel's price is notably different from the norm for its star rating.\n",
    "2. Outliers in higher-rated hotels (e.g., 5-star) may represent luxury or premium hotels with significantly higher prices, while outliers in lower-rated hotels might be budget hotels with unusually high prices.\n",
    "3. There's variation in prices within each star rating, which means that factors other than just star rating contribute to hotel prices.\n",
    "4. There might be some overlap in prices within each star rating category, as indicated by the height of the boxes."
   ]
  },
  {
   "cell_type": "code",
   "execution_count": 73,
   "metadata": {},
   "outputs": [
    {
     "data": {
      "image/png": "[encoded data removed]",
      "text/plain": [
       "<Figure size 432x432 with 1 Axes>"
      ]
     },
     "metadata": {
      "needs_background": "light"
     },
     "output_type": "display_data"
    }
   ],
   "source": [
    "# lets check for price vs family room\n",
    "\n",
    "plt.figure(figsize=(6,6))\n",
    "sns.boxplot(data=hotel_data, y='Prices', x='Familyrooms')\n",
    "plt.title(\"Price vs Family_room_availability\")\n",
    "plt.show()"
   ]
  },
  {
   "cell_type": "markdown",
   "metadata": {},
   "source": [
    "The boxplot provides a visual representation of the distribution of hotel prices for hotels with and without family rooms.\n",
    "Hotel that do not have family rooms have higher number of outliers suggesting some exceptional cases of high prices."
   ]
  },
  {
   "cell_type": "code",
   "execution_count": 74,
   "metadata": {},
   "outputs": [
    {
     "data": {
      "image/png": "[encoded data removed]",
      "text/plain": [
       "<Figure size 432x288 with 1 Axes>"
      ]
     },
     "metadata": {
      "needs_background": "light"
     },
     "output_type": "display_data"
    }
   ],
   "source": [
    "# lets  Create a histogram with family rooms as the hue parameter\n",
    "sns.histplot(data=hotel_data, x='Prices', hue='Familyrooms', bins=20, kde=True)\n",
    "plt.title('Histogram of Price with Hue')\n",
    "plt.xlabel('Price')\n",
    "plt.ylabel('Frequency')\n",
    "\n",
    "plt.tight_layout()\n",
    "plt.show()"
   ]
  },
  {
   "cell_type": "code",
   "execution_count": 75,
   "metadata": {},
   "outputs": [
    {
     "data": {
      "image/png": "[encoded data removed]",
      "text/plain": [
       "<Figure size 432x432 with 1 Axes>"
      ]
     },
     "metadata": {
      "needs_background": "light"
     },
     "output_type": "display_data"
    }
   ],
   "source": [
    "# plotting price vs Non-smoking room\n",
    "plt.figure(figsize=(6,6))\n",
    "sns.boxplot(data=hotel_data, y='Prices', x='NonSmokingRooms')\n",
    "plt.title(\"Price vs NonSmoking_room_ availability\")\n",
    "plt.show()"
   ]
  },
  {
   "cell_type": "code",
   "execution_count": 76,
   "metadata": {},
   "outputs": [
    {
     "data": {
      "image/png": "[encoded data removed]",
      "text/plain": [
       "<Figure size 432x288 with 1 Axes>"
      ]
     },
     "metadata": {
      "needs_background": "light"
     },
     "output_type": "display_data"
    }
   ],
   "source": [
    "# lets  Create a histogram with as non smoking rooms the hue parameter\n",
    "sns.histplot(data=hotel_data, x='Prices', hue='NonSmokingRooms', bins=20, kde=True)\n",
    "plt.title('Histogram of Price with Hue')\n",
    "plt.xlabel('Price')\n",
    "plt.ylabel('Frequency')\n",
    "\n",
    "plt.tight_layout()\n",
    "plt.show()"
   ]
  },
  {
   "cell_type": "code",
   "execution_count": 77,
   "metadata": {},
   "outputs": [
    {
     "data": {
      "image/png": "[encoded data removed]",
      "text/plain": [
       "<Figure size 432x432 with 1 Axes>"
      ]
     },
     "metadata": {
      "needs_background": "light"
     },
     "output_type": "display_data"
    }
   ],
   "source": [
    "# plotting price vs lift availability\n",
    "plt.figure(figsize=(6,6))\n",
    "sns.boxplot(data=hotel_data, y='Prices', x='Lift')\n",
    "plt.title(\"Price vs Lift\")\n",
    "plt.show()"
   ]
  },
  {
   "cell_type": "code",
   "execution_count": 78,
   "metadata": {},
   "outputs": [
    {
     "data": {
      "image/png": "[encoded data removed]",
      "text/plain": [
       "<Figure size 432x288 with 1 Axes>"
      ]
     },
     "metadata": {
      "needs_background": "light"
     },
     "output_type": "display_data"
    }
   ],
   "source": [
    "# lets  Create a histogram with as Lift the hue parameter\n",
    "sns.histplot(data=hotel_data, x='Prices', hue='Lift', bins=20, kde=True)\n",
    "plt.title('Histogram of Price with Hue')\n",
    "plt.xlabel('Price')\n",
    "plt.ylabel('Frequency')\n",
    "\n",
    "plt.tight_layout()\n",
    "plt.show()"
   ]
  },
  {
   "cell_type": "code",
   "execution_count": 79,
   "metadata": {},
   "outputs": [
    {
     "data": {
      "image/png": "[encoded data removed]",
      "text/plain": [
       "<Figure size 432x432 with 1 Axes>"
      ]
     },
     "metadata": {
      "needs_background": "light"
     },
     "output_type": "display_data"
    }
   ],
   "source": [
    "# plotting price vs Heating\n",
    "plt.figure(figsize=(6,6))\n",
    "sns.boxplot(data=hotel_data, y='Prices', x='Heating')\n",
    "plt.title(\"Price vs Heating\")\n",
    "plt.show()"
   ]
  },
  {
   "cell_type": "code",
   "execution_count": 80,
   "metadata": {},
   "outputs": [
    {
     "data": {
      "image/png": "[encoded data removed]",
      "text/plain": [
       "<Figure size 432x288 with 1 Axes>"
      ]
     },
     "metadata": {
      "needs_background": "light"
     },
     "output_type": "display_data"
    }
   ],
   "source": [
    "# lets  Create a histogram with heating as the hue parameter\n",
    "sns.histplot(data=hotel_data, x='Prices', hue='Heating', bins=20, kde=True)\n",
    "plt.title('Histogram of Price with Hue')\n",
    "plt.xlabel('Price')\n",
    "plt.ylabel('Frequency')\n",
    "\n",
    "plt.tight_layout()\n",
    "plt.show()"
   ]
  },
  {
   "cell_type": "code",
   "execution_count": 81,
   "metadata": {},
   "outputs": [
    {
     "data": {
      "image/png": "[encoded data removed]",
      "text/plain": [
       "<Figure size 720x432 with 1 Axes>"
      ]
     },
     "metadata": {
      "needs_background": "light"
     },
     "output_type": "display_data"
    }
   ],
   "source": [
    "# Plotting the average price across cities\n",
    "\n",
    "plt.figure(figsize=(10, 6))\n",
    "hotel_data.groupby('City')['Prices'].mean().plot(marker='o', linestyle='-', color='b')\n",
    "\n",
    "plt.title('Average hotel Price by city')\n",
    "plt.xlabel('City')\n",
    "plt.ylabel('Average Price')\n",
    "plt.xticks(rotation=45)\n",
    "plt.grid(True)\n",
    "plt.tight_layout()\n",
    "plt.show()"
   ]
  },
  {
   "cell_type": "markdown",
   "metadata": {},
   "source": [
    "London and Paris seems to be expensive and Dubai to be least expensive."
   ]
  },
  {
   "cell_type": "code",
   "execution_count": 82,
   "metadata": {},
   "outputs": [
    {
     "data": {
      "image/png": "[encoded data removed]",
      "text/plain": [
       "<Figure size 864x432 with 1 Axes>"
      ]
     },
     "metadata": {
      "needs_background": "light"
     },
     "output_type": "display_data"
    }
   ],
   "source": [
    "# Calculate the count of each review score in each city\n",
    "data = hotel_data.groupby(['City', 'Reviewscore'])['Reviewscore'].count().reset_index(name='Count')\n",
    "\n",
    "# Create a bar plot\n",
    "plt.figure(figsize=(12, 6))\n",
    "sns.barplot(data=data, x='City', y='Count', hue='Reviewscore')\n",
    "plt.title('Count of Review Scores in Each City')\n",
    "plt.xlabel('City')\n",
    "plt.ylabel('Count')\n",
    "plt.xticks(rotation=90)  # Rotate x-axis labels for better readability\n",
    "\n",
    "plt.show()"
   ]
  },
  {
   "cell_type": "markdown",
   "metadata": {},
   "source": [
    "This plot allows us to see the distribution of different review score categories, such as 'Good,' 'Very good,' 'Excellent,' and so on, within each city."
   ]
  },
  {
   "cell_type": "code",
   "execution_count": 83,
   "metadata": {},
   "outputs": [
    {
     "data": {
      "image/png": "[encoded data removed]",
      "text/plain": [
       "<Figure size 864x432 with 1 Axes>"
      ]
     },
     "metadata": {
      "needs_background": "light"
     },
     "output_type": "display_data"
    }
   ],
   "source": [
    "# Calculate the count of each review score in each city\n",
    "data = hotel_data.groupby(['City', 'Starrating'])['Starrating'].count().reset_index(name='Count')\n",
    "\n",
    "# Create a bar plot\n",
    "plt.figure(figsize=(12, 6))\n",
    "sns.barplot(data=data, x='City', y='Count', hue='Starrating')\n",
    "plt.title('Count of Star rating in Each City')\n",
    "plt.xlabel('City')\n",
    "plt.ylabel('Count')\n",
    "plt.xticks(rotation=90)  # Rotate x-axis labels for better readability\n",
    "\n",
    "plt.show()"
   ]
  },
  {
   "cell_type": "markdown",
   "metadata": {},
   "source": [
    "The plot allows you to see the distribution of different star rating within each city."
   ]
  },
  {
   "cell_type": "code",
   "execution_count": 84,
   "metadata": {},
   "outputs": [
    {
     "data": {
      "image/png": "[encoded data removed]",
      "text/plain": [
       "<Figure size 1152x360 with 1 Axes>"
      ]
     },
     "metadata": {
      "needs_background": "light"
     },
     "output_type": "display_data"
    }
   ],
   "source": [
    "# AveragePrice vs. region\n",
    "plt.figure(figsize=(16,5))\n",
    "plt.xticks(rotation=90)\n",
    "sns.boxplot(data=hotel_data, x='Userratings', y='Prices')\n",
    "plt.title('Price vs. User_rating')\n",
    "\n",
    "plt.show()"
   ]
  },
  {
   "cell_type": "code",
   "execution_count": 85,
   "metadata": {},
   "outputs": [
    {
     "name": "stdout",
     "output_type": "stream",
     "text": [
      "           City                               Hotelname  Prices\n",
      "972      Sydney         Lux Home at The Arc Bondi Beach   99093\n",
      "2011      Paris                     Appartement élégant   83914\n",
      "503      London             Elegant House in Marylebone   52592\n",
      "1811  Melbourne                    District South Yarra   35919\n",
      "3         Dubai  Kasco Homes - Waves Tower Business Bay   23464\n"
     ]
    }
   ],
   "source": [
    "# Find the most expensive hotel in each city along with its price\n",
    "most_expensive_hotels = hotel_data.loc[hotel_data.groupby('City')['Prices'].idxmax()][['City', 'Hotelname', 'Prices']]\n",
    "\n",
    "# Convert Prices column to integers for sorting\n",
    "most_expensive_hotels['Prices'] = most_expensive_hotels['Prices'].astype(int)\n",
    "\n",
    "# Sort the result in descending order by price\n",
    "most_expensive_hotels = most_expensive_hotels.sort_values(by='Prices', ascending=False)\n",
    "\n",
    "# Display the most expensive hotels in each city\n",
    "print(most_expensive_hotels)"
   ]
  },
  {
   "cell_type": "code",
   "execution_count": 86,
   "metadata": {},
   "outputs": [
    {
     "name": "stdout",
     "output_type": "stream",
     "text": [
      "           City                                          Hotelname  \\\n",
      "4         Dubai  Fully Furnished Luxury Short Stay Apartment in...   \n",
      "611      London                      Modern 1Bed Flat in Islington   \n",
      "1679  Melbourne                        Nest Apartments MEET Empire   \n",
      "1971      Paris                                 La perle du Marais   \n",
      "980      Sydney                                Moxy Sydney Airport   \n",
      "\n",
      "      Userratings  \n",
      "4              10  \n",
      "611            10  \n",
      "1679           10  \n",
      "1971           10  \n",
      "980             8  \n"
     ]
    }
   ],
   "source": [
    "# Find the hotel in each city with highest user rating\n",
    "most_rated_hotels = hotel_data.loc[hotel_data.groupby('City')['Userratings'].idxmax()][['City', 'Hotelname', 'Userratings']]\n",
    "\n",
    "# Convert Prices column to integers for sorting\n",
    "most_rated_hotels['Userratings'] = most_rated_hotels['Userratings'].astype(int)\n",
    "\n",
    "# Sort the result in descending order by price\n",
    "most_rated_hotels = most_rated_hotels.sort_values(by='Userratings', ascending=False)\n",
    "\n",
    "# Display the most expensive hotels in each city\n",
    "print(most_rated_hotels)"
   ]
  },
  {
   "cell_type": "code",
   "execution_count": 87,
   "metadata": {},
   "outputs": [
    {
     "name": "stdout",
     "output_type": "stream",
     "text": [
      "           City                                  Hotelname  Numberofreviews\n",
      "652      London       Park Plaza Westminster Bridge London            20906\n",
      "116       Dubai    Premier Inn Dubai International Airport            16107\n",
      "2020      Paris  HotelF1 Paris Saint Ouen Marché Aux Puces            12782\n",
      "1507  Melbourne                         The Victoria Hotel            10191\n",
      "987      Sydney                 ibis budget Sydney Airport            10120\n"
     ]
    }
   ],
   "source": [
    "# Find the hotel in each city with highest numbr of reviews\n",
    "most_reviewed_hotels = hotel_data.loc[hotel_data.groupby('City')['Numberofreviews'].idxmax()][['City', 'Hotelname', 'Numberofreviews']]\n",
    "\n",
    "# Convert Prices column to integers for sorting\n",
    "most_reviewed_hotels['Numberofreviews'] = most_reviewed_hotels['Numberofreviews'].astype(int)\n",
    "\n",
    "# Sort the result in descending order by price\n",
    "most_reviewed_hotels = most_reviewed_hotels.sort_values(by='Numberofreviews', ascending=False)\n",
    "\n",
    "# Display the most expensive hotels in each city\n",
    "print(most_reviewed_hotels)"
   ]
  },
  {
   "cell_type": "code",
   "execution_count": 88,
   "metadata": {},
   "outputs": [
    {
     "data": {
      "text/html": [
       "<div>\n",
       "<style scoped>\n",
       "    .dataframe tbody tr th:only-of-type {\n",
       "        vertical-align: middle;\n",
       "    }\n",
       "\n",
       "    .dataframe tbody tr th {\n",
       "        vertical-align: top;\n",
       "    }\n",
       "\n",
       "    .dataframe thead th {\n",
       "        text-align: right;\n",
       "    }\n",
       "</style>\n",
       "<table border=\"1\" class=\"dataframe\">\n",
       "  <thead>\n",
       "    <tr style=\"text-align: right;\">\n",
       "      <th></th>\n",
       "      <th>Hotelname</th>\n",
       "      <th>City</th>\n",
       "      <th>Location</th>\n",
       "      <th>Numberofreviews</th>\n",
       "      <th>Userratings</th>\n",
       "      <th>Starrating</th>\n",
       "      <th>Reviewscore</th>\n",
       "      <th>Familyrooms</th>\n",
       "      <th>NonSmokingRooms</th>\n",
       "      <th>Bar</th>\n",
       "      <th>Heating</th>\n",
       "      <th>Lift</th>\n",
       "      <th>BreakfastCuisine1</th>\n",
       "      <th>RoomType</th>\n",
       "      <th>Prices</th>\n",
       "    </tr>\n",
       "  </thead>\n",
       "  <tbody>\n",
       "    <tr>\n",
       "      <th>0</th>\n",
       "      <td>Unlock Metropolis Business Bay</td>\n",
       "      <td>0</td>\n",
       "      <td>Marasi Drive 1 AG Tower, Dubai, United Arab Em...</td>\n",
       "      <td>1012.0</td>\n",
       "      <td>8.5</td>\n",
       "      <td>4</td>\n",
       "      <td>7</td>\n",
       "      <td>1</td>\n",
       "      <td>1</td>\n",
       "      <td>1</td>\n",
       "      <td>1</td>\n",
       "      <td>1</td>\n",
       "      <td>2</td>\n",
       "      <td>47</td>\n",
       "      <td>10270.0</td>\n",
       "    </tr>\n",
       "    <tr>\n",
       "      <th>1</th>\n",
       "      <td>Element Dubai Airport</td>\n",
       "      <td>0</td>\n",
       "      <td>Airport Road, Al Garhoud, Next to Airport Term...</td>\n",
       "      <td>1133.0</td>\n",
       "      <td>8.3</td>\n",
       "      <td>0</td>\n",
       "      <td>7</td>\n",
       "      <td>1</td>\n",
       "      <td>1</td>\n",
       "      <td>1</td>\n",
       "      <td>0</td>\n",
       "      <td>1</td>\n",
       "      <td>2</td>\n",
       "      <td>174</td>\n",
       "      <td>10088.0</td>\n",
       "    </tr>\n",
       "    <tr>\n",
       "      <th>2</th>\n",
       "      <td>Golden Stay Vacation Homes continental tower m...</td>\n",
       "      <td>0</td>\n",
       "      <td>Jumeirah Beach Road, Dubai Marina, Dubai, Unit...</td>\n",
       "      <td>789.0</td>\n",
       "      <td>6.0</td>\n",
       "      <td>2</td>\n",
       "      <td>4</td>\n",
       "      <td>1</td>\n",
       "      <td>1</td>\n",
       "      <td>0</td>\n",
       "      <td>0</td>\n",
       "      <td>1</td>\n",
       "      <td>2</td>\n",
       "      <td>91</td>\n",
       "      <td>13999.0</td>\n",
       "    </tr>\n",
       "    <tr>\n",
       "      <th>3</th>\n",
       "      <td>Kasco Homes - Waves Tower Business Bay</td>\n",
       "      <td>0</td>\n",
       "      <td>Marasi Drive, Dubai, United Arab Emirates</td>\n",
       "      <td>478.0</td>\n",
       "      <td>8.6</td>\n",
       "      <td>4</td>\n",
       "      <td>2</td>\n",
       "      <td>1</td>\n",
       "      <td>1</td>\n",
       "      <td>0</td>\n",
       "      <td>0</td>\n",
       "      <td>1</td>\n",
       "      <td>2</td>\n",
       "      <td>157</td>\n",
       "      <td>23464.0</td>\n",
       "    </tr>\n",
       "    <tr>\n",
       "      <th>4</th>\n",
       "      <td>Fully Furnished Luxury Short Stay Apartment in...</td>\n",
       "      <td>0</td>\n",
       "      <td>Marasi Drive, Dubai, United Arab Emirates</td>\n",
       "      <td>1.0</td>\n",
       "      <td>10.0</td>\n",
       "      <td>0</td>\n",
       "      <td>1</td>\n",
       "      <td>0</td>\n",
       "      <td>0</td>\n",
       "      <td>0</td>\n",
       "      <td>1</td>\n",
       "      <td>0</td>\n",
       "      <td>2</td>\n",
       "      <td>92</td>\n",
       "      <td>22217.0</td>\n",
       "    </tr>\n",
       "  </tbody>\n",
       "</table>\n",
       "</div>"
      ],
      "text/plain": [
       "                                           Hotelname  City  \\\n",
       "0                     Unlock Metropolis Business Bay     0   \n",
       "1                              Element Dubai Airport     0   \n",
       "2  Golden Stay Vacation Homes continental tower m...     0   \n",
       "3             Kasco Homes - Waves Tower Business Bay     0   \n",
       "4  Fully Furnished Luxury Short Stay Apartment in...     0   \n",
       "\n",
       "                                            Location  Numberofreviews  \\\n",
       "0  Marasi Drive 1 AG Tower, Dubai, United Arab Em...           1012.0   \n",
       "1  Airport Road, Al Garhoud, Next to Airport Term...           1133.0   \n",
       "2  Jumeirah Beach Road, Dubai Marina, Dubai, Unit...            789.0   \n",
       "3          Marasi Drive, Dubai, United Arab Emirates            478.0   \n",
       "4          Marasi Drive, Dubai, United Arab Emirates              1.0   \n",
       "\n",
       "   Userratings  Starrating  Reviewscore  Familyrooms  NonSmokingRooms  Bar  \\\n",
       "0          8.5           4            7            1                1    1   \n",
       "1          8.3           0            7            1                1    1   \n",
       "2          6.0           2            4            1                1    0   \n",
       "3          8.6           4            2            1                1    0   \n",
       "4         10.0           0            1            0                0    0   \n",
       "\n",
       "   Heating  Lift  BreakfastCuisine1  RoomType   Prices  \n",
       "0        1     1                  2        47  10270.0  \n",
       "1        0     1                  2       174  10088.0  \n",
       "2        0     1                  2        91  13999.0  \n",
       "3        0     1                  2       157  23464.0  \n",
       "4        1     0                  2        92  22217.0  "
      ]
     },
     "execution_count": 88,
     "metadata": {},
     "output_type": "execute_result"
    }
   ],
   "source": [
    "# using label encoder to convert categorical column to numerical in dataset\n",
    "from sklearn.preprocessing import LabelEncoder\n",
    "\n",
    "# Select the categorical columns in your dataset\n",
    "cat_columns = ['City','Reviewscore','Familyrooms', 'NonSmokingRooms', 'Bar', 'Heating', 'Lift', 'BreakfastCuisine1', 'RoomType']\n",
    "\n",
    "# Create an instance of LabelEncoder\n",
    "label_encoder = LabelEncoder()\n",
    "\n",
    "# Apply label encoding to each categorical column\n",
    "for col in cat_columns:\n",
    "    hotel_data[col] = label_encoder.fit_transform(hotel_data[col])\n",
    "\n",
    "# Display the updated dataset\n",
    "hotel_data.head()"
   ]
  },
  {
   "cell_type": "code",
   "execution_count": 89,
   "metadata": {},
   "outputs": [
    {
     "data": {
      "text/html": [
       "<div>\n",
       "<style scoped>\n",
       "    .dataframe tbody tr th:only-of-type {\n",
       "        vertical-align: middle;\n",
       "    }\n",
       "\n",
       "    .dataframe tbody tr th {\n",
       "        vertical-align: top;\n",
       "    }\n",
       "\n",
       "    .dataframe thead th {\n",
       "        text-align: right;\n",
       "    }\n",
       "</style>\n",
       "<table border=\"1\" class=\"dataframe\">\n",
       "  <thead>\n",
       "    <tr style=\"text-align: right;\">\n",
       "      <th></th>\n",
       "      <th>City</th>\n",
       "      <th>Numberofreviews</th>\n",
       "      <th>Userratings</th>\n",
       "      <th>Starrating</th>\n",
       "      <th>Reviewscore</th>\n",
       "      <th>Familyrooms</th>\n",
       "      <th>NonSmokingRooms</th>\n",
       "      <th>Bar</th>\n",
       "      <th>Heating</th>\n",
       "      <th>Lift</th>\n",
       "      <th>BreakfastCuisine1</th>\n",
       "      <th>RoomType</th>\n",
       "      <th>Prices</th>\n",
       "    </tr>\n",
       "  </thead>\n",
       "  <tbody>\n",
       "    <tr>\n",
       "      <th>0</th>\n",
       "      <td>0</td>\n",
       "      <td>1012.0</td>\n",
       "      <td>8.5</td>\n",
       "      <td>4</td>\n",
       "      <td>7</td>\n",
       "      <td>1</td>\n",
       "      <td>1</td>\n",
       "      <td>1</td>\n",
       "      <td>1</td>\n",
       "      <td>1</td>\n",
       "      <td>2</td>\n",
       "      <td>47</td>\n",
       "      <td>10270.0</td>\n",
       "    </tr>\n",
       "    <tr>\n",
       "      <th>1</th>\n",
       "      <td>0</td>\n",
       "      <td>1133.0</td>\n",
       "      <td>8.3</td>\n",
       "      <td>0</td>\n",
       "      <td>7</td>\n",
       "      <td>1</td>\n",
       "      <td>1</td>\n",
       "      <td>1</td>\n",
       "      <td>0</td>\n",
       "      <td>1</td>\n",
       "      <td>2</td>\n",
       "      <td>174</td>\n",
       "      <td>10088.0</td>\n",
       "    </tr>\n",
       "    <tr>\n",
       "      <th>2</th>\n",
       "      <td>0</td>\n",
       "      <td>789.0</td>\n",
       "      <td>6.0</td>\n",
       "      <td>2</td>\n",
       "      <td>4</td>\n",
       "      <td>1</td>\n",
       "      <td>1</td>\n",
       "      <td>0</td>\n",
       "      <td>0</td>\n",
       "      <td>1</td>\n",
       "      <td>2</td>\n",
       "      <td>91</td>\n",
       "      <td>13999.0</td>\n",
       "    </tr>\n",
       "    <tr>\n",
       "      <th>3</th>\n",
       "      <td>0</td>\n",
       "      <td>478.0</td>\n",
       "      <td>8.6</td>\n",
       "      <td>4</td>\n",
       "      <td>2</td>\n",
       "      <td>1</td>\n",
       "      <td>1</td>\n",
       "      <td>0</td>\n",
       "      <td>0</td>\n",
       "      <td>1</td>\n",
       "      <td>2</td>\n",
       "      <td>157</td>\n",
       "      <td>23464.0</td>\n",
       "    </tr>\n",
       "    <tr>\n",
       "      <th>4</th>\n",
       "      <td>0</td>\n",
       "      <td>1.0</td>\n",
       "      <td>10.0</td>\n",
       "      <td>0</td>\n",
       "      <td>1</td>\n",
       "      <td>0</td>\n",
       "      <td>0</td>\n",
       "      <td>0</td>\n",
       "      <td>1</td>\n",
       "      <td>0</td>\n",
       "      <td>2</td>\n",
       "      <td>92</td>\n",
       "      <td>22217.0</td>\n",
       "    </tr>\n",
       "  </tbody>\n",
       "</table>\n",
       "</div>"
      ],
      "text/plain": [
       "   City  Numberofreviews  Userratings  Starrating  Reviewscore  Familyrooms  \\\n",
       "0     0           1012.0          8.5           4            7            1   \n",
       "1     0           1133.0          8.3           0            7            1   \n",
       "2     0            789.0          6.0           2            4            1   \n",
       "3     0            478.0          8.6           4            2            1   \n",
       "4     0              1.0         10.0           0            1            0   \n",
       "\n",
       "   NonSmokingRooms  Bar  Heating  Lift  BreakfastCuisine1  RoomType   Prices  \n",
       "0                1    1        1     1                  2        47  10270.0  \n",
       "1                1    1        0     1                  2       174  10088.0  \n",
       "2                1    0        0     1                  2        91  13999.0  \n",
       "3                1    0        0     1                  2       157  23464.0  \n",
       "4                0    0        1     0                  2        92  22217.0  "
      ]
     },
     "execution_count": 89,
     "metadata": {},
     "output_type": "execute_result"
    }
   ],
   "source": [
    "hotel_data.drop(['Hotelname', 'Location'], axis=1, inplace=True)\n",
    "hotel_data.head()"
   ]
  },
  {
   "cell_type": "code",
   "execution_count": 90,
   "metadata": {},
   "outputs": [
    {
     "data": {
      "image/png": "[encoded data removed]",
      "text/plain": [
       "<Figure size 1152x864 with 2 Axes>"
      ]
     },
     "metadata": {
      "needs_background": "light"
     },
     "output_type": "display_data"
    }
   ],
   "source": [
    "# lets check for correlation among columns\n",
    "\n",
    "plt.figure(figsize=(16,12))\n",
    "sns.heatmap(hotel_data.corr(), annot=True)\n",
    "plt.title(\"Corelation Heatmap\")\n",
    "plt.show()"
   ]
  },
  {
   "cell_type": "code",
   "execution_count": 91,
   "metadata": {},
   "outputs": [
    {
     "data": {
      "text/plain": [
       "Reviewscore         -0.150433\n",
       "Userratings         -0.111473\n",
       "NonSmokingRooms     -0.089351\n",
       "Familyrooms         -0.011804\n",
       "Numberofreviews      0.003266\n",
       "Lift                 0.012223\n",
       "Starrating           0.020669\n",
       "RoomType             0.034340\n",
       "City                 0.041243\n",
       "BreakfastCuisine1    0.103326\n",
       "Bar                  0.129374\n",
       "Heating              0.131998\n",
       "Prices               1.000000\n",
       "Name: Prices, dtype: float64"
      ]
     },
     "execution_count": 91,
     "metadata": {},
     "output_type": "execute_result"
    }
   ],
   "source": [
    "# lets check the correlation of features with the target variable here we have 2 target variables, Prices and Reviewscore\n",
    "hotel_data.corr()['Prices'].sort_values()"
   ]
  },
  {
   "cell_type": "markdown",
   "metadata": {},
   "source": [
    "'Prices' has the highest positive correlation with 'Heating' (0.131998) and 'Bar' (0.129374). This suggests that the presence of heating and bars in hotels may be associated with higher prices. It also has positive correlations with 'BreakfastCuisine1' (0.103326) and 'City' (0.041243). These variables may have some influence on hotel prices.\n",
    "\n",
    "The 'Prices' column has a weak negative correlation with 'Reviewscore' (-0.146498) and 'Userratings' (-0.111473). This indicates that as prices increase, there is a slight negative correlation with review scores and user ratings. In other words, higher prices are associated with slightly lower review scores and user ratings.'Prices' has a very weak positive correlation with 'Numberofreviews' (0.003266), 'Lift' (0.012223), and 'NonSmokingRooms' (-0.089351). These correlations suggest that these factors have limited influence on hotel prices."
   ]
  },
  {
   "cell_type": "code",
   "execution_count": 92,
   "metadata": {},
   "outputs": [
    {
     "data": {
      "text/plain": [
       "Prices              -0.150433\n",
       "RoomType            -0.084140\n",
       "BreakfastCuisine1    0.033868\n",
       "City                 0.053606\n",
       "Heating              0.074644\n",
       "Bar                  0.153070\n",
       "Familyrooms          0.180242\n",
       "Starrating           0.207630\n",
       "Lift                 0.239125\n",
       "NonSmokingRooms      0.290931\n",
       "Numberofreviews      0.298555\n",
       "Userratings          0.537939\n",
       "Reviewscore          1.000000\n",
       "Name: Reviewscore, dtype: float64"
      ]
     },
     "execution_count": 92,
     "metadata": {},
     "output_type": "execute_result"
    }
   ],
   "source": [
    "hotel_data.corr()['Reviewscore'].sort_values()"
   ]
  },
  {
   "cell_type": "markdown",
   "metadata": {},
   "source": [
    "The 'Reviewscore' column has the strongest positive correlation with 'Userratings' (0.498787) and 'Numberofreviews' (0.275253). This suggests that higher user ratings and more reviews are positively correlated with a higher review score.\n",
    "\n",
    "On the other hand, 'Reviewscore' has a weak positive correlation with 'NonSmokingRooms' (0.266600), indicating that the availability of non-smoking rooms is also positively associated with a higher review score."
   ]
  },
  {
   "cell_type": "markdown",
   "metadata": {},
   "source": [
    "#### Predicting the price is an example of Regression problem."
   ]
  },
  {
   "cell_type": "code",
   "execution_count": 93,
   "metadata": {},
   "outputs": [],
   "source": [
    "# For regression, price is the target column\n",
    "\n",
    "X= hotel_data.drop(['Prices'], axis=1)\n",
    "y = hotel_data['Prices']"
   ]
  },
  {
   "cell_type": "code",
   "execution_count": 94,
   "metadata": {},
   "outputs": [
    {
     "data": {
      "text/plain": [
       "Heating             -1.943778\n",
       "NonSmokingRooms     -1.892461\n",
       "Userratings         -1.447662\n",
       "Starrating          -1.177111\n",
       "Lift                -0.942771\n",
       "Familyrooms         -0.426270\n",
       "RoomType            -0.175751\n",
       "Reviewscore          0.112701\n",
       "Bar                  0.194852\n",
       "City                 0.325073\n",
       "Numberofreviews      2.727145\n",
       "BreakfastCuisine1    3.397788\n",
       "dtype: float64"
      ]
     },
     "execution_count": 94,
     "metadata": {},
     "output_type": "execute_result"
    }
   ],
   "source": [
    "#lets check for skewness and outliers in the dataset\n",
    "X.skew().sort_values()"
   ]
  },
  {
   "cell_type": "code",
   "execution_count": 95,
   "metadata": {},
   "outputs": [],
   "source": [
    "# remove skewness\n",
    "\n",
    "# Identify the columns to transform\n",
    "columns_to_transform = ['Heating', 'NonSmokingRooms', 'Userratings', 'Starrating', 'Numberofreviews', 'BreakfastCuisine1']\n",
    "\n",
    "# Apply log transformation to selected columns\n",
    "for column in columns_to_transform:\n",
    "    X[column] = np.log1p(X[column])"
   ]
  },
  {
   "cell_type": "code",
   "execution_count": 96,
   "metadata": {},
   "outputs": [
    {
     "data": {
      "text/plain": [
       "Heating             -1.943778\n",
       "Userratings         -1.898952\n",
       "NonSmokingRooms     -1.892461\n",
       "Starrating          -1.603035\n",
       "Numberofreviews     -0.949777\n",
       "Lift                -0.942771\n",
       "Familyrooms         -0.426270\n",
       "RoomType            -0.175751\n",
       "Reviewscore          0.112701\n",
       "Bar                  0.194852\n",
       "City                 0.325073\n",
       "BreakfastCuisine1    1.041931\n",
       "dtype: float64"
      ]
     },
     "execution_count": 96,
     "metadata": {},
     "output_type": "execute_result"
    }
   ],
   "source": [
    "X.skew().sort_values()"
   ]
  },
  {
   "cell_type": "code",
   "execution_count": 97,
   "metadata": {},
   "outputs": [],
   "source": [
    "# finding and transforming outliers\n",
    "# Iterate over each column in X\n",
    "for col in X.columns:\n",
    "    # Calculate the lower and upper thresholds for the column\n",
    "    Q1 = np.percentile(X[col], 25)\n",
    "    Q3 = np.percentile(X[col], 75)\n",
    "    IQR = Q3 - Q1\n",
    "    lower_threshold = Q1 - 1.5 * IQR\n",
    "    upper_threshold = Q3 + 1.5 * IQR\n",
    "\n",
    "    # Replace outliers in the column with threshold values\n",
    "    X[col] = np.where(X[col] < lower_threshold, lower_threshold, X[col])\n",
    "    X[col] = np.where(X[col] > upper_threshold, upper_threshold, X[col])"
   ]
  },
  {
   "cell_type": "markdown",
   "metadata": {},
   "source": [
    "The values in the dataset that are outside these thresholds are outliers. Since this dataset is small, we will transform these outliers using flooring or capping method. In this method, a threshold is set and values above or below that threshold is replaced with the nearest non-outlying value, in this case the threshold."
   ]
  },
  {
   "cell_type": "code",
   "execution_count": 98,
   "metadata": {},
   "outputs": [
    {
     "name": "stdout",
     "output_type": "stream",
     "text": [
      "X_train shape (310, 12)\n",
      "X_test shape (104, 12)\n",
      "y_train shape (310,)\n",
      "y_test shape (104,)\n"
     ]
    }
   ],
   "source": [
    "from sklearn.model_selection import train_test_split, cross_val_score, GridSearchCV\n",
    "from sklearn.preprocessing import StandardScaler\n",
    "\n",
    "# scaling the dataset\n",
    "scaler = StandardScaler()\n",
    "X = scaler.fit_transform(X)\n",
    "\n",
    "# splitting data into train and tests set\n",
    "X_train, X_test, y_train, y_test = train_test_split(X,y, test_size=0.25, random_state=42)\n",
    "\n",
    "print('X_train shape', X_train.shape)\n",
    "print('X_test shape', X_test.shape)\n",
    "print('y_train shape', y_train.shape)\n",
    "print('y_test shape', y_test.shape)"
   ]
  },
  {
   "cell_type": "code",
   "execution_count": 99,
   "metadata": {},
   "outputs": [
    {
     "name": "stderr",
     "output_type": "stream",
     "text": [
      "C:\\Users\\LENOVO\\Anaconda3\\lib\\site-packages\\sklearn\\ensemble\\forest.py:246: FutureWarning: The default value of n_estimators will change from 10 in version 0.20 to 100 in 0.22.\n",
      "  \"10 in version 0.20 to 100 in 0.22.\", FutureWarning)\n",
      "C:\\Users\\LENOVO\\Anaconda3\\lib\\site-packages\\sklearn\\svm\\base.py:196: FutureWarning: The default value of gamma will change from 'auto' to 'scale' in version 0.22 to account better for unscaled features. Set gamma explicitly to 'auto' or 'scale' to avoid this warning.\n",
      "  \"avoid this warning.\", FutureWarning)\n"
     ]
    },
    {
     "data": {
      "image/png": "[encoded data removed]",
      "text/plain": [
       "<Figure size 576x432 with 1 Axes>"
      ]
     },
     "metadata": {
      "needs_background": "light"
     },
     "output_type": "display_data"
    },
    {
     "data": {
      "image/png": "[encoded data removed]",
      "text/plain": [
       "<Figure size 576x432 with 1 Axes>"
      ]
     },
     "metadata": {
      "needs_background": "light"
     },
     "output_type": "display_data"
    },
    {
     "data": {
      "image/png": "[encoded data removed]",
      "text/plain": [
       "<Figure size 576x432 with 1 Axes>"
      ]
     },
     "metadata": {
      "needs_background": "light"
     },
     "output_type": "display_data"
    },
    {
     "data": {
      "image/png": "[encoded data removed]",
      "text/plain": [
       "<Figure size 576x432 with 1 Axes>"
      ]
     },
     "metadata": {
      "needs_background": "light"
     },
     "output_type": "display_data"
    },
    {
     "data": {
      "image/png": "[encoded data removed]",
      "text/plain": [
       "<Figure size 576x432 with 1 Axes>"
      ]
     },
     "metadata": {
      "needs_background": "light"
     },
     "output_type": "display_data"
    },
    {
     "data": {
      "image/png": "[encoded data removed]",
      "text/plain": [
       "<Figure size 576x432 with 1 Axes>"
      ]
     },
     "metadata": {
      "needs_background": "light"
     },
     "output_type": "display_data"
    },
    {
     "data": {
      "image/png": "[encoded data removed]",
      "text/plain": [
       "<Figure size 576x432 with 1 Axes>"
      ]
     },
     "metadata": {
      "needs_background": "light"
     },
     "output_type": "display_data"
    },
    {
     "data": {
      "image/png": "[encoded data removed]",
      "text/plain": [
       "<Figure size 576x432 with 1 Axes>"
      ]
     },
     "metadata": {
      "needs_background": "light"
     },
     "output_type": "display_data"
    },
    {
     "data": {
      "image/png": "[encoded data removed]",
      "text/plain": [
       "<Figure size 576x432 with 1 Axes>"
      ]
     },
     "metadata": {
      "needs_background": "light"
     },
     "output_type": "display_data"
    },
    {
     "data": {
      "image/png": "[encoded data removed]",
      "text/plain": [
       "<Figure size 576x432 with 1 Axes>"
      ]
     },
     "metadata": {
      "needs_background": "light"
     },
     "output_type": "display_data"
    }
   ],
   "source": [
    "# importing libraries\n",
    "from sklearn.metrics import r2_score, mean_absolute_error, mean_squared_error\n",
    "from sklearn.linear_model import LinearRegression\n",
    "from sklearn.ensemble import RandomForestRegressor\n",
    "from sklearn.svm import SVR\n",
    "from sklearn.tree import DecisionTreeRegressor\n",
    "from sklearn.neighbors import KNeighborsRegressor\n",
    "from sklearn.ensemble import GradientBoostingRegressor\n",
    "from sklearn.linear_model import Lasso\n",
    "from sklearn.linear_model import Ridge\n",
    "from sklearn.linear_model import ElasticNet\n",
    "from sklearn.linear_model import BayesianRidge\n",
    "\n",
    "models = [\n",
    "    ('Linear Regression', LinearRegression()),\n",
    "    ('Random Forest', RandomForestRegressor()),\n",
    "    ('Support Vector Regression', SVR()),\n",
    "    ('Decision Tree', DecisionTreeRegressor()),\n",
    "    ('K-Nearest Neighbors', KNeighborsRegressor()),\n",
    "    ('Gradient Boosting', GradientBoostingRegressor()),\n",
    "    ('Lasso Regression', Lasso()),\n",
    "    ('Ridge Regression', Ridge()),\n",
    "    ('Elastic Net', ElasticNet()),\n",
    "    ('Bayesian Ridge', BayesianRidge())]\n",
    "\n",
    "predictions = []\n",
    "for name, model in models:\n",
    "    model.fit(X_train, y_train)\n",
    "    y_pred = model.predict(X_test)\n",
    "    predictions.append((name, y_pred))\n",
    "    \n",
    "# Plotting the predicted vs actual values\n",
    "for name, y_pred in predictions:\n",
    "    plt.figure(figsize=(8, 6))\n",
    "    plt.scatter(y_test, y_pred)\n",
    "    plt.xlabel('Actual Values')\n",
    "    plt.ylabel('Predicted Values')\n",
    "    plt.title(name)\n",
    "    plt.xticks(rotation=45)\n",
    "    plt.show()"
   ]
  },
  {
   "cell_type": "code",
   "execution_count": 100,
   "metadata": {},
   "outputs": [
    {
     "data": {
      "text/html": [
       "<div>\n",
       "<style scoped>\n",
       "    .dataframe tbody tr th:only-of-type {\n",
       "        vertical-align: middle;\n",
       "    }\n",
       "\n",
       "    .dataframe tbody tr th {\n",
       "        vertical-align: top;\n",
       "    }\n",
       "\n",
       "    .dataframe thead th {\n",
       "        text-align: right;\n",
       "    }\n",
       "</style>\n",
       "<table border=\"1\" class=\"dataframe\">\n",
       "  <thead>\n",
       "    <tr style=\"text-align: right;\">\n",
       "      <th></th>\n",
       "      <th>Model_name</th>\n",
       "      <th>R2_score</th>\n",
       "      <th>Mean_Squared_Error</th>\n",
       "      <th>Root_Mean_Squared_Error</th>\n",
       "      <th>Mean_Absolute_Error</th>\n",
       "    </tr>\n",
       "  </thead>\n",
       "  <tbody>\n",
       "    <tr>\n",
       "      <th>0</th>\n",
       "      <td>Linear Regression</td>\n",
       "      <td>0.030836</td>\n",
       "      <td>1.060668e+08</td>\n",
       "      <td>10298.876020</td>\n",
       "      <td>6794.855496</td>\n",
       "    </tr>\n",
       "    <tr>\n",
       "      <th>1</th>\n",
       "      <td>Random Forest</td>\n",
       "      <td>0.446609</td>\n",
       "      <td>6.056395e+07</td>\n",
       "      <td>7782.284298</td>\n",
       "      <td>4769.285666</td>\n",
       "    </tr>\n",
       "    <tr>\n",
       "      <th>2</th>\n",
       "      <td>Support Vector Regression</td>\n",
       "      <td>-0.013722</td>\n",
       "      <td>1.109434e+08</td>\n",
       "      <td>10532.967534</td>\n",
       "      <td>6264.973681</td>\n",
       "    </tr>\n",
       "    <tr>\n",
       "      <th>3</th>\n",
       "      <td>Decision Tree</td>\n",
       "      <td>0.089663</td>\n",
       "      <td>9.962872e+07</td>\n",
       "      <td>9981.418715</td>\n",
       "      <td>5982.964191</td>\n",
       "    </tr>\n",
       "    <tr>\n",
       "      <th>4</th>\n",
       "      <td>K-Nearest Neighbors</td>\n",
       "      <td>0.312312</td>\n",
       "      <td>7.526169e+07</td>\n",
       "      <td>8675.349337</td>\n",
       "      <td>5894.238462</td>\n",
       "    </tr>\n",
       "    <tr>\n",
       "      <th>5</th>\n",
       "      <td>Gradient Boosting</td>\n",
       "      <td>0.428175</td>\n",
       "      <td>6.258148e+07</td>\n",
       "      <td>7910.845723</td>\n",
       "      <td>4536.830820</td>\n",
       "    </tr>\n",
       "    <tr>\n",
       "      <th>6</th>\n",
       "      <td>Lasso Regression</td>\n",
       "      <td>0.030967</td>\n",
       "      <td>1.060526e+08</td>\n",
       "      <td>10298.182218</td>\n",
       "      <td>6793.800630</td>\n",
       "    </tr>\n",
       "    <tr>\n",
       "      <th>7</th>\n",
       "      <td>Ridge Regression</td>\n",
       "      <td>0.031488</td>\n",
       "      <td>1.059955e+08</td>\n",
       "      <td>10295.410157</td>\n",
       "      <td>6789.260582</td>\n",
       "    </tr>\n",
       "    <tr>\n",
       "      <th>8</th>\n",
       "      <td>Elastic Net</td>\n",
       "      <td>0.046484</td>\n",
       "      <td>1.043544e+08</td>\n",
       "      <td>10215.398582</td>\n",
       "      <td>6608.668353</td>\n",
       "    </tr>\n",
       "    <tr>\n",
       "      <th>9</th>\n",
       "      <td>Bayesian Ridge</td>\n",
       "      <td>0.045372</td>\n",
       "      <td>1.044760e+08</td>\n",
       "      <td>10221.349529</td>\n",
       "      <td>6610.833316</td>\n",
       "    </tr>\n",
       "  </tbody>\n",
       "</table>\n",
       "</div>"
      ],
      "text/plain": [
       "                  Model_name  R2_score  Mean_Squared_Error  \\\n",
       "0          Linear Regression  0.030836        1.060668e+08   \n",
       "1              Random Forest  0.446609        6.056395e+07   \n",
       "2  Support Vector Regression -0.013722        1.109434e+08   \n",
       "3              Decision Tree  0.089663        9.962872e+07   \n",
       "4        K-Nearest Neighbors  0.312312        7.526169e+07   \n",
       "5          Gradient Boosting  0.428175        6.258148e+07   \n",
       "6           Lasso Regression  0.030967        1.060526e+08   \n",
       "7           Ridge Regression  0.031488        1.059955e+08   \n",
       "8                Elastic Net  0.046484        1.043544e+08   \n",
       "9             Bayesian Ridge  0.045372        1.044760e+08   \n",
       "\n",
       "   Root_Mean_Squared_Error  Mean_Absolute_Error  \n",
       "0             10298.876020          6794.855496  \n",
       "1              7782.284298          4769.285666  \n",
       "2             10532.967534          6264.973681  \n",
       "3              9981.418715          5982.964191  \n",
       "4              8675.349337          5894.238462  \n",
       "5              7910.845723          4536.830820  \n",
       "6             10298.182218          6793.800630  \n",
       "7             10295.410157          6789.260582  \n",
       "8             10215.398582          6608.668353  \n",
       "9             10221.349529          6610.833316  "
      ]
     },
     "execution_count": 100,
     "metadata": {},
     "output_type": "execute_result"
    }
   ],
   "source": [
    "metrics = []\n",
    "for name, y_pred in predictions:\n",
    "    r2 = r2_score(y_test, y_pred)\n",
    "    mse = mean_squared_error(y_test, y_pred)\n",
    "    rmse = np.sqrt(mse)\n",
    "    mae = mean_absolute_error(y_test, y_pred)\n",
    "    metrics.append((name, r2, mse, rmse, mae))\n",
    "\n",
    "# Creating metrics dataframe\n",
    "metrics_df = pd.DataFrame(metrics, columns=['Model_name', 'R2_score', 'Mean_Squared_Error',\n",
    "                                            'Root_Mean_Squared_Error', 'Mean_Absolute_Error'])\n",
    "\n",
    "metrics_df"
   ]
  },
  {
   "cell_type": "markdown",
   "metadata": {},
   "source": [
    "The Gradient Boosting model stands out as the top performer based on these metrics, with the highest R² score and the lowest MSE, RMSE, and MAE. It appears to be the most suitable model for this dataset."
   ]
  },
  {
   "cell_type": "code",
   "execution_count": 101,
   "metadata": {},
   "outputs": [
    {
     "name": "stdout",
     "output_type": "stream",
     "text": [
      "Model : Linear Regression\n",
      "cv_score : [-9.35900818e-01 -8.62523848e-01 -1.59815169e-03 -1.86393678e+00\n",
      " -4.85921659e-02]\n",
      "Mean Score -0.7425103529272672\n",
      "Diffrenece between Mean CV Score and R2 score 0.7878827297139128\n",
      "\n",
      "\n",
      "Model : Random Forest\n",
      "cv_score : [-1.4932515   0.12122015  0.59637693 -1.12846898 -0.28880528]\n",
      "Mean Score -0.438585734994113\n",
      "Diffrenece between Mean CV Score and R2 score 0.48395811178075865\n",
      "\n",
      "\n",
      "Model : Support Vector Regression\n",
      "cv_score : [-0.00665073 -0.96626995 -0.03161561 -0.26484943 -0.09471468]\n",
      "Mean Score -0.2728200828505651\n",
      "Diffrenece between Mean CV Score and R2 score 0.3181924596372107\n",
      "\n",
      "\n",
      "Model : Decision Tree\n",
      "cv_score : [-1.5321313  -1.7319478   0.48524036 -1.97922323 -0.41775811]\n",
      "Mean Score -1.0351640153429809\n",
      "Diffrenece between Mean CV Score and R2 score 1.0805363921296265\n",
      "\n",
      "\n"
     ]
    },
    {
     "name": "stderr",
     "output_type": "stream",
     "text": [
      "C:\\Users\\LENOVO\\Anaconda3\\lib\\site-packages\\sklearn\\svm\\base.py:196: FutureWarning: The default value of gamma will change from 'auto' to 'scale' in version 0.22 to account better for unscaled features. Set gamma explicitly to 'auto' or 'scale' to avoid this warning.\n",
      "  \"avoid this warning.\", FutureWarning)\n",
      "C:\\Users\\LENOVO\\Anaconda3\\lib\\site-packages\\sklearn\\svm\\base.py:196: FutureWarning: The default value of gamma will change from 'auto' to 'scale' in version 0.22 to account better for unscaled features. Set gamma explicitly to 'auto' or 'scale' to avoid this warning.\n",
      "  \"avoid this warning.\", FutureWarning)\n",
      "C:\\Users\\LENOVO\\Anaconda3\\lib\\site-packages\\sklearn\\svm\\base.py:196: FutureWarning: The default value of gamma will change from 'auto' to 'scale' in version 0.22 to account better for unscaled features. Set gamma explicitly to 'auto' or 'scale' to avoid this warning.\n",
      "  \"avoid this warning.\", FutureWarning)\n",
      "C:\\Users\\LENOVO\\Anaconda3\\lib\\site-packages\\sklearn\\svm\\base.py:196: FutureWarning: The default value of gamma will change from 'auto' to 'scale' in version 0.22 to account better for unscaled features. Set gamma explicitly to 'auto' or 'scale' to avoid this warning.\n",
      "  \"avoid this warning.\", FutureWarning)\n",
      "C:\\Users\\LENOVO\\Anaconda3\\lib\\site-packages\\sklearn\\svm\\base.py:196: FutureWarning: The default value of gamma will change from 'auto' to 'scale' in version 0.22 to account better for unscaled features. Set gamma explicitly to 'auto' or 'scale' to avoid this warning.\n",
      "  \"avoid this warning.\", FutureWarning)\n"
     ]
    },
    {
     "name": "stdout",
     "output_type": "stream",
     "text": [
      "Model : K-Nearest Neighbors\n",
      "cv_score : [-0.84378748 -0.10846472  0.41063387 -1.48779328  0.2979946 ]\n",
      "Mean Score -0.34628340277107944\n",
      "Diffrenece between Mean CV Score and R2 score 0.39165577955772507\n",
      "\n",
      "\n",
      "Model : Gradient Boosting\n",
      "cv_score : [-0.95482154 -0.37571235  0.61229287 -0.45418842 -0.03886401]\n",
      "Mean Score -0.24225868987781266\n",
      "Diffrenece between Mean CV Score and R2 score 0.28763106666445826\n",
      "\n",
      "\n",
      "Model : Lasso Regression\n",
      "cv_score : [-9.34205003e-01 -8.62128017e-01 -1.57119798e-03 -1.86292245e+00\n",
      " -4.84868587e-02]\n",
      "Mean Score -0.7418627059698009\n",
      "Diffrenece between Mean CV Score and R2 score 0.7872350827564465\n",
      "\n",
      "\n",
      "Model : Ridge Regression\n",
      "cv_score : [-9.28012299e-01 -8.59590057e-01 -1.45427860e-03 -1.85867885e+00\n",
      " -4.85328216e-02]\n",
      "Mean Score -0.7392536621544147\n",
      "Diffrenece between Mean CV Score and R2 score 0.7846260389410603\n",
      "\n",
      "\n",
      "Model : Elastic Net\n",
      "cv_score : [-0.42808424 -0.6733924   0.00863216 -1.47810774 -0.04206886]\n",
      "Mean Score -0.5226042151942564\n",
      "Diffrenece between Mean CV Score and R2 score 0.567976591980902\n",
      "\n",
      "\n",
      "Model : Bayesian Ridge\n",
      "cv_score : [-0.58494675 -0.71366267  0.00790242 -1.55861888 -0.04217777]\n",
      "Mean Score -0.5783007304456254\n",
      "Diffrenece between Mean CV Score and R2 score 0.623673107232271\n",
      "\n",
      "\n"
     ]
    }
   ],
   "source": [
    "# using cross val score on the regressors\n",
    "for name, model in models:\n",
    "    cv_score = cross_val_score(model, X, y, cv=5)\n",
    "    print('Model :', name)\n",
    "    print('cv_score :',cv_score)\n",
    "    print('Mean Score', cv_score.mean())\n",
    "    print(\"Diffrenece between Mean CV Score and R2 score\", (r2_score(y_test,y_pred)-cv_score.mean()))\n",
    "    print(\"\\n\")"
   ]
  },
  {
   "cell_type": "markdown",
   "metadata": {},
   "source": [
    "The Gradient Boosting model stands out as the top performer."
   ]
  },
  {
   "cell_type": "code",
   "execution_count": 103,
   "metadata": {},
   "outputs": [
    {
     "name": "stderr",
     "output_type": "stream",
     "text": [
      "C:\\Users\\LENOVO\\Anaconda3\\lib\\site-packages\\sklearn\\model_selection\\_search.py:841: DeprecationWarning: The default of the `iid` parameter will change from True to False in version 0.22 and will be removed in 0.24. This will change numeric results when test-set sizes are unequal.\n",
      "  DeprecationWarning)\n"
     ]
    },
    {
     "data": {
      "text/plain": [
       "GridSearchCV(cv=5, error_score='raise-deprecating',\n",
       "       estimator=GradientBoostingRegressor(alpha=0.9, criterion='friedman_mse', init=None,\n",
       "             learning_rate=0.1, loss='ls', max_depth=3, max_features=None,\n",
       "             max_leaf_nodes=None, min_impurity_decrease=0.0,\n",
       "             min_impurity_split=None, min_samples_leaf=1,\n",
       "             min_sampl...te=42, subsample=1.0, tol=0.0001,\n",
       "             validation_fraction=0.1, verbose=0, warm_start=False),\n",
       "       fit_params=None, iid='warn', n_jobs=None,\n",
       "       param_grid={'n_estimators': [100, 200, 300], 'learning_rate': [0.01, 0.1, 0.2], 'max_depth': [3, 4, 5], 'min_samples_split': [2, 5, 10], 'min_samples_leaf': [1, 2, 4], 'max_features': ['auto', 'sqrt', 'log2']},\n",
       "       pre_dispatch='2*n_jobs', refit=True, return_train_score='warn',\n",
       "       scoring=None, verbose=0)"
      ]
     },
     "execution_count": 103,
     "metadata": {},
     "output_type": "execute_result"
    }
   ],
   "source": [
    "#hyperparameter tuning\n",
    "\n",
    "param_grid = {\n",
    "    'n_estimators': [100, 200, 300],\n",
    "    'learning_rate': [0.01, 0.1, 0.2],\n",
    "    'max_depth': [3, 4, 5],\n",
    "    'min_samples_split': [2, 5, 10],\n",
    "    'min_samples_leaf': [1, 2, 4],\n",
    "    'max_features': ['auto', 'sqrt', 'log2']\n",
    "}\n",
    "\n",
    "grid_search = GridSearchCV(GradientBoostingRegressor(random_state=42), param_grid=param_grid, cv=5)\n",
    "grid_search.fit(X, y)"
   ]
  },
  {
   "cell_type": "code",
   "execution_count": 104,
   "metadata": {},
   "outputs": [
    {
     "data": {
      "text/plain": [
       "{'learning_rate': 0.1,\n",
       " 'max_depth': 3,\n",
       " 'max_features': 'auto',\n",
       " 'min_samples_leaf': 4,\n",
       " 'min_samples_split': 2,\n",
       " 'n_estimators': 100}"
      ]
     },
     "execution_count": 104,
     "metadata": {},
     "output_type": "execute_result"
    }
   ],
   "source": [
    "grid_search.best_params_"
   ]
  },
  {
   "cell_type": "code",
   "execution_count": 105,
   "metadata": {},
   "outputs": [
    {
     "name": "stdout",
     "output_type": "stream",
     "text": [
      "R2_score : 0.5679280187508351\n"
     ]
    }
   ],
   "source": [
    "# final model\n",
    "final = GradientBoostingRegressor(n_estimators=100, learning_rate=0.1, max_depth=3, min_samples_split=2,\n",
    "                                  min_samples_leaf=4, max_features='auto')\n",
    "final.fit(X_train,y_train)\n",
    "final_pred = final.predict(X_test)\n",
    "print(\"R2_score :\", r2_score(y_test,final_pred))"
   ]
  },
  {
   "cell_type": "code",
   "execution_count": 106,
   "metadata": {},
   "outputs": [
    {
     "data": {
      "text/plain": [
       "['Hotel_prices.pkl']"
      ]
     },
     "execution_count": 106,
     "metadata": {},
     "output_type": "execute_result"
    }
   ],
   "source": [
    "# saving the model\n",
    "import joblib\n",
    "joblib.dump(final, \"Hotel_prices.pkl\")"
   ]
  },
  {
   "cell_type": "code",
   "execution_count": null,
   "metadata": {},
   "outputs": [],
   "source": []
  },
  {
   "cell_type": "markdown",
   "metadata": {},
   "source": [
    "#### Predicting the review score is a classification problem"
   ]
  },
  {
   "cell_type": "code",
   "execution_count": 107,
   "metadata": {},
   "outputs": [],
   "source": [
    "# for classification, region is the target variable\n",
    "X_c = hotel_data.drop(['Reviewscore'], axis=1)\n",
    "y = hotel_data['Reviewscore']"
   ]
  },
  {
   "cell_type": "code",
   "execution_count": 108,
   "metadata": {},
   "outputs": [
    {
     "data": {
      "text/plain": [
       "Heating             -1.943778\n",
       "NonSmokingRooms     -1.892461\n",
       "Userratings         -1.447662\n",
       "Starrating          -1.177111\n",
       "Lift                -0.942771\n",
       "Familyrooms         -0.426270\n",
       "RoomType            -0.175751\n",
       "Bar                  0.194852\n",
       "City                 0.325073\n",
       "Numberofreviews      2.727145\n",
       "Prices               3.347208\n",
       "BreakfastCuisine1    3.397788\n",
       "dtype: float64"
      ]
     },
     "execution_count": 108,
     "metadata": {},
     "output_type": "execute_result"
    }
   ],
   "source": [
    "# checking and correcting skewness\n",
    "X_c.skew().sort_values()"
   ]
  },
  {
   "cell_type": "code",
   "execution_count": 109,
   "metadata": {},
   "outputs": [],
   "source": [
    "# finding and transforming outliers\n",
    "# Iterate over each column in X\n",
    "for col in X_c.columns:\n",
    "    # Calculate the lower and upper thresholds for the column\n",
    "    Q1 = np.percentile(X_c[col], 25)\n",
    "    Q3 = np.percentile(X_c[col], 75)\n",
    "    IQR = Q3 - Q1\n",
    "    lower_threshold = Q1 - 1.5 * IQR\n",
    "    upper_threshold = Q3 + 1.5 * IQR\n",
    "\n",
    "    # Replace outliers in the column with threshold values\n",
    "    X_c[col] = np.where(X_c[col] < lower_threshold, lower_threshold, X_c[col])\n",
    "    X_c[col] = np.where(X_c[col] > upper_threshold, upper_threshold, X_c[col])"
   ]
  },
  {
   "cell_type": "code",
   "execution_count": 110,
   "metadata": {},
   "outputs": [
    {
     "name": "stdout",
     "output_type": "stream",
     "text": [
      "X_train shape (310, 12)\n",
      "X_test shape (104, 12)\n",
      "y_train shape (310,)\n",
      "y_test shape (104,)\n"
     ]
    }
   ],
   "source": [
    "from sklearn.model_selection import train_test_split, cross_val_score, GridSearchCV\n",
    "from sklearn.preprocessing import StandardScaler\n",
    "\n",
    "# scaling the dataset\n",
    "scaler = StandardScaler()\n",
    "X = scaler.fit_transform(X_c)\n",
    "\n",
    "# splitting data into train and tests set\n",
    "X_train, X_test, y_train, y_test = train_test_split(X,y, test_size=0.25, random_state=42)\n",
    "\n",
    "print('X_train shape', X_train.shape)\n",
    "print('X_test shape', X_test.shape)\n",
    "print('y_train shape', y_train.shape)\n",
    "print('y_test shape', y_test.shape)"
   ]
  },
  {
   "cell_type": "code",
   "execution_count": 111,
   "metadata": {},
   "outputs": [
    {
     "name": "stdout",
     "output_type": "stream",
     "text": [
      "Model:  KNeighborsClassifier(algorithm='auto', leaf_size=30, metric='minkowski',\n",
      "           metric_params=None, n_jobs=None, n_neighbors=5, p=2,\n",
      "           weights='uniform')\n",
      "[[14  0  0  0  0  0  0  0]\n",
      " [ 0  1  1  0  0  0  0  4]\n",
      " [ 0  0  5  4  0  0  0  6]\n",
      " [ 0  0  3 19  1  0  0  4]\n",
      " [ 0  0  1  5  0  0  0  2]\n",
      " [ 2  0  0  0  0  0  0  0]\n",
      " [ 0  2  0  0  0  0  1  1]\n",
      " [ 0  0  2 18  0  0  0  8]]\n",
      "\n",
      "Model:  DecisionTreeClassifier(class_weight=None, criterion='gini', max_depth=None,\n",
      "            max_features=None, max_leaf_nodes=None,\n",
      "            min_impurity_decrease=0.0, min_impurity_split=None,\n",
      "            min_samples_leaf=1, min_samples_split=2,\n",
      "            min_weight_fraction_leaf=0.0, presort=False, random_state=None,\n",
      "            splitter='best')\n",
      "[[14  0  0  0  0  0  0  0]\n",
      " [ 0  6  0  0  0  0  0  0]\n",
      " [ 0  0 15  0  0  0  0  0]\n",
      " [ 0  0  0 27  0  0  0  0]\n",
      " [ 0  0  0  0  8  0  0  0]\n",
      " [ 2  0  0  0  0  0  0  0]\n",
      " [ 0  0  0  0  0  0  4  0]\n",
      " [ 0  0  0  0  0  0  0 28]]\n",
      "\n",
      "Model:  RandomForestClassifier(bootstrap=True, class_weight=None, criterion='gini',\n",
      "            max_depth=None, max_features='auto', max_leaf_nodes=None,\n",
      "            min_impurity_decrease=0.0, min_impurity_split=None,\n",
      "            min_samples_leaf=1, min_samples_split=2,\n",
      "            min_weight_fraction_leaf=0.0, n_estimators=100, n_jobs=None,\n",
      "            oob_score=False, random_state=None, verbose=0,\n",
      "            warm_start=False)\n"
     ]
    },
    {
     "name": "stderr",
     "output_type": "stream",
     "text": [
      "C:\\Users\\LENOVO\\Anaconda3\\lib\\site-packages\\sklearn\\metrics\\classification.py:1143: UndefinedMetricWarning: F-score is ill-defined and being set to 0.0 in labels with no predicted samples.\n",
      "  'precision', 'predicted', average, warn_for)\n",
      "C:\\Users\\LENOVO\\Anaconda3\\lib\\site-packages\\sklearn\\metrics\\classification.py:1143: UndefinedMetricWarning: Precision is ill-defined and being set to 0.0 in labels with no predicted samples.\n",
      "  'precision', 'predicted', average, warn_for)\n",
      "C:\\Users\\LENOVO\\Anaconda3\\lib\\site-packages\\sklearn\\metrics\\classification.py:1143: UndefinedMetricWarning: F-score is ill-defined and being set to 0.0 in labels with no predicted samples.\n",
      "  'precision', 'predicted', average, warn_for)\n",
      "C:\\Users\\LENOVO\\Anaconda3\\lib\\site-packages\\sklearn\\metrics\\classification.py:1143: UndefinedMetricWarning: Precision is ill-defined and being set to 0.0 in labels with no predicted samples.\n",
      "  'precision', 'predicted', average, warn_for)\n"
     ]
    },
    {
     "name": "stdout",
     "output_type": "stream",
     "text": [
      "[[14  0  0  0  0  0  0  0]\n",
      " [ 0  4  0  0  0  0  2  0]\n",
      " [ 0  0 11  0  0  0  1  3]\n",
      " [ 0  0  0 27  0  0  0  0]\n",
      " [ 0  0  0  2  6  0  0  0]\n",
      " [ 2  0  0  0  0  0  0  0]\n",
      " [ 0  2  0  0  0  0  1  1]\n",
      " [ 0  0  0  0  0  0  0 28]]\n",
      "\n",
      "Model:  AdaBoostClassifier(algorithm='SAMME.R', base_estimator=None,\n",
      "          learning_rate=1.0, n_estimators=100, random_state=None)\n"
     ]
    },
    {
     "name": "stderr",
     "output_type": "stream",
     "text": [
      "C:\\Users\\LENOVO\\Anaconda3\\lib\\site-packages\\sklearn\\metrics\\classification.py:1143: UndefinedMetricWarning: F-score is ill-defined and being set to 0.0 in labels with no predicted samples.\n",
      "  'precision', 'predicted', average, warn_for)\n",
      "C:\\Users\\LENOVO\\Anaconda3\\lib\\site-packages\\sklearn\\metrics\\classification.py:1143: UndefinedMetricWarning: Precision is ill-defined and being set to 0.0 in labels with no predicted samples.\n",
      "  'precision', 'predicted', average, warn_for)\n"
     ]
    },
    {
     "name": "stdout",
     "output_type": "stream",
     "text": [
      "[[14  0  0  0  0  0  0  0]\n",
      " [ 0  6  0  0  0  0  0  0]\n",
      " [ 0  0  0  0  0  0  0 15]\n",
      " [ 0  0  0 27  0  0  0  0]\n",
      " [ 0  0  0  8  0  0  0  0]\n",
      " [ 2  0  0  0  0  0  0  0]\n",
      " [ 0  0  0  0  0  0  0  4]\n",
      " [ 0  0  0  0  0  0  0 28]]\n",
      "\n",
      "Model:  SVC(C=1.0, cache_size=200, class_weight=None, coef0=0.0,\n",
      "  decision_function_shape='ovr', degree=3, gamma='auto_deprecated',\n",
      "  kernel='rbf', max_iter=-1, probability=False, random_state=None,\n",
      "  shrinking=True, tol=0.001, verbose=False)\n",
      "[[14  0  0  0  0  0  0  0]\n",
      " [ 0  0  1  0  0  0  0  5]\n",
      " [ 0  0  3  0  0  0  0 12]\n",
      " [ 0  0  1 22  0  0  0  4]\n",
      " [ 0  0  0  7  1  0  0  0]\n",
      " [ 2  0  0  0  0  0  0  0]\n",
      " [ 0  2  0  0  0  0  0  2]\n",
      " [ 0  0  1  4  0  0  0 23]]\n",
      "\n",
      "Model:  GradientBoostingClassifier(criterion='friedman_mse', init=None,\n",
      "              learning_rate=0.1, loss='deviance', max_depth=3,\n",
      "              max_features=None, max_leaf_nodes=None,\n",
      "              min_impurity_decrease=0.0, min_impurity_split=None,\n",
      "              min_samples_leaf=1, min_samples_split=2,\n",
      "              min_weight_fraction_leaf=0.0, n_estimators=100,\n",
      "              n_iter_no_change=None, presort='auto', random_state=None,\n",
      "              subsample=1.0, tol=0.0001, validation_fraction=0.1,\n",
      "              verbose=0, warm_start=False)\n"
     ]
    },
    {
     "name": "stderr",
     "output_type": "stream",
     "text": [
      "C:\\Users\\LENOVO\\Anaconda3\\lib\\site-packages\\sklearn\\metrics\\classification.py:1143: UndefinedMetricWarning: F-score is ill-defined and being set to 0.0 in labels with no predicted samples.\n",
      "  'precision', 'predicted', average, warn_for)\n",
      "C:\\Users\\LENOVO\\Anaconda3\\lib\\site-packages\\sklearn\\metrics\\classification.py:1143: UndefinedMetricWarning: Precision is ill-defined and being set to 0.0 in labels with no predicted samples.\n",
      "  'precision', 'predicted', average, warn_for)\n",
      "C:\\Users\\LENOVO\\Anaconda3\\lib\\site-packages\\sklearn\\svm\\base.py:196: FutureWarning: The default value of gamma will change from 'auto' to 'scale' in version 0.22 to account better for unscaled features. Set gamma explicitly to 'auto' or 'scale' to avoid this warning.\n",
      "  \"avoid this warning.\", FutureWarning)\n",
      "C:\\Users\\LENOVO\\Anaconda3\\lib\\site-packages\\sklearn\\metrics\\classification.py:1143: UndefinedMetricWarning: F-score is ill-defined and being set to 0.0 in labels with no predicted samples.\n",
      "  'precision', 'predicted', average, warn_for)\n",
      "C:\\Users\\LENOVO\\Anaconda3\\lib\\site-packages\\sklearn\\metrics\\classification.py:1143: UndefinedMetricWarning: Precision is ill-defined and being set to 0.0 in labels with no predicted samples.\n",
      "  'precision', 'predicted', average, warn_for)\n"
     ]
    },
    {
     "name": "stdout",
     "output_type": "stream",
     "text": [
      "[[14  0  0  0  0  0  0  0]\n",
      " [ 0  6  0  0  0  0  0  0]\n",
      " [ 0  0 15  0  0  0  0  0]\n",
      " [ 0  0  0 27  0  0  0  0]\n",
      " [ 0  0  0  0  8  0  0  0]\n",
      " [ 2  0  0  0  0  0  0  0]\n",
      " [ 0  0  0  0  0  0  4  0]\n",
      " [ 0  0  0  0  0  0  0 28]]\n",
      "\n",
      "Model:  BaggingClassifier(base_estimator=DecisionTreeClassifier(class_weight=None, criterion='gini', max_depth=None,\n",
      "            max_features=None, max_leaf_nodes=None,\n",
      "            min_impurity_decrease=0.0, min_impurity_split=None,\n",
      "            min_samples_leaf=1, min_samples_split=2,\n",
      "            min_weight_fraction_leaf=0.0, presort=False, random_state=None,\n",
      "            splitter='best'),\n",
      "         bootstrap=True, bootstrap_features=False, max_features=1.0,\n",
      "         max_samples=1.0, n_estimators=100, n_jobs=None, oob_score=False,\n",
      "         random_state=None, verbose=0, warm_start=False)\n"
     ]
    },
    {
     "name": "stderr",
     "output_type": "stream",
     "text": [
      "C:\\Users\\LENOVO\\Anaconda3\\lib\\site-packages\\sklearn\\metrics\\classification.py:1143: UndefinedMetricWarning: F-score is ill-defined and being set to 0.0 in labels with no predicted samples.\n",
      "  'precision', 'predicted', average, warn_for)\n",
      "C:\\Users\\LENOVO\\Anaconda3\\lib\\site-packages\\sklearn\\metrics\\classification.py:1143: UndefinedMetricWarning: Precision is ill-defined and being set to 0.0 in labels with no predicted samples.\n",
      "  'precision', 'predicted', average, warn_for)\n"
     ]
    },
    {
     "name": "stdout",
     "output_type": "stream",
     "text": [
      "[[14  0  0  0  0  0  0  0]\n",
      " [ 0  6  0  0  0  0  0  0]\n",
      " [ 0  0 15  0  0  0  0  0]\n",
      " [ 0  0  0 27  0  0  0  0]\n",
      " [ 0  0  0  0  8  0  0  0]\n",
      " [ 2  0  0  0  0  0  0  0]\n",
      " [ 0  0  0  0  0  0  4  0]\n",
      " [ 0  0  0  0  0  0  0 28]]\n",
      "\n",
      "Model:  ExtraTreesClassifier(bootstrap=False, class_weight=None, criterion='gini',\n",
      "           max_depth=None, max_features='auto', max_leaf_nodes=None,\n",
      "           min_impurity_decrease=0.0, min_impurity_split=None,\n",
      "           min_samples_leaf=1, min_samples_split=2,\n",
      "           min_weight_fraction_leaf=0.0, n_estimators=100, n_jobs=None,\n",
      "           oob_score=False, random_state=None, verbose=0, warm_start=False)\n"
     ]
    },
    {
     "name": "stderr",
     "output_type": "stream",
     "text": [
      "C:\\Users\\LENOVO\\Anaconda3\\lib\\site-packages\\sklearn\\metrics\\classification.py:1143: UndefinedMetricWarning: F-score is ill-defined and being set to 0.0 in labels with no predicted samples.\n",
      "  'precision', 'predicted', average, warn_for)\n",
      "C:\\Users\\LENOVO\\Anaconda3\\lib\\site-packages\\sklearn\\metrics\\classification.py:1143: UndefinedMetricWarning: Precision is ill-defined and being set to 0.0 in labels with no predicted samples.\n",
      "  'precision', 'predicted', average, warn_for)\n"
     ]
    },
    {
     "name": "stdout",
     "output_type": "stream",
     "text": [
      "[[14  0  0  0  0  0  0  0]\n",
      " [ 0  4  0  0  0  0  1  1]\n",
      " [ 0  0  7  0  0  0  2  6]\n",
      " [ 0  0  0 24  0  0  0  3]\n",
      " [ 0  0  0  3  5  0  0  0]\n",
      " [ 1  0  0  1  0  0  0  0]\n",
      " [ 0  2  0  0  0  0  1  1]\n",
      " [ 0  0  0  6  0  0  0 22]]\n",
      "\n",
      "Model:  LogisticRegression(C=1.0, class_weight=None, dual=False, fit_intercept=True,\n",
      "          intercept_scaling=1, max_iter=100, multi_class='warn',\n",
      "          n_jobs=None, penalty='l2', random_state=None, solver='warn',\n",
      "          tol=0.0001, verbose=0, warm_start=False)\n",
      "[[14  0  0  0  0  0  0  0]\n",
      " [ 0  0  1  0  0  0  0  5]\n",
      " [ 0  0  3  1  0  0  0 11]\n",
      " [ 0  0  1 19  0  0  0  7]\n",
      " [ 1  0  0  7  0  0  0  0]\n",
      " [ 1  0  0  1  0  0  0  0]\n",
      " [ 0  2  1  0  0  0  0  1]\n",
      " [ 0  0  2 15  0  0  0 11]]\n",
      "\n",
      "                Model  Accuracy  F1 Score  Precision    Recall\n",
      "0          KNeighbors  0.461538  0.423684   0.428963  0.461538\n",
      "1        DecisionTree  0.980769  0.971795   0.963942  0.980769\n",
      "2        RandomForest  0.875000  0.863319   0.864307  0.875000\n",
      "3            AdaBoost  0.721154  0.610476   0.536148  0.721154\n",
      "4                 SVC  0.605769  0.541688   0.574519  0.605769\n",
      "5    GradientBoosting  0.980769  0.971795   0.963942  0.980769\n",
      "6             Bagging  0.980769  0.971795   0.963942  0.980769\n",
      "7          ExtraTrees  0.740385  0.727492   0.757617  0.740385\n",
      "8  LogisticRegression  0.451923  0.398218   0.371204  0.451923\n"
     ]
    },
    {
     "name": "stderr",
     "output_type": "stream",
     "text": [
      "C:\\Users\\LENOVO\\Anaconda3\\lib\\site-packages\\sklearn\\metrics\\classification.py:1143: UndefinedMetricWarning: F-score is ill-defined and being set to 0.0 in labels with no predicted samples.\n",
      "  'precision', 'predicted', average, warn_for)\n",
      "C:\\Users\\LENOVO\\Anaconda3\\lib\\site-packages\\sklearn\\metrics\\classification.py:1143: UndefinedMetricWarning: Precision is ill-defined and being set to 0.0 in labels with no predicted samples.\n",
      "  'precision', 'predicted', average, warn_for)\n",
      "C:\\Users\\LENOVO\\Anaconda3\\lib\\site-packages\\sklearn\\linear_model\\logistic.py:433: FutureWarning: Default solver will be changed to 'lbfgs' in 0.22. Specify a solver to silence this warning.\n",
      "  FutureWarning)\n",
      "C:\\Users\\LENOVO\\Anaconda3\\lib\\site-packages\\sklearn\\linear_model\\logistic.py:460: FutureWarning: Default multi_class will be changed to 'auto' in 0.22. Specify the multi_class option to silence this warning.\n",
      "  \"this warning.\", FutureWarning)\n",
      "C:\\Users\\LENOVO\\Anaconda3\\lib\\site-packages\\sklearn\\metrics\\classification.py:1143: UndefinedMetricWarning: F-score is ill-defined and being set to 0.0 in labels with no predicted samples.\n",
      "  'precision', 'predicted', average, warn_for)\n",
      "C:\\Users\\LENOVO\\Anaconda3\\lib\\site-packages\\sklearn\\metrics\\classification.py:1143: UndefinedMetricWarning: Precision is ill-defined and being set to 0.0 in labels with no predicted samples.\n",
      "  'precision', 'predicted', average, warn_for)\n"
     ]
    }
   ],
   "source": [
    "from sklearn.metrics import (confusion_matrix, classification_report,accuracy_score,f1_score,precision_score,recall_score)\n",
    "from sklearn.neighbors import KNeighborsClassifier\n",
    "from sklearn.tree import DecisionTreeClassifier\n",
    "from sklearn.ensemble import RandomForestClassifier\n",
    "from sklearn.ensemble import AdaBoostClassifier\n",
    "from sklearn.svm import SVC\n",
    "from sklearn.ensemble import GradientBoostingClassifier\n",
    "from sklearn.ensemble import BaggingClassifier\n",
    "from sklearn.ensemble import ExtraTreesClassifier\n",
    "from sklearn.linear_model import LogisticRegression\n",
    "\n",
    "models = [\n",
    "    ('KNeighbors', KNeighborsClassifier()),\n",
    "    ('DecisionTree', DecisionTreeClassifier()),\n",
    "    ('RandomForest', RandomForestClassifier(n_estimators=100)),\n",
    "    ('AdaBoost', AdaBoostClassifier(n_estimators=100)),\n",
    "    ('SVC', SVC()),\n",
    "    ('GradientBoosting', GradientBoostingClassifier()),\n",
    "    ('Bagging', BaggingClassifier(base_estimator=DecisionTreeClassifier(), n_estimators=100)),\n",
    "    ('ExtraTrees', ExtraTreesClassifier(n_estimators=100)),\n",
    "    ('LogisticRegression', LogisticRegression())]\n",
    "\n",
    "scores_df = pd.DataFrame(columns=['Model', 'Accuracy', 'F1 Score', 'Precision', 'Recall'])\n",
    "\n",
    "for name, model in models:\n",
    "    print(\"Model: \", str(model))\n",
    "    model.fit(X_train, y_train)\n",
    "    y_pred = model.predict(X_test)\n",
    "    print(confusion_matrix(y_test,y_pred))\n",
    "    print()\n",
    "\n",
    "    # Calculate the scores\n",
    "    accuracy = accuracy_score(y_test, y_pred)\n",
    "    f1 = f1_score(y_test, y_pred, average='weighted')\n",
    "    precision = precision_score(y_test, y_pred, average='weighted')\n",
    "    recall = recall_score(y_test, y_pred, average='weighted')\n",
    "\n",
    "    # Add scores to the DataFrame\n",
    "    scores_df = scores_df.append({'Model': name, 'Accuracy': accuracy, 'F1 Score': f1, 'Precision': precision, 'Recall': recall}, ignore_index=True)\n",
    "    \n",
    "print(scores_df)\n"
   ]
  },
  {
   "cell_type": "markdown",
   "metadata": {},
   "source": [
    "DecisionTree, GradientBoosting, or RandomForest consistently exhibit high performance across multiple evaluation metrics."
   ]
  },
  {
   "cell_type": "code",
   "execution_count": 112,
   "metadata": {},
   "outputs": [
    {
     "name": "stdout",
     "output_type": "stream",
     "text": [
      "Model : KNeighbors\n",
      "cv_score : [0.33333333 0.36144578 0.40243902 0.32098765 0.24691358]\n",
      "Mean Score 0.33302387508480175\n",
      "Difference between accuracy and cv score is:  0.11889920183827518\n",
      "\n",
      "\n",
      "Model : DecisionTree\n",
      "cv_score : [0.97701149 0.98795181 1.         1.         1.        ]\n",
      "Mean Score 0.9929926602963579\n",
      "Difference between accuracy and cv score is:  -0.541069583373281\n",
      "\n",
      "\n",
      "Model : RandomForest\n",
      "cv_score : [0.90804598 0.93975904 0.96341463 0.97530864 0.96296296]\n",
      "Mean Score 0.949898250448137\n",
      "Difference between accuracy and cv score is:  -0.4979751735250601\n",
      "\n",
      "\n",
      "Model : AdaBoost\n",
      "cv_score : [0.71264368 0.75903614 0.76829268 0.7654321  0.7654321 ]\n",
      "Mean Score 0.7541673406393852\n",
      "Difference between accuracy and cv score is:  -0.30224426371630825\n",
      "\n",
      "\n"
     ]
    },
    {
     "name": "stderr",
     "output_type": "stream",
     "text": [
      "C:\\Users\\LENOVO\\Anaconda3\\lib\\site-packages\\sklearn\\svm\\base.py:196: FutureWarning: The default value of gamma will change from 'auto' to 'scale' in version 0.22 to account better for unscaled features. Set gamma explicitly to 'auto' or 'scale' to avoid this warning.\n",
      "  \"avoid this warning.\", FutureWarning)\n",
      "C:\\Users\\LENOVO\\Anaconda3\\lib\\site-packages\\sklearn\\svm\\base.py:196: FutureWarning: The default value of gamma will change from 'auto' to 'scale' in version 0.22 to account better for unscaled features. Set gamma explicitly to 'auto' or 'scale' to avoid this warning.\n",
      "  \"avoid this warning.\", FutureWarning)\n",
      "C:\\Users\\LENOVO\\Anaconda3\\lib\\site-packages\\sklearn\\svm\\base.py:196: FutureWarning: The default value of gamma will change from 'auto' to 'scale' in version 0.22 to account better for unscaled features. Set gamma explicitly to 'auto' or 'scale' to avoid this warning.\n",
      "  \"avoid this warning.\", FutureWarning)\n",
      "C:\\Users\\LENOVO\\Anaconda3\\lib\\site-packages\\sklearn\\svm\\base.py:196: FutureWarning: The default value of gamma will change from 'auto' to 'scale' in version 0.22 to account better for unscaled features. Set gamma explicitly to 'auto' or 'scale' to avoid this warning.\n",
      "  \"avoid this warning.\", FutureWarning)\n",
      "C:\\Users\\LENOVO\\Anaconda3\\lib\\site-packages\\sklearn\\svm\\base.py:196: FutureWarning: The default value of gamma will change from 'auto' to 'scale' in version 0.22 to account better for unscaled features. Set gamma explicitly to 'auto' or 'scale' to avoid this warning.\n",
      "  \"avoid this warning.\", FutureWarning)\n"
     ]
    },
    {
     "name": "stdout",
     "output_type": "stream",
     "text": [
      "Model : SVC\n",
      "cv_score : [0.28735632 0.31325301 0.32926829 0.32098765 0.30864198]\n",
      "Mean Score 0.31190145123996593\n",
      "Difference between accuracy and cv score is:  0.140021625683111\n",
      "\n",
      "\n",
      "Model : GradientBoosting\n",
      "cv_score : [0.97701149 1.         1.         1.         0.98765432]\n",
      "Mean Score 0.9929331630481055\n",
      "Difference between accuracy and cv score is:  -0.5410100861250287\n",
      "\n",
      "\n",
      "Model : Bagging\n",
      "cv_score : [0.97701149 1.         1.         1.         1.        ]\n",
      "Mean Score 0.9954022988505746\n",
      "Difference between accuracy and cv score is:  -0.5434792219274978\n",
      "\n",
      "\n",
      "Model : ExtraTrees\n",
      "cv_score : [0.71264368 0.74698795 0.8902439  0.80246914 0.83950617]\n",
      "Mean Score 0.7983701682098296\n",
      "Difference between accuracy and cv score is:  -0.3464470912867527\n",
      "\n",
      "\n"
     ]
    },
    {
     "name": "stderr",
     "output_type": "stream",
     "text": [
      "C:\\Users\\LENOVO\\Anaconda3\\lib\\site-packages\\sklearn\\linear_model\\logistic.py:433: FutureWarning: Default solver will be changed to 'lbfgs' in 0.22. Specify a solver to silence this warning.\n",
      "  FutureWarning)\n",
      "C:\\Users\\LENOVO\\Anaconda3\\lib\\site-packages\\sklearn\\linear_model\\logistic.py:460: FutureWarning: Default multi_class will be changed to 'auto' in 0.22. Specify the multi_class option to silence this warning.\n",
      "  \"this warning.\", FutureWarning)\n",
      "C:\\Users\\LENOVO\\Anaconda3\\lib\\site-packages\\sklearn\\linear_model\\logistic.py:433: FutureWarning: Default solver will be changed to 'lbfgs' in 0.22. Specify a solver to silence this warning.\n",
      "  FutureWarning)\n",
      "C:\\Users\\LENOVO\\Anaconda3\\lib\\site-packages\\sklearn\\linear_model\\logistic.py:460: FutureWarning: Default multi_class will be changed to 'auto' in 0.22. Specify the multi_class option to silence this warning.\n",
      "  \"this warning.\", FutureWarning)\n",
      "C:\\Users\\LENOVO\\Anaconda3\\lib\\site-packages\\sklearn\\linear_model\\logistic.py:433: FutureWarning: Default solver will be changed to 'lbfgs' in 0.22. Specify a solver to silence this warning.\n",
      "  FutureWarning)\n",
      "C:\\Users\\LENOVO\\Anaconda3\\lib\\site-packages\\sklearn\\linear_model\\logistic.py:460: FutureWarning: Default multi_class will be changed to 'auto' in 0.22. Specify the multi_class option to silence this warning.\n",
      "  \"this warning.\", FutureWarning)\n",
      "C:\\Users\\LENOVO\\Anaconda3\\lib\\site-packages\\sklearn\\linear_model\\logistic.py:433: FutureWarning: Default solver will be changed to 'lbfgs' in 0.22. Specify a solver to silence this warning.\n",
      "  FutureWarning)\n",
      "C:\\Users\\LENOVO\\Anaconda3\\lib\\site-packages\\sklearn\\linear_model\\logistic.py:460: FutureWarning: Default multi_class will be changed to 'auto' in 0.22. Specify the multi_class option to silence this warning.\n",
      "  \"this warning.\", FutureWarning)\n"
     ]
    },
    {
     "name": "stdout",
     "output_type": "stream",
     "text": [
      "Model : LogisticRegression\n",
      "cv_score : [0.47126437 0.54216867 0.54878049 0.48148148 0.48148148]\n",
      "Mean Score 0.5050352986565456\n",
      "Difference between accuracy and cv score is:  -0.05311222173346869\n",
      "\n",
      "\n"
     ]
    },
    {
     "name": "stderr",
     "output_type": "stream",
     "text": [
      "C:\\Users\\LENOVO\\Anaconda3\\lib\\site-packages\\sklearn\\linear_model\\logistic.py:433: FutureWarning: Default solver will be changed to 'lbfgs' in 0.22. Specify a solver to silence this warning.\n",
      "  FutureWarning)\n",
      "C:\\Users\\LENOVO\\Anaconda3\\lib\\site-packages\\sklearn\\linear_model\\logistic.py:460: FutureWarning: Default multi_class will be changed to 'auto' in 0.22. Specify the multi_class option to silence this warning.\n",
      "  \"this warning.\", FutureWarning)\n"
     ]
    }
   ],
   "source": [
    "# checking cv score for different classifiers\n",
    "for name, model in models:\n",
    "    cv_score = cross_val_score(model, X_c, y, cv=5, scoring='accuracy')\n",
    "    accuracy = accuracy_score(y_test, y_pred)\n",
    "    print('Model :', name)\n",
    "    print('cv_score :',cv_score)\n",
    "    print('Mean Score', cv_score.mean())\n",
    "    print(\"Difference between accuracy and cv score is: \", accuracy-cv_score.mean())\n",
    "    print(\"\\n\")"
   ]
  },
  {
   "cell_type": "markdown",
   "metadata": {},
   "source": [
    "DecisionTree, RandomForest, and Bagging appear to be strong candidates for the best model.\n"
   ]
  },
  {
   "cell_type": "markdown",
   "metadata": {},
   "source": [
    "\"DecisionTree\" model is the best performing model among all. Here are the key reasons for selecting the DecisionTree model:\n",
    "\n",
    "High Accuracy: The DecisionTree model has an accuracy of 98.08%, which is the highest among the models you've tested. This indicates that it correctly predicts the classes for most of the samples.\n",
    "\n",
    "High F1 Score: The F1 Score, which is a balance between precision and recall, is also very high at 97.18%. This means the model achieves a good balance between minimizing false positives and false negatives.\n",
    "\n",
    "High Precision: The precision of the DecisionTree model is 96.39%, indicating that when it predicts a class, it is often correct.\n",
    "\n",
    "High Recall: The recall of the DecisionTree model is 98.08%, which indicates that the model captures most of the positive samples.\n",
    "\n",
    "Stability: The model has a relatively small difference between accuracy and cross-validation scores, which suggests stability."
   ]
  },
  {
   "cell_type": "code",
   "execution_count": 113,
   "metadata": {},
   "outputs": [
    {
     "name": "stderr",
     "output_type": "stream",
     "text": [
      "C:\\Users\\LENOVO\\Anaconda3\\lib\\site-packages\\sklearn\\model_selection\\_split.py:2053: FutureWarning: You should specify a value for 'cv' instead of relying on the default value. The default value will change from 3 to 5 in version 0.22.\n",
      "  warnings.warn(CV_WARNING, FutureWarning)\n"
     ]
    },
    {
     "name": "stdout",
     "output_type": "stream",
     "text": [
      "Best Hyperparameters: {'max_depth': 20, 'min_samples_leaf': 1, 'min_samples_split': 2}\n"
     ]
    }
   ],
   "source": [
    "#hyperparameter tuning\n",
    "\n",
    "# Define the Decision Tree model\n",
    "dt_model = DecisionTreeClassifier()\n",
    "\n",
    "# Define the hyperparameters to search through\n",
    "param_grid = {\n",
    "    'max_depth': [None, 10, 20],\n",
    "    'min_samples_split': [2, 5, 10],\n",
    "    'min_samples_leaf': [1, 2, 4]\n",
    "}\n",
    "\n",
    "# Perform Grid Search\n",
    "grid_search = GridSearchCV(estimator=dt_model, param_grid=param_grid)\n",
    "grid_search.fit(X_train, y_train)\n",
    "\n",
    "# Get the best hyperparameters and model\n",
    "best_params = grid_search.best_params_\n",
    "best_model = grid_search.best_estimator_\n",
    "\n",
    "print(\"Best Hyperparameters:\", best_params)"
   ]
  },
  {
   "cell_type": "code",
   "execution_count": 115,
   "metadata": {},
   "outputs": [
    {
     "name": "stdout",
     "output_type": "stream",
     "text": [
      "Accuracy :  0.9807692307692307\n"
     ]
    }
   ],
   "source": [
    "# final model\n",
    "final = DecisionTreeClassifier(max_depth=20 ,min_samples_leaf=1 ,min_samples_split=2)\n",
    "final.fit(X_train,y_train)\n",
    "final_pred = final.predict(X_test)\n",
    "print(\"Accuracy : \", accuracy_score(y_test, final_pred))"
   ]
  },
  {
   "cell_type": "code",
   "execution_count": 116,
   "metadata": {},
   "outputs": [
    {
     "data": {
      "text/plain": [
       "['Hotel_reviewscore.pkl']"
      ]
     },
     "execution_count": 116,
     "metadata": {},
     "output_type": "execute_result"
    }
   ],
   "source": [
    "# saving the model\n",
    "import joblib\n",
    "joblib.dump(final, \"Hotel_reviewscore.pkl\")"
   ]
  },
  {
   "cell_type": "code",
   "execution_count": null,
   "metadata": {},
   "outputs": [],
   "source": []
  }
 ],
 "metadata": {
  "kernelspec": {
   "display_name": "Python 3",
   "language": "python",
   "name": "python3"
  },
  "language_info": {
   "codemirror_mode": {
    "name": "ipython",
    "version": 3
   },
   "file_extension": ".py",
   "mimetype": "text/x-python",
   "name": "python",
   "nbconvert_exporter": "python",
   "pygments_lexer": "ipython3",
   "version": "3.7.3"
  }
 },
 "nbformat": 4,
 "nbformat_minor": 4
}
