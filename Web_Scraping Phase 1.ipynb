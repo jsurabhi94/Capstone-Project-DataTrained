{
 "cells": [
  {
   "cell_type": "code",
   "execution_count": 1,
   "metadata": {},
   "outputs": [],
   "source": [
    "import selenium\n",
    "from selenium import webdriver\n",
    "from selenium.webdriver.common.by import By\n",
    "from selenium.webdriver.common.keys import Keys\n",
    "from selenium.webdriver.support.ui import WebDriverWait\n",
    "from selenium.webdriver.support import expected_conditions as EC\n",
    "import time\n",
    "import warnings\n",
    "warnings.filterwarnings('ignore')\n"
   ]
  },
  {
   "cell_type": "code",
   "execution_count": 2,
   "metadata": {},
   "outputs": [],
   "source": [
    "# connecting to the driver\n",
    "driver = webdriver.Chrome(r\"C:\\Users\\LENOVO\\Downloads\\chromedriver.exe\")"
   ]
  },
  {
   "cell_type": "code",
   "execution_count": 3,
   "metadata": {},
   "outputs": [],
   "source": [
    "# opening the website\n",
    "website = \"https://www.booking.com/index.en-gb.html?aid=397646&label=yho748jc-1DCAEoggI46AdIM1gDaGyIAQGYAQm4ARfIAQzYAQPoAQGIAgGoAgO4Ap3Y96YGwAIB0gIkY2NlMDIyZmItZDdlZi00MWVkLWE5YzUtNmIzNmE1NWI\"\n",
    "driver.get(website)\n",
    "time.sleep(5)"
   ]
  },
  {
   "cell_type": "code",
   "execution_count": 5,
   "metadata": {},
   "outputs": [],
   "source": [
    "# Click to close the pop-up\n",
    "driver.find_element(By.XPATH, '/html/body/div[19]/div/div/div/div[1]/div[1]/div/button').click()"
   ]
  },
  {
   "cell_type": "code",
   "execution_count": 6,
   "metadata": {},
   "outputs": [],
   "source": [
    "#Scroll to the bottom of the page\n",
    "driver.execute_script(\"window.scrollTo(0, document.body.scrollHeight);\")"
   ]
  },
  {
   "cell_type": "code",
   "execution_count": 7,
   "metadata": {},
   "outputs": [],
   "source": [
    "# clicking the cities tab\n",
    "driver.find_element(By.XPATH, '//*[@id=\"footer_links\"]/div[1]/ul/li[3]/a').click()\n",
    "time.sleep(10)"
   ]
  },
  {
   "cell_type": "code",
   "execution_count": 8,
   "metadata": {},
   "outputs": [],
   "source": [
    "# Click to close the pop-up\n",
    "driver.find_element(By.XPATH, '/html/body/div[15]/div/button').click()"
   ]
  },
  {
   "cell_type": "markdown",
   "metadata": {},
   "source": [
    "We have to scrape data for the following cities--\n",
    "1 Dubai, United Arab Emirates\n",
    "2 London, United Kingdom\n",
    "3 Kuala Lumpur, Malaysia\n",
    "4 Manchester\n",
    "5 New Delhi\n",
    "6 Birmingham\n",
    "7 Berlin\n",
    "8 Sydney\n",
    "9 Melbourne\n",
    "10  Paris\n",
    "11 Tokyo\n",
    "12 Toronto"
   ]
  },
  {
   "cell_type": "code",
   "execution_count": 9,
   "metadata": {},
   "outputs": [],
   "source": [
    "# Define the list of city names you're interested in\n",
    "cities_of_interest = [\"Dubai\", \"London\", \"Kuala Lumpur\",\"Manchester\", \"New Delhi\", \"Birmingham\", \"Berlin\",\n",
    "                      \"Sydney\",\"Melbourne\",\"Paris\", \"Tokyo\", \"Toronto\"]\n",
    "\n",
    "# Find all the city name elements\n",
    "name_elements = driver.find_elements(By.XPATH, '//div[@class=\"block_header\"]/h2/a')\n",
    "\n",
    "# Initialize a list to store the city names\n",
    "name = []\n",
    "\n",
    "for element in name_elements:\n",
    "    city_name = element.text\n",
    "    # Manipulate the text to extract the city name correctly\n",
    "    city_name = city_name.strip('Hotels in ').split(',')[0]\n",
    "    name.append(city_name)"
   ]
  },
  {
   "cell_type": "code",
   "execution_count": 11,
   "metadata": {},
   "outputs": [],
   "source": [
    "# finding the url for cities_of_interest\n",
    "\n",
    "# Initialize a list to store city URLs\n",
    "cities_url = []\n",
    "\n",
    "# Find the URLs for cities of interest\n",
    "for city_name, city_url in zip(name, driver.find_elements(By.XPATH, '//div[@class=\"block_header\"]/h2/a')):\n",
    "    if city_name in cities_of_interest:\n",
    "        cities_url.append(city_url.get_attribute('href'))"
   ]
  },
  {
   "cell_type": "code",
   "execution_count": 14,
   "metadata": {},
   "outputs": [
    {
     "data": {
      "text/plain": [
       "['https://www.booking.com/city/ae/dubai.en-gb.html?aid=397646&label=yho748jc-1FmAEJ2AEB-AENqAID2AIE&sid=535394a0dafbf4dfdb287a72428ac235&inac=0&',\n",
       " 'https://www.booking.com/city/gb/london.en-gb.html?aid=397646&label=yho748jc-1FmAEJ2AEB-AENqAID2AIE&sid=535394a0dafbf4dfdb287a72428ac235&inac=0&',\n",
       " 'https://www.booking.com/city/au/sydney.en-gb.html?aid=397646&label=yho748jc-1FmAEJ2AEB-AENqAID2AIE&sid=535394a0dafbf4dfdb287a72428ac235&inac=0&',\n",
       " 'https://www.booking.com/city/au/melbourne.en-gb.html?aid=397646&label=yho748jc-1FmAEJ2AEB-AENqAID2AIE&sid=535394a0dafbf4dfdb287a72428ac235&inac=0&',\n",
       " 'https://www.booking.com/city/fr/paris.en-gb.html?aid=397646&label=yho748jc-1FmAEJ2AEB-AENqAID2AIE&sid=535394a0dafbf4dfdb287a72428ac235&inac=0&',\n",
       " 'https://www.booking.com/city/de/berlin.en-gb.html?aid=397646&label=yho748jc-1FmAEJ2AEB-AENqAID2AIE&sid=535394a0dafbf4dfdb287a72428ac235&inac=0&',\n",
       " 'https://www.booking.com/city/gb/manchester.en-gb.html?aid=397646&label=yho748jc-1FmAEJ2AEB-AENqAID2AIE&sid=535394a0dafbf4dfdb287a72428ac235&inac=0&',\n",
       " 'https://www.booking.com/city/my/kuala-lumpur.en-gb.html?aid=397646&label=yho748jc-1FmAEJ2AEB-AENqAID2AIE&sid=535394a0dafbf4dfdb287a72428ac235&inac=0&',\n",
       " 'https://www.booking.com/city/ca/toronto.en-gb.html?aid=397646&label=yho748jc-1FmAEJ2AEB-AENqAID2AIE&sid=535394a0dafbf4dfdb287a72428ac235&inac=0&',\n",
       " 'https://www.booking.com/city/jp/tokyo.en-gb.html?aid=397646&label=yho748jc-1FmAEJ2AEB-AENqAID2AIE&sid=535394a0dafbf4dfdb287a72428ac235&inac=0&',\n",
       " 'https://www.booking.com/city/gb/birmingham.en-gb.html?aid=397646&label=yho748jc-1FmAEJ2AEB-AENqAID2AIE&sid=535394a0dafbf4dfdb287a72428ac235&inac=0&',\n",
       " 'https://www.booking.com/city/in/new-delhi.en-gb.html?aid=397646&label=yho748jc-1FmAEJ2AEB-AENqAID2AIE&sid=535394a0dafbf4dfdb287a72428ac235&inac=0&']"
      ]
     },
     "execution_count": 14,
     "metadata": {},
     "output_type": "execute_result"
    }
   ],
   "source": [
    "cities_url = cities_url[:12]\n",
    "cities_url"
   ]
  },
  {
   "cell_type": "code",
   "execution_count": 15,
   "metadata": {},
   "outputs": [
    {
     "name": "stdout",
     "output_type": "stream",
     "text": [
      "Stored 'cities_url' (list)\n"
     ]
    }
   ],
   "source": [
    "%store cities_url"
   ]
  },
  {
   "cell_type": "code",
   "execution_count": null,
   "metadata": {},
   "outputs": [],
   "source": []
  }
 ],
 "metadata": {
  "kernelspec": {
   "display_name": "Python 3",
   "language": "python",
   "name": "python3"
  },
  "language_info": {
   "codemirror_mode": {
    "name": "ipython",
    "version": 3
   },
   "file_extension": ".py",
   "mimetype": "text/x-python",
   "name": "python",
   "nbconvert_exporter": "python",
   "pygments_lexer": "ipython3",
   "version": "3.7.3"
  }
 },
 "nbformat": 4,
 "nbformat_minor": 4
}
